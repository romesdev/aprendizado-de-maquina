{
  "nbformat": 4,
  "nbformat_minor": 0,
  "metadata": {
    "colab": {
      "name": "lista-10.ipynb",
      "provenance": []
    },
    "kernelspec": {
      "name": "python3",
      "display_name": "Python 3"
    },
    "language_info": {
      "name": "python"
    }
  },
  "cells": [
    {
      "cell_type": "markdown",
      "metadata": {
        "id": "LIpS4yLZf9tS"
      },
      "source": [
        "## Lista de exercícios - 010\n",
        "\n",
        "### Francisco Romes da Silva Filho, 409976"
      ]
    },
    {
      "cell_type": "markdown",
      "metadata": {
        "id": "OIljnW6wg37n"
      },
      "source": [
        "## Resolva o problema de classificação binária sobre o dataset \"Pima Indians Diabetes Database\""
      ]
    },
    {
      "cell_type": "markdown",
      "metadata": {
        "id": "aRQPYc8ygJr9"
      },
      "source": [
        "Montando o Drive!"
      ]
    },
    {
      "cell_type": "code",
      "metadata": {
        "colab": {
          "base_uri": "https://localhost:8080/"
        },
        "id": "69_vDzzlgL8Q",
        "outputId": "ee040a2b-f1ef-4156-aa85-a2cd0332d995"
      },
      "source": [
        "from google.colab import drive\n",
        "drive.mount('/content/drive')"
      ],
      "execution_count": 1,
      "outputs": [
        {
          "output_type": "stream",
          "text": [
            "Drive already mounted at /content/drive; to attempt to forcibly remount, call drive.mount(\"/content/drive\", force_remount=True).\n"
          ],
          "name": "stdout"
        }
      ]
    },
    {
      "cell_type": "markdown",
      "metadata": {
        "id": "nKXNeRQlggDz"
      },
      "source": [
        "### Imports de bibliotecas"
      ]
    },
    {
      "cell_type": "code",
      "metadata": {
        "id": "1DT5Ey_ggX1R"
      },
      "source": [
        "import numpy as np\n",
        "import pandas as pd\n",
        "from sklearn.model_selection import train_test_split\n",
        "from sklearn.model_selection import GridSearchCV\n",
        "from sklearn.metrics import f1_score\n",
        "import matplotlib.pyplot as plt\n",
        "from sklearn import tree\n",
        "from sklearn.neighbors import KNeighborsClassifier\n",
        "from sklearn.linear_model import LogisticRegression\n",
        "from sklearn.naive_bayes import GaussianNB\n",
        "from sklearn.ensemble import VotingClassifier\n",
        "from sklearn.ensemble import BaggingClassifier\n",
        "from sklearn.ensemble import RandomForestClassifier\n",
        "from sklearn.ensemble import AdaBoostClassifier\n",
        "from sklearn.ensemble import GradientBoostingClassifier"
      ],
      "execution_count": 2,
      "outputs": []
    },
    {
      "cell_type": "markdown",
      "metadata": {
        "id": "xy_f3q4FgtgX"
      },
      "source": [
        "### Dataset"
      ]
    },
    {
      "cell_type": "code",
      "metadata": {
        "colab": {
          "base_uri": "https://localhost:8080/"
        },
        "id": "PX28kYHEgo6s",
        "outputId": "0a1702c1-5fce-4bf8-c230-2810ae169aa2"
      },
      "source": [
        "# Pima Indians Diabetes Database\n",
        "data = pd.read_csv('/content/drive/My Drive/Colab Notebooks/diabetes.csv')\n",
        "print(\"Forma do dataset: \", data.shape[1], \" features e \", data.shape[0], \" amostras!\")"
      ],
      "execution_count": 3,
      "outputs": [
        {
          "output_type": "stream",
          "text": [
            "Forma do dataset:  9  features e  768  amostras!\n"
          ],
          "name": "stdout"
        }
      ]
    },
    {
      "cell_type": "code",
      "metadata": {
        "colab": {
          "base_uri": "https://localhost:8080/",
          "height": 204
        },
        "id": "LsMpljBzgwAU",
        "outputId": "e2ed90c0-eaeb-4a0e-cf6d-09108d135ade"
      },
      "source": [
        "data.head()"
      ],
      "execution_count": 4,
      "outputs": [
        {
          "output_type": "execute_result",
          "data": {
            "text/html": [
              "<div>\n",
              "<style scoped>\n",
              "    .dataframe tbody tr th:only-of-type {\n",
              "        vertical-align: middle;\n",
              "    }\n",
              "\n",
              "    .dataframe tbody tr th {\n",
              "        vertical-align: top;\n",
              "    }\n",
              "\n",
              "    .dataframe thead th {\n",
              "        text-align: right;\n",
              "    }\n",
              "</style>\n",
              "<table border=\"1\" class=\"dataframe\">\n",
              "  <thead>\n",
              "    <tr style=\"text-align: right;\">\n",
              "      <th></th>\n",
              "      <th>Pregnancies</th>\n",
              "      <th>Glucose</th>\n",
              "      <th>BloodPressure</th>\n",
              "      <th>SkinThickness</th>\n",
              "      <th>Insulin</th>\n",
              "      <th>BMI</th>\n",
              "      <th>DiabetesPedigreeFunction</th>\n",
              "      <th>Age</th>\n",
              "      <th>Outcome</th>\n",
              "    </tr>\n",
              "  </thead>\n",
              "  <tbody>\n",
              "    <tr>\n",
              "      <th>0</th>\n",
              "      <td>6</td>\n",
              "      <td>148</td>\n",
              "      <td>72</td>\n",
              "      <td>35</td>\n",
              "      <td>0</td>\n",
              "      <td>33.6</td>\n",
              "      <td>0.627</td>\n",
              "      <td>50</td>\n",
              "      <td>1</td>\n",
              "    </tr>\n",
              "    <tr>\n",
              "      <th>1</th>\n",
              "      <td>1</td>\n",
              "      <td>85</td>\n",
              "      <td>66</td>\n",
              "      <td>29</td>\n",
              "      <td>0</td>\n",
              "      <td>26.6</td>\n",
              "      <td>0.351</td>\n",
              "      <td>31</td>\n",
              "      <td>0</td>\n",
              "    </tr>\n",
              "    <tr>\n",
              "      <th>2</th>\n",
              "      <td>8</td>\n",
              "      <td>183</td>\n",
              "      <td>64</td>\n",
              "      <td>0</td>\n",
              "      <td>0</td>\n",
              "      <td>23.3</td>\n",
              "      <td>0.672</td>\n",
              "      <td>32</td>\n",
              "      <td>1</td>\n",
              "    </tr>\n",
              "    <tr>\n",
              "      <th>3</th>\n",
              "      <td>1</td>\n",
              "      <td>89</td>\n",
              "      <td>66</td>\n",
              "      <td>23</td>\n",
              "      <td>94</td>\n",
              "      <td>28.1</td>\n",
              "      <td>0.167</td>\n",
              "      <td>21</td>\n",
              "      <td>0</td>\n",
              "    </tr>\n",
              "    <tr>\n",
              "      <th>4</th>\n",
              "      <td>0</td>\n",
              "      <td>137</td>\n",
              "      <td>40</td>\n",
              "      <td>35</td>\n",
              "      <td>168</td>\n",
              "      <td>43.1</td>\n",
              "      <td>2.288</td>\n",
              "      <td>33</td>\n",
              "      <td>1</td>\n",
              "    </tr>\n",
              "  </tbody>\n",
              "</table>\n",
              "</div>"
            ],
            "text/plain": [
              "   Pregnancies  Glucose  BloodPressure  ...  DiabetesPedigreeFunction  Age  Outcome\n",
              "0            6      148             72  ...                     0.627   50        1\n",
              "1            1       85             66  ...                     0.351   31        0\n",
              "2            8      183             64  ...                     0.672   32        1\n",
              "3            1       89             66  ...                     0.167   21        0\n",
              "4            0      137             40  ...                     2.288   33        1\n",
              "\n",
              "[5 rows x 9 columns]"
            ]
          },
          "metadata": {
            "tags": []
          },
          "execution_count": 4
        }
      ]
    },
    {
      "cell_type": "code",
      "metadata": {
        "colab": {
          "base_uri": "https://localhost:8080/",
          "height": 35
        },
        "id": "2j0zL9Wojgtn",
        "outputId": "8dae4467-589d-45e7-e727-f8eeab6a56ec"
      },
      "source": [
        "data.columns[-1]"
      ],
      "execution_count": 5,
      "outputs": [
        {
          "output_type": "execute_result",
          "data": {
            "application/vnd.google.colaboratory.intrinsic+json": {
              "type": "string"
            },
            "text/plain": [
              "'Outcome'"
            ]
          },
          "metadata": {
            "tags": []
          },
          "execution_count": 5
        }
      ]
    },
    {
      "cell_type": "markdown",
      "metadata": {
        "id": "U8VK7EvPhCvh"
      },
      "source": [
        "### 1. Separe os dados em treino (80%) e teste (20%).\n"
      ]
    },
    {
      "cell_type": "code",
      "metadata": {
        "id": "oFUXuvpBhHpf"
      },
      "source": [
        "X = data.drop(['Outcome'], axis=1)\n",
        "y = data['Outcome']"
      ],
      "execution_count": 6,
      "outputs": []
    },
    {
      "cell_type": "code",
      "metadata": {
        "id": "WWPJN-eRgycc"
      },
      "source": [
        "X_train, X_test, y_train, y_test = train_test_split(X, y, test_size=0.2, random_state=0, stratify=y)"
      ],
      "execution_count": 7,
      "outputs": []
    },
    {
      "cell_type": "markdown",
      "metadata": {
        "id": "pUcoQXcohRFT"
      },
      "source": [
        "### 2. Crie um modelo de árvore de decisão sobre o conjunto de treino e faça o que se pede:\n"
      ]
    },
    {
      "cell_type": "markdown",
      "metadata": {
        "id": "CkkdfXr1h7VF"
      },
      "source": [
        "##### Criando modelo de DT"
      ]
    },
    {
      "cell_type": "code",
      "metadata": {
        "id": "02Lwm5kchTX6"
      },
      "source": [
        "dt = tree.DecisionTreeClassifier(random_state=0)"
      ],
      "execution_count": 8,
      "outputs": []
    },
    {
      "cell_type": "code",
      "metadata": {
        "id": "h2Jlsk4CiEh5"
      },
      "source": [
        "dt = dt.fit(X_train, y_train)"
      ],
      "execution_count": 9,
      "outputs": []
    },
    {
      "cell_type": "code",
      "metadata": {
        "colab": {
          "base_uri": "https://localhost:8080/"
        },
        "id": "6Yu60BxkiK5z",
        "outputId": "09c75cee-3788-46bf-c051-24745a13c172"
      },
      "source": [
        "dt.score(X_train, y_train)"
      ],
      "execution_count": 10,
      "outputs": [
        {
          "output_type": "execute_result",
          "data": {
            "text/plain": [
              "1.0"
            ]
          },
          "metadata": {
            "tags": []
          },
          "execution_count": 10
        }
      ]
    },
    {
      "cell_type": "markdown",
      "metadata": {
        "id": "EfhpYbMmiR0o"
      },
      "source": [
        "#### 2.1 Mostre a importância das features.\n"
      ]
    },
    {
      "cell_type": "code",
      "metadata": {
        "colab": {
          "base_uri": "https://localhost:8080/"
        },
        "id": "zroqUqdjiNbH",
        "outputId": "3f7a4e82-90a8-4a5a-d6fa-2da933be77d2"
      },
      "source": [
        "print(\"Importância das features ==>\", dt.feature_importances_)"
      ],
      "execution_count": 11,
      "outputs": [
        {
          "output_type": "stream",
          "text": [
            "Importância das features ==> [0.08951096 0.26930121 0.06620534 0.07107732 0.04582408 0.19529375\n",
            " 0.14249679 0.12029053]\n"
          ],
          "name": "stdout"
        }
      ]
    },
    {
      "cell_type": "markdown",
      "metadata": {
        "id": "sCjGLqNCi0u7"
      },
      "source": [
        "#### 2.2 Desenhe a árvore de decisão.\n"
      ]
    },
    {
      "cell_type": "code",
      "metadata": {
        "colab": {
          "base_uri": "https://localhost:8080/",
          "height": 846
        },
        "id": "FjA7xqY9jRvS",
        "outputId": "a49342f9-fd54-45e4-ffc8-5a5d98b215ab"
      },
      "source": [
        "fig = plt.figure(figsize=(20,15))\n",
        "_ = tree.plot_tree(dt, \n",
        "                   feature_names= data.columns,  \n",
        "                   class_names= data.columns[-1],\n",
        "                   filled=True)"
      ],
      "execution_count": 12,
      "outputs": [
        {
          "output_type": "display_data",
          "data": {
            "image/png": "[encoded data removed]",
            "text/plain": [
              "<Figure size 1440x1080 with 1 Axes>"
            ]
          },
          "metadata": {
            "tags": [],
            "needs_background": "light"
          }
        }
      ]
    },
    {
      "cell_type": "markdown",
      "metadata": {
        "id": "FLq9bXG0k1k8"
      },
      "source": [
        "#### 2.3 Calcule e mostre F1-Score sobre os dados de treino e sobre os dados de teste."
      ]
    },
    {
      "cell_type": "markdown",
      "metadata": {
        "id": "07wiJ_ZLlDSb"
      },
      "source": [
        "##### F1-Score sobre os dados de treino"
      ]
    },
    {
      "cell_type": "code",
      "metadata": {
        "colab": {
          "base_uri": "https://localhost:8080/"
        },
        "id": "LFDWnIKAlIfo",
        "outputId": "1f8583d1-b465-4dc0-f857-92e73950421b"
      },
      "source": [
        "y_pred = dt.predict(X_train)\n",
        "f1_score(y_train, y_pred)"
      ],
      "execution_count": 13,
      "outputs": [
        {
          "output_type": "execute_result",
          "data": {
            "text/plain": [
              "1.0"
            ]
          },
          "metadata": {
            "tags": []
          },
          "execution_count": 13
        }
      ]
    },
    {
      "cell_type": "markdown",
      "metadata": {
        "id": "ldyzj6TWm-Vi"
      },
      "source": [
        "#### F1-Score sobre os dados de teste"
      ]
    },
    {
      "cell_type": "code",
      "metadata": {
        "id": "fF0cxUQ4lSoo"
      },
      "source": [
        "y_pred = dt.predict(X_test)"
      ],
      "execution_count": 14,
      "outputs": []
    },
    {
      "cell_type": "code",
      "metadata": {
        "colab": {
          "base_uri": "https://localhost:8080/"
        },
        "id": "7h54_zLek7j8",
        "outputId": "1156cbd8-e4af-4470-bb2f-82edbc32cb4c"
      },
      "source": [
        "f1_score(y_test, y_pred)"
      ],
      "execution_count": 15,
      "outputs": [
        {
          "output_type": "execute_result",
          "data": {
            "text/plain": [
              "0.5"
            ]
          },
          "metadata": {
            "tags": []
          },
          "execution_count": 15
        }
      ]
    },
    {
      "cell_type": "markdown",
      "metadata": {
        "id": "uxqJNme4oZ03"
      },
      "source": [
        "### 3. Crie um modelo ensemble de Votação (MajorityVoteClassifier) sobre o conjunto de treino usando pelo menos 3 algoritmos de aprendizado de máquina. Compare o resultado de usar os modelos isoladamente com o resultado usando o MajorityVoteClassifier sobre o conjunto de teste usando a métrica F1-Score. Pode se basear no seguinte documento, mas não precisa usar k-Fold Cross Validation."
      ]
    },
    {
      "cell_type": "markdown",
      "metadata": {
        "id": "d1EUaBymqn0_"
      },
      "source": [
        "#### Os 4 modelos escolhidos"
      ]
    },
    {
      "cell_type": "code",
      "metadata": {
        "id": "QWr1kRpZoa6l"
      },
      "source": [
        "# Modelos\n",
        "knn = KNeighborsClassifier()\n",
        "dt = tree.DecisionTreeClassifier(random_state=0)\n",
        "lr = LogisticRegression(solver='liblinear', random_state=0)\n",
        "gnb = GaussianNB()"
      ],
      "execution_count": 16,
      "outputs": []
    },
    {
      "cell_type": "code",
      "metadata": {
        "id": "xDPEJrsdovAQ"
      },
      "source": [
        "models = [ ('k-NN', knn), \n",
        "               ('Decision Tree', dt),\n",
        "               ('Logistic Regression', lr),\n",
        "              ('Naive Bayes', gnb)              \n",
        "               ]"
      ],
      "execution_count": 17,
      "outputs": []
    },
    {
      "cell_type": "markdown",
      "metadata": {
        "id": "Q996hhTxqr8a"
      },
      "source": [
        "#### Resultados dos modelos usados de forma isolada"
      ]
    },
    {
      "cell_type": "code",
      "metadata": {
        "colab": {
          "base_uri": "https://localhost:8080/"
        },
        "id": "XDKvNsJppsEI",
        "outputId": "da948c91-bdda-4a1c-9d47-d4af03165e43"
      },
      "source": [
        "for model_name, model in models:\n",
        "    \n",
        "    model.fit(X_train, y_train)\n",
        "    \n",
        "    y_pred = model.predict(X_test)\n",
        "\n",
        "    print('{:s} com F1-Score = {:.3f}'.format(model_name, f1_score(y_test, y_pred)))"
      ],
      "execution_count": 18,
      "outputs": [
        {
          "output_type": "stream",
          "text": [
            "k-NN com F1-Score = 0.673\n",
            "Decision Tree com F1-Score = 0.500\n",
            "Logistic Regression com F1-Score = 0.652\n",
            "Naive Bayes com F1-Score = 0.660\n"
          ],
          "name": "stdout"
        }
      ]
    },
    {
      "cell_type": "markdown",
      "metadata": {
        "id": "4A49BucMqxU6"
      },
      "source": [
        "#### Usando Voting Classifier"
      ]
    },
    {
      "cell_type": "code",
      "metadata": {
        "colab": {
          "base_uri": "https://localhost:8080/"
        },
        "id": "wAJtz2Inq1ry",
        "outputId": "46ea139f-22fd-4618-94e7-ebd4a2e3ab25"
      },
      "source": [
        "model_vc = VotingClassifier(estimators=models)\n",
        "model_vc.fit(X_train, y_train)\n"
      ],
      "execution_count": 19,
      "outputs": [
        {
          "output_type": "execute_result",
          "data": {
            "text/plain": [
              "VotingClassifier(estimators=[('k-NN',\n",
              "                              KNeighborsClassifier(algorithm='auto',\n",
              "                                                   leaf_size=30,\n",
              "                                                   metric='minkowski',\n",
              "                                                   metric_params=None,\n",
              "                                                   n_jobs=None, n_neighbors=5,\n",
              "                                                   p=2, weights='uniform')),\n",
              "                             ('Decision Tree',\n",
              "                              DecisionTreeClassifier(ccp_alpha=0.0,\n",
              "                                                     class_weight=None,\n",
              "                                                     criterion='gini',\n",
              "                                                     max_depth=None,\n",
              "                                                     max_features=None,\n",
              "                                                     max_leaf_nodes=None,\n",
              "                                                     min_impurity_decrease=0.0,\n",
              "                                                     min_imp...\n",
              "                              LogisticRegression(C=1.0, class_weight=None,\n",
              "                                                 dual=False, fit_intercept=True,\n",
              "                                                 intercept_scaling=1,\n",
              "                                                 l1_ratio=None, max_iter=100,\n",
              "                                                 multi_class='auto',\n",
              "                                                 n_jobs=None, penalty='l2',\n",
              "                                                 random_state=0,\n",
              "                                                 solver='liblinear', tol=0.0001,\n",
              "                                                 verbose=0, warm_start=False)),\n",
              "                             ('Naive Bayes',\n",
              "                              GaussianNB(priors=None, var_smoothing=1e-09))],\n",
              "                 flatten_transform=True, n_jobs=None, voting='hard',\n",
              "                 weights=None)"
            ]
          },
          "metadata": {
            "tags": []
          },
          "execution_count": 19
        }
      ]
    },
    {
      "cell_type": "code",
      "metadata": {
        "colab": {
          "base_uri": "https://localhost:8080/"
        },
        "id": "aBiVYXRdqVWA",
        "outputId": "3971e97e-4994-476a-efef-1ac32983bd09"
      },
      "source": [
        "y_pred = model_vc.predict(X_test)\n",
        "print('Voting Classifier: {:.3f}'.format(f1_score(y_test, y_pred)))"
      ],
      "execution_count": 20,
      "outputs": [
        {
          "output_type": "stream",
          "text": [
            "Voting Classifier: 0.607\n"
          ],
          "name": "stdout"
        }
      ]
    },
    {
      "cell_type": "markdown",
      "metadata": {
        "id": "Le1Ytapjq__n"
      },
      "source": [
        "### 4. Avalie agora as técnicas de Bagging (BaggingClassifier) usando árvores de decisão (DecisionTreeClassifier), RandomForest, AdaBoost e GradientBoosting sobre o conjunto de teste usando a métrica F1-Score. Mostre também a importância das features para cada uma das técnicas. Para usar o BaggingClassifier, você pode se basear no seguinte documento."
      ]
    },
    {
      "cell_type": "markdown",
      "metadata": {
        "id": "8O3-s6HtrEoT"
      },
      "source": [
        "#### Modelos"
      ]
    },
    {
      "cell_type": "code",
      "metadata": {
        "id": "Zu58faYFrD7H"
      },
      "source": [
        "# modelo de de Bagging\n",
        "rf = RandomForestClassifier(random_state=0)\n",
        "\n",
        "# modelos de Boosting\n",
        "ada = AdaBoostClassifier(random_state=0)\n",
        "dt = tree.DecisionTreeClassifier(random_state=0)\n",
        "gb = GradientBoostingClassifier(random_state=15)"
      ],
      "execution_count": 21,
      "outputs": []
    },
    {
      "cell_type": "code",
      "metadata": {
        "id": "eIa4SrYMp_1u"
      },
      "source": [
        "models  = [('Random Forest', rf),\n",
        "          ('AdaBoost',ada), \n",
        "          ('Decision Tree', dt),\n",
        "          ('Gradient Boosting',gb)]"
      ],
      "execution_count": 22,
      "outputs": []
    },
    {
      "cell_type": "markdown",
      "metadata": {
        "id": "wfrWE5ULv0Zz"
      },
      "source": [
        "#### Apresentando os modelos individualmente e as importâncias das features para cada um."
      ]
    },
    {
      "cell_type": "code",
      "metadata": {
        "colab": {
          "base_uri": "https://localhost:8080/"
        },
        "id": "XixOz47pr6iQ",
        "outputId": "3e698119-b6ee-44f5-a102-07f1a845bfc2"
      },
      "source": [
        "for model_name, model in models:\n",
        "    \n",
        "    model.fit(X_train, y_train)\n",
        "    y_pred = model.predict(X_test)\n",
        "    f1 = f1_score(y_test, y_pred)\n",
        "    fi = model.feature_importances_\n",
        "    print(model_name)\n",
        "\n",
        "    print(\"Importância das Features ==>\", fi)\n",
        "    print(\"F1-Score\", f1)\n",
        "    print(\"\\n\")\n"
      ],
      "execution_count": 23,
      "outputs": [
        {
          "output_type": "stream",
          "text": [
            "Random Forest\n",
            "Importância das Features ==> [0.09045004 0.22915842 0.09011725 0.0744252  0.07355953 0.16327258\n",
            " 0.1256205  0.15339648]\n",
            "F1-Score 0.7010309278350516\n",
            "\n",
            "\n",
            "AdaBoost\n",
            "Importância das Features ==> [0.04 0.26 0.1  0.06 0.1  0.12 0.2  0.12]\n",
            "F1-Score 0.6868686868686867\n",
            "\n",
            "\n",
            "Decision Tree\n",
            "Importância das Features ==> [0.08951096 0.26930121 0.06620534 0.07107732 0.04582408 0.19529375\n",
            " 0.14249679 0.12029053]\n",
            "F1-Score 0.5\n",
            "\n",
            "\n",
            "Gradient Boosting\n",
            "Importância das Features ==> [0.0444958  0.38128404 0.05666506 0.01869506 0.04729116 0.18041722\n",
            " 0.10747907 0.1636726 ]\n",
            "F1-Score 0.72\n",
            "\n",
            "\n"
          ],
          "name": "stdout"
        }
      ]
    },
    {
      "cell_type": "markdown",
      "metadata": {
        "id": "hBXccD00tS7E"
      },
      "source": [
        "#### Usando BaggingClassifier"
      ]
    },
    {
      "cell_type": "code",
      "metadata": {
        "colab": {
          "base_uri": "https://localhost:8080/"
        },
        "id": "pnX56uWkskJH",
        "outputId": "7b4920e3-4105-47fa-b777-0023919b4cd0"
      },
      "source": [
        "model_bc = BaggingClassifier(base_estimator=dt, n_estimators=300, oob_score=True, n_jobs=-1)\n",
        "model_bc.fit(X_train, y_train)\n",
        "y_pred = model_bc.predict(X_test)\n",
        "f1 = f1_score(y_test, y_pred)\n",
        "print(\"F1-Score: \", f1)"
      ],
      "execution_count": 24,
      "outputs": [
        {
          "output_type": "stream",
          "text": [
            "F1-Score:  0.707070707070707\n"
          ],
          "name": "stdout"
        }
      ]
    },
    {
      "cell_type": "code",
      "metadata": {
        "colab": {
          "base_uri": "https://localhost:8080/"
        },
        "id": "ksNCKtnNthab",
        "outputId": "19b8e00c-6b5a-48c9-f2a1-ba2b456d1a64"
      },
      "source": [
        "for model_name, model in models:\n",
        "    model_bc = BaggingClassifier(base_estimator=model, n_estimators=300, oob_score=True, n_jobs=-1)\n",
        "    model_bc.fit(X_train, y_train)\n",
        "    y_pred = model_bc.predict(X_test)\n",
        "    f1 = f1_score(y_test, y_pred)\n",
        "    print(\"Usando base_estimator =\", model_name)\n",
        "    print(\"F1-Score\", f1)\n",
        "    print(\"\\n\")"
      ],
      "execution_count": 25,
      "outputs": [
        {
          "output_type": "stream",
          "text": [
            "Usando base_estimator = Random Forest\n",
            "F1-Score 0.6808510638297872\n",
            "\n",
            "\n",
            "Usando base_estimator = AdaBoost\n",
            "F1-Score 0.6666666666666666\n",
            "\n",
            "\n",
            "Usando base_estimator = Decision Tree\n",
            "F1-Score 0.6458333333333334\n",
            "\n",
            "\n",
            "Usando base_estimator = Gradient Boosting\n",
            "F1-Score 0.72\n",
            "\n",
            "\n"
          ],
          "name": "stdout"
        }
      ]
    }
  ]
}