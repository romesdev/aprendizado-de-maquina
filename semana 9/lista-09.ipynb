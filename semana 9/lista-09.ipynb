{
  "nbformat": 4,
  "nbformat_minor": 0,
  "metadata": {
    "kernelspec": {
      "display_name": "Python 3",
      "language": "python",
      "name": "python3"
    },
    "colab": {
      "name": "lista-09.ipynb",
      "provenance": []
    }
  },
  "cells": [
    {
      "cell_type": "markdown",
      "metadata": {
        "id": "CMxMaPnrlVZF"
      },
      "source": [
        "## Lista de exercícios - 009\n",
        "\n",
        "### Francisco Romes da Silva Filho, 409976"
      ]
    },
    {
      "cell_type": "markdown",
      "metadata": {
        "id": "i54GUkdGoGTz"
      },
      "source": [
        "instalar biblioteca: !pip install mlxtend"
      ]
    },
    {
      "cell_type": "markdown",
      "metadata": {
        "id": "o-vDsiqZmKZD"
      },
      "source": [
        "Montando o drive\n"
      ]
    },
    {
      "cell_type": "code",
      "metadata": {
        "colab": {
          "base_uri": "https://localhost:8080/"
        },
        "id": "khy_UBHjliE2",
        "outputId": "7ce45737-c501-4182-d0db-57fdfef16e94"
      },
      "source": [
        "from google.colab import drive\n",
        "drive.mount('/content/drive')"
      ],
      "execution_count": 1,
      "outputs": [
        {
          "output_type": "stream",
          "text": [
            "Drive already mounted at /content/drive; to attempt to forcibly remount, call drive.mount(\"/content/drive\", force_remount=True).\n"
          ],
          "name": "stdout"
        }
      ]
    },
    {
      "cell_type": "markdown",
      "metadata": {
        "id": "0HfqfAk2lVZI"
      },
      "source": [
        "### Imports de bibliotecas"
      ]
    },
    {
      "cell_type": "code",
      "metadata": {
        "id": "BBAajT_llVZK"
      },
      "source": [
        "import numpy as np\n",
        "import pandas as pd\n",
        "from sklearn.model_selection import train_test_split\n",
        "from sklearn.model_selection import GridSearchCV\n",
        "from sklearn.linear_model import LogisticRegression\n",
        "from sklearn.neighbors import KNeighborsClassifier\n",
        "from sklearn.naive_bayes import GaussianNB\n",
        "from sklearn import svm\n",
        "from sklearn.metrics import f1_score\n",
        "from sklearn.pipeline import Pipeline\n",
        "from sklearn.decomposition import PCA\n",
        "import matplotlib.pyplot as plt\n",
        "from mlxtend.plotting import plot_decision_regions"
      ],
      "execution_count": 2,
      "outputs": []
    },
    {
      "cell_type": "code",
      "metadata": {
        "id": "IXo-VV8llVZM"
      },
      "source": [
        "import warnings\n",
        "warnings.filterwarnings(\"ignore\")"
      ],
      "execution_count": 3,
      "outputs": []
    },
    {
      "cell_type": "markdown",
      "metadata": {
        "id": "sIAmPlhSlVZN"
      },
      "source": [
        "### Dataset"
      ]
    },
    {
      "cell_type": "code",
      "metadata": {
        "colab": {
          "base_uri": "https://localhost:8080/"
        },
        "id": "xjsLQ0rJlVZN",
        "outputId": "d6b5ecf2-cc8f-4123-dd81-5799d3de6154"
      },
      "source": [
        "# Pima Indians Diabetes Database\n",
        "data = pd.read_csv('/content/drive/My Drive/Colab Notebooks/diabetes.csv')\n",
        "print(\"Forma do dataset: \", data.shape[1], \" features e \", data.shape[0], \" amostras!\")"
      ],
      "execution_count": 4,
      "outputs": [
        {
          "output_type": "stream",
          "text": [
            "Forma do dataset:  9  features e  768  amostras!\n"
          ],
          "name": "stdout"
        }
      ]
    },
    {
      "cell_type": "code",
      "metadata": {
        "colab": {
          "base_uri": "https://localhost:8080/",
          "height": 204
        },
        "id": "9iXsO3lOlVZP",
        "outputId": "6a54ea5c-7e5f-4452-f50f-2740eb4aa127"
      },
      "source": [
        "data.head()"
      ],
      "execution_count": 5,
      "outputs": [
        {
          "output_type": "execute_result",
          "data": {
            "text/html": [
              "<div>\n",
              "<style scoped>\n",
              "    .dataframe tbody tr th:only-of-type {\n",
              "        vertical-align: middle;\n",
              "    }\n",
              "\n",
              "    .dataframe tbody tr th {\n",
              "        vertical-align: top;\n",
              "    }\n",
              "\n",
              "    .dataframe thead th {\n",
              "        text-align: right;\n",
              "    }\n",
              "</style>\n",
              "<table border=\"1\" class=\"dataframe\">\n",
              "  <thead>\n",
              "    <tr style=\"text-align: right;\">\n",
              "      <th></th>\n",
              "      <th>Pregnancies</th>\n",
              "      <th>Glucose</th>\n",
              "      <th>BloodPressure</th>\n",
              "      <th>SkinThickness</th>\n",
              "      <th>Insulin</th>\n",
              "      <th>BMI</th>\n",
              "      <th>DiabetesPedigreeFunction</th>\n",
              "      <th>Age</th>\n",
              "      <th>Outcome</th>\n",
              "    </tr>\n",
              "  </thead>\n",
              "  <tbody>\n",
              "    <tr>\n",
              "      <th>0</th>\n",
              "      <td>6</td>\n",
              "      <td>148</td>\n",
              "      <td>72</td>\n",
              "      <td>35</td>\n",
              "      <td>0</td>\n",
              "      <td>33.6</td>\n",
              "      <td>0.627</td>\n",
              "      <td>50</td>\n",
              "      <td>1</td>\n",
              "    </tr>\n",
              "    <tr>\n",
              "      <th>1</th>\n",
              "      <td>1</td>\n",
              "      <td>85</td>\n",
              "      <td>66</td>\n",
              "      <td>29</td>\n",
              "      <td>0</td>\n",
              "      <td>26.6</td>\n",
              "      <td>0.351</td>\n",
              "      <td>31</td>\n",
              "      <td>0</td>\n",
              "    </tr>\n",
              "    <tr>\n",
              "      <th>2</th>\n",
              "      <td>8</td>\n",
              "      <td>183</td>\n",
              "      <td>64</td>\n",
              "      <td>0</td>\n",
              "      <td>0</td>\n",
              "      <td>23.3</td>\n",
              "      <td>0.672</td>\n",
              "      <td>32</td>\n",
              "      <td>1</td>\n",
              "    </tr>\n",
              "    <tr>\n",
              "      <th>3</th>\n",
              "      <td>1</td>\n",
              "      <td>89</td>\n",
              "      <td>66</td>\n",
              "      <td>23</td>\n",
              "      <td>94</td>\n",
              "      <td>28.1</td>\n",
              "      <td>0.167</td>\n",
              "      <td>21</td>\n",
              "      <td>0</td>\n",
              "    </tr>\n",
              "    <tr>\n",
              "      <th>4</th>\n",
              "      <td>0</td>\n",
              "      <td>137</td>\n",
              "      <td>40</td>\n",
              "      <td>35</td>\n",
              "      <td>168</td>\n",
              "      <td>43.1</td>\n",
              "      <td>2.288</td>\n",
              "      <td>33</td>\n",
              "      <td>1</td>\n",
              "    </tr>\n",
              "  </tbody>\n",
              "</table>\n",
              "</div>"
            ],
            "text/plain": [
              "   Pregnancies  Glucose  BloodPressure  ...  DiabetesPedigreeFunction  Age  Outcome\n",
              "0            6      148             72  ...                     0.627   50        1\n",
              "1            1       85             66  ...                     0.351   31        0\n",
              "2            8      183             64  ...                     0.672   32        1\n",
              "3            1       89             66  ...                     0.167   21        0\n",
              "4            0      137             40  ...                     2.288   33        1\n",
              "\n",
              "[5 rows x 9 columns]"
            ]
          },
          "metadata": {
            "tags": []
          },
          "execution_count": 5
        }
      ]
    },
    {
      "cell_type": "markdown",
      "metadata": {
        "id": "COoF64jIlVZQ"
      },
      "source": [
        "## 1. Separe os dados em treino (80%) e teste (20%)."
      ]
    },
    {
      "cell_type": "code",
      "metadata": {
        "id": "uumemUMOlVZR"
      },
      "source": [
        "X = data.drop(['Outcome'], axis=1)\n",
        "y = data['Outcome']"
      ],
      "execution_count": 6,
      "outputs": []
    },
    {
      "cell_type": "code",
      "metadata": {
        "id": "eKZBds9KlVZS"
      },
      "source": [
        "X_train, X_test, y_train, y_test = train_test_split(X, y, test_size=0.2, random_state=0, stratify=y)"
      ],
      "execution_count": 7,
      "outputs": []
    },
    {
      "cell_type": "markdown",
      "metadata": {
        "id": "Tj7wD3sQlVZT"
      },
      "source": [
        "## 2. Crie e avalie modelos usando kNN, Logistic Regression, SVM e Naive Bayes. Aplique um Grid Search com Validação Cruzada (CV) com k=5 no k-Fold sobre o conjunto de treino. A métrica de avaliação usada deve ser a métrica F1-Score. Teste diferentes hiperparâmetros. Escolha o melhor algoritmo e hiperparâmetros baseado no Grid Search."
      ]
    },
    {
      "cell_type": "code",
      "metadata": {
        "id": "pTm9mOiOlVZU"
      },
      "source": [
        "hyperparameters = [\\\n",
        "                 {\\\n",
        "                  'classifier': [KNeighborsClassifier()],\n",
        "                  'classifier__n_neighbors': [1, 3, 5, 7, 9, 11, 13, 15],\n",
        "                  'classifier__weights': ['distance', 'uniform'],\n",
        "                  'classifier__metric':['euclidean', 'manhattan', 'chebyshev', 'minkowski']},\n",
        "                 {\\\n",
        "                  'classifier': [LogisticRegression()],\n",
        "                  'classifier__penalty': ['l1', 'l2'],\n",
        "                  'classifier__C': np.logspace(0, 4, 10),\n",
        "                  'classifier__solver':['lbfgs', 'liblinear', 'saga']\n",
        "                 }, \n",
        "                 {\\\n",
        "                  'classifier': [svm.SVC()],\n",
        "                  'classifier__C': [1, 10, 100, 1000],\n",
        "                  'classifier__gamma':[1, 0.1, 0.01, 0.001]\n",
        "                 },   \n",
        "                {\\\n",
        "                 'classifier': [GaussianNB()],\n",
        "                 'classifier__var_smoothing': np.logspace(0,-9, num=100)\n",
        "                }\n",
        "                ]"
      ],
      "execution_count": 8,
      "outputs": []
    },
    {
      "cell_type": "code",
      "metadata": {
        "colab": {
          "base_uri": "https://localhost:8080/"
        },
        "id": "tgoB8saalVZV",
        "outputId": "8c30533c-2fea-4c48-efac-e6fb3e0e9a7d"
      },
      "source": [
        "hyperparameters"
      ],
      "execution_count": 9,
      "outputs": [
        {
          "output_type": "execute_result",
          "data": {
            "text/plain": [
              "[{'classifier': [KNeighborsClassifier(algorithm='auto', leaf_size=30, metric='minkowski',\n",
              "                        metric_params=None, n_jobs=None, n_neighbors=5, p=2,\n",
              "                        weights='uniform')],\n",
              "  'classifier__metric': ['euclidean', 'manhattan', 'chebyshev', 'minkowski'],\n",
              "  'classifier__n_neighbors': [1, 3, 5, 7, 9, 11, 13, 15],\n",
              "  'classifier__weights': ['distance', 'uniform']},\n",
              " {'classifier': [LogisticRegression(C=1.0, class_weight=None, dual=False, fit_intercept=True,\n",
              "                      intercept_scaling=1, l1_ratio=None, max_iter=100,\n",
              "                      multi_class='auto', n_jobs=None, penalty='l2',\n",
              "                      random_state=None, solver='lbfgs', tol=0.0001, verbose=0,\n",
              "                      warm_start=False)],\n",
              "  'classifier__C': array([1.00000000e+00, 2.78255940e+00, 7.74263683e+00, 2.15443469e+01,\n",
              "         5.99484250e+01, 1.66810054e+02, 4.64158883e+02, 1.29154967e+03,\n",
              "         3.59381366e+03, 1.00000000e+04]),\n",
              "  'classifier__penalty': ['l1', 'l2'],\n",
              "  'classifier__solver': ['lbfgs', 'liblinear', 'saga']},\n",
              " {'classifier': [SVC(C=1.0, break_ties=False, cache_size=200, class_weight=None, coef0=0.0,\n",
              "       decision_function_shape='ovr', degree=3, gamma='scale', kernel='rbf',\n",
              "       max_iter=-1, probability=False, random_state=None, shrinking=True,\n",
              "       tol=0.001, verbose=False)],\n",
              "  'classifier__C': [1, 10, 100, 1000],\n",
              "  'classifier__gamma': [1, 0.1, 0.01, 0.001]},\n",
              " {'classifier': [GaussianNB(priors=None, var_smoothing=1e-09)],\n",
              "  'classifier__var_smoothing': array([1.00000000e+00, 8.11130831e-01, 6.57933225e-01, 5.33669923e-01,\n",
              "         4.32876128e-01, 3.51119173e-01, 2.84803587e-01, 2.31012970e-01,\n",
              "         1.87381742e-01, 1.51991108e-01, 1.23284674e-01, 1.00000000e-01,\n",
              "         8.11130831e-02, 6.57933225e-02, 5.33669923e-02, 4.32876128e-02,\n",
              "         3.51119173e-02, 2.84803587e-02, 2.31012970e-02, 1.87381742e-02,\n",
              "         1.51991108e-02, 1.23284674e-02, 1.00000000e-02, 8.11130831e-03,\n",
              "         6.57933225e-03, 5.33669923e-03, 4.32876128e-03, 3.51119173e-03,\n",
              "         2.84803587e-03, 2.31012970e-03, 1.87381742e-03, 1.51991108e-03,\n",
              "         1.23284674e-03, 1.00000000e-03, 8.11130831e-04, 6.57933225e-04,\n",
              "         5.33669923e-04, 4.32876128e-04, 3.51119173e-04, 2.84803587e-04,\n",
              "         2.31012970e-04, 1.87381742e-04, 1.51991108e-04, 1.23284674e-04,\n",
              "         1.00000000e-04, 8.11130831e-05, 6.57933225e-05, 5.33669923e-05,\n",
              "         4.32876128e-05, 3.51119173e-05, 2.84803587e-05, 2.31012970e-05,\n",
              "         1.87381742e-05, 1.51991108e-05, 1.23284674e-05, 1.00000000e-05,\n",
              "         8.11130831e-06, 6.57933225e-06, 5.33669923e-06, 4.32876128e-06,\n",
              "         3.51119173e-06, 2.84803587e-06, 2.31012970e-06, 1.87381742e-06,\n",
              "         1.51991108e-06, 1.23284674e-06, 1.00000000e-06, 8.11130831e-07,\n",
              "         6.57933225e-07, 5.33669923e-07, 4.32876128e-07, 3.51119173e-07,\n",
              "         2.84803587e-07, 2.31012970e-07, 1.87381742e-07, 1.51991108e-07,\n",
              "         1.23284674e-07, 1.00000000e-07, 8.11130831e-08, 6.57933225e-08,\n",
              "         5.33669923e-08, 4.32876128e-08, 3.51119173e-08, 2.84803587e-08,\n",
              "         2.31012970e-08, 1.87381742e-08, 1.51991108e-08, 1.23284674e-08,\n",
              "         1.00000000e-08, 8.11130831e-09, 6.57933225e-09, 5.33669923e-09,\n",
              "         4.32876128e-09, 3.51119173e-09, 2.84803587e-09, 2.31012970e-09,\n",
              "         1.87381742e-09, 1.51991108e-09, 1.23284674e-09, 1.00000000e-09])}]"
            ]
          },
          "metadata": {
            "tags": []
          },
          "execution_count": 9
        }
      ]
    },
    {
      "cell_type": "code",
      "metadata": {
        "id": "xj9eUV-NlVZW"
      },
      "source": [
        "pipe = Pipeline([('classifier', KNeighborsClassifier())])\n"
      ],
      "execution_count": 10,
      "outputs": []
    },
    {
      "cell_type": "code",
      "metadata": {
        "id": "PqXJTB3ZlVZX"
      },
      "source": [
        "clf = GridSearchCV(estimator=pipe, param_grid=hyperparameters, scoring='f1', cv=5, verbose=0, n_jobs=-1)\n"
      ],
      "execution_count": 11,
      "outputs": []
    },
    {
      "cell_type": "code",
      "metadata": {
        "id": "XJNN3faOlVZX"
      },
      "source": [
        "best_model = clf.fit(X_train, y_train)"
      ],
      "execution_count": 12,
      "outputs": []
    },
    {
      "cell_type": "code",
      "metadata": {
        "colab": {
          "base_uri": "https://localhost:8080/"
        },
        "id": "erT_TPFrlVZY",
        "outputId": "811dfb49-6a58-46e0-eea3-ad38a567e67b"
      },
      "source": [
        "best_model.best_estimator_.get_params()['classifier']\n"
      ],
      "execution_count": 13,
      "outputs": [
        {
          "output_type": "execute_result",
          "data": {
            "text/plain": [
              "LogisticRegression(C=7.742636826811269, class_weight=None, dual=False,\n",
              "                   fit_intercept=True, intercept_scaling=1, l1_ratio=None,\n",
              "                   max_iter=100, multi_class='auto', n_jobs=None, penalty='l2',\n",
              "                   random_state=None, solver='liblinear', tol=0.0001, verbose=0,\n",
              "                   warm_start=False)"
            ]
          },
          "metadata": {
            "tags": []
          },
          "execution_count": 13
        }
      ]
    },
    {
      "cell_type": "markdown",
      "metadata": {
        "id": "fBVFtBcZlVZZ"
      },
      "source": [
        "## 3. Treine um novo modelo usando o melhor resultado do Grid Search sobre todos os dados de treino (80% do dataset).   \n"
      ]
    },
    {
      "cell_type": "code",
      "metadata": {
        "id": "nA-cGpp4lVZZ"
      },
      "source": [
        "model = LogisticRegression(C=7.742636826811269, class_weight=None, dual=False,\n",
        "                   fit_intercept=True, intercept_scaling=1, l1_ratio=None,\n",
        "                   max_iter=100, multi_class='auto', n_jobs=None, penalty='l2',\n",
        "                   random_state=None, solver='liblinear', tol=0.0001, verbose=0,\n",
        "                   warm_start=False)"
      ],
      "execution_count": 14,
      "outputs": []
    },
    {
      "cell_type": "code",
      "metadata": {
        "colab": {
          "base_uri": "https://localhost:8080/"
        },
        "id": "u3bEHDq4lVZa",
        "outputId": "6ba841f2-6ea0-43f3-96ba-b094bf8dea04"
      },
      "source": [
        "model.fit(X_train, y_train)"
      ],
      "execution_count": 15,
      "outputs": [
        {
          "output_type": "execute_result",
          "data": {
            "text/plain": [
              "LogisticRegression(C=7.742636826811269, class_weight=None, dual=False,\n",
              "                   fit_intercept=True, intercept_scaling=1, l1_ratio=None,\n",
              "                   max_iter=100, multi_class='auto', n_jobs=None, penalty='l2',\n",
              "                   random_state=None, solver='liblinear', tol=0.0001, verbose=0,\n",
              "                   warm_start=False)"
            ]
          },
          "metadata": {
            "tags": []
          },
          "execution_count": 15
        }
      ]
    },
    {
      "cell_type": "code",
      "metadata": {
        "colab": {
          "base_uri": "https://localhost:8080/"
        },
        "id": "9P9IhklKlVZb",
        "outputId": "ee1d7d67-18cc-4e90-8afe-eed1131abfca"
      },
      "source": [
        "model.score(X_train, y_train)"
      ],
      "execution_count": 16,
      "outputs": [
        {
          "output_type": "execute_result",
          "data": {
            "text/plain": [
              "0.7801302931596091"
            ]
          },
          "metadata": {
            "tags": []
          },
          "execution_count": 16
        }
      ]
    },
    {
      "cell_type": "code",
      "metadata": {
        "id": "-lk-VBc-lVZc"
      },
      "source": [
        "model_pred = model.predict(X_test)"
      ],
      "execution_count": 17,
      "outputs": []
    },
    {
      "cell_type": "markdown",
      "metadata": {
        "id": "AKcK3eUslVZc"
      },
      "source": [
        "## 4. Avalie o modelo usando a métrica F1-Score sobre os dados de teste.\n"
      ]
    },
    {
      "cell_type": "code",
      "metadata": {
        "colab": {
          "base_uri": "https://localhost:8080/"
        },
        "id": "F2DCyT95lVZd",
        "outputId": "20cb9786-8193-4cd2-d044-2014f10a7ab5"
      },
      "source": [
        "f1_score(y_test, model_pred)"
      ],
      "execution_count": 18,
      "outputs": [
        {
          "output_type": "execute_result",
          "data": {
            "text/plain": [
              "0.6526315789473683"
            ]
          },
          "metadata": {
            "tags": []
          },
          "execution_count": 18
        }
      ]
    },
    {
      "cell_type": "markdown",
      "metadata": {
        "id": "cPH9pDLZlVZe"
      },
      "source": [
        "## 5. Desenhe as regiões de decisão em 2D. As regiões devem se basear nos dados de treino (80% do dataset). O gráfico deve mostrar os dados de teste (20% do dataset). Dica: transforme as features em 2D usando a técnica PCA (Principal Component Analysis), conforme mostramos em aula e no Jupyter Notebook que disponibilizamos."
      ]
    },
    {
      "cell_type": "code",
      "metadata": {
        "id": "4f_mokxIlVZf"
      },
      "source": [
        "y = np.array(y)"
      ],
      "execution_count": 19,
      "outputs": []
    },
    {
      "cell_type": "code",
      "metadata": {
        "id": "Q8PE3GeelVZf"
      },
      "source": [
        "pca = PCA(n_components=2)\n",
        "X_2D = pca.fit_transform(X)"
      ],
      "execution_count": 20,
      "outputs": []
    },
    {
      "cell_type": "code",
      "metadata": {
        "colab": {
          "base_uri": "https://localhost:8080/"
        },
        "id": "ezvrJBkjlVZh",
        "outputId": "d65f85c9-74c0-4cd2-f1d1-1762ef7b5cb7"
      },
      "source": [
        "model.fit(X_2D, y)"
      ],
      "execution_count": 21,
      "outputs": [
        {
          "output_type": "execute_result",
          "data": {
            "text/plain": [
              "LogisticRegression(C=7.742636826811269, class_weight=None, dual=False,\n",
              "                   fit_intercept=True, intercept_scaling=1, l1_ratio=None,\n",
              "                   max_iter=100, multi_class='auto', n_jobs=None, penalty='l2',\n",
              "                   random_state=None, solver='liblinear', tol=0.0001, verbose=0,\n",
              "                   warm_start=False)"
            ]
          },
          "metadata": {
            "tags": []
          },
          "execution_count": 21
        }
      ]
    },
    {
      "cell_type": "code",
      "metadata": {
        "colab": {
          "base_uri": "https://localhost:8080/",
          "height": 265
        },
        "id": "5hCfIq7fm9Pv",
        "outputId": "e7d432bb-a6b3-4362-b7b8-761a5c73f795"
      },
      "source": [
        "plot_decision_regions(X_2D, y, clf=model, legend=2)\n",
        "plt.show()"
      ],
      "execution_count": 22,
      "outputs": [
        {
          "output_type": "display_data",
          "data": {
            "image/png": "[encoded data removed]",
            "text/plain": [
              "<Figure size 432x288 with 1 Axes>"
            ]
          },
          "metadata": {
            "tags": [],
            "needs_background": "light"
          }
        }
      ]
    },
    {
      "cell_type": "code",
      "metadata": {
        "colab": {
          "base_uri": "https://localhost:8080/",
          "height": 265
        },
        "id": "PX_1DGvfnRp4",
        "outputId": "e4bf511e-d51d-40b3-e35a-cebc7b723c10"
      },
      "source": [
        "X_train, X_test, y_train, y_test = train_test_split(X_2D, y, test_size=0.2, stratify=y, random_state=0)\n",
        "lr = LogisticRegression(C=7.742636826811269, class_weight=None, dual=False,\n",
        "                   fit_intercept=True, intercept_scaling=1, l1_ratio=None,\n",
        "                   max_iter=100, multi_class='auto', n_jobs=None, penalty='l2',\n",
        "                   random_state=None, solver='liblinear', tol=0.0001, verbose=0,\n",
        "                   warm_start=False)\n",
        "\n",
        "lr.fit(X_train, y_train)\n",
        "plot_decision_regions(X_test, y_test, clf=lr, legend=2)\n",
        "plt.show()"
      ],
      "execution_count": 23,
      "outputs": [
        {
          "output_type": "display_data",
          "data": {
            "image/png": "[encoded data removed]",
            "text/plain": [
              "<Figure size 432x288 with 1 Axes>"
            ]
          },
          "metadata": {
            "tags": [],
            "needs_background": "light"
          }
        }
      ]
    }
  ]
}