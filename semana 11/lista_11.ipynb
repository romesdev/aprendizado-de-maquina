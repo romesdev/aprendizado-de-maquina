{
  "nbformat": 4,
  "nbformat_minor": 0,
  "metadata": {
    "colab": {
      "name": "lista-11.ipynb",
      "provenance": []
    },
    "kernelspec": {
      "name": "python3",
      "display_name": "Python 3"
    },
    "language_info": {
      "name": "python"
    }
  },
  "cells": [
    {
      "cell_type": "markdown",
      "metadata": {
        "id": "8G4IcTNWEI1E"
      },
      "source": [
        "## Lista de exercícios - 011\n",
        "\n",
        "### Francisco Romes da Silva Filho, 409976"
      ]
    },
    {
      "cell_type": "markdown",
      "metadata": {
        "id": "3V-y1BxfErXX"
      },
      "source": [
        "## Resolva o problema de classificação binária sobre o dataset \"Pima Indians Diabetes Database\""
      ]
    },
    {
      "cell_type": "markdown",
      "metadata": {
        "id": "hMukn4tZENnl"
      },
      "source": [
        "Montando o Drive!"
      ]
    },
    {
      "cell_type": "code",
      "metadata": {
        "colab": {
          "base_uri": "https://localhost:8080/"
        },
        "id": "AT8Tez0nEO_-",
        "outputId": "e73d503d-1995-439d-cf3d-2b1c2e49eb3b"
      },
      "source": [
        "from google.colab import drive\n",
        "drive.mount('/content/drive')"
      ],
      "execution_count": 1,
      "outputs": [
        {
          "output_type": "stream",
          "text": [
            "Mounted at /content/drive\n"
          ],
          "name": "stdout"
        }
      ]
    },
    {
      "cell_type": "markdown",
      "metadata": {
        "id": "P3KHx8YOFBp2"
      },
      "source": [
        "#### Instalando depedências"
      ]
    },
    {
      "cell_type": "code",
      "metadata": {
        "colab": {
          "base_uri": "https://localhost:8080/"
        },
        "id": "KNm3lwSSFGO1",
        "outputId": "2cff5ef6-d17f-44b9-bd0c-435486bc6aec"
      },
      "source": [
        "#XGBoost\n",
        "!pip install xgboost\n",
        "\n",
        "#LightGBM\n",
        "!pip install lightgbm\n",
        "\n",
        "#CatBoost\n",
        "!pip install catboost\n",
        "\n"
      ],
      "execution_count": 2,
      "outputs": [
        {
          "output_type": "stream",
          "text": [
            "Requirement already satisfied: xgboost in /usr/local/lib/python3.7/dist-packages (0.90)\n",
            "Requirement already satisfied: scipy in /usr/local/lib/python3.7/dist-packages (from xgboost) (1.4.1)\n",
            "Requirement already satisfied: numpy in /usr/local/lib/python3.7/dist-packages (from xgboost) (1.19.5)\n",
            "Requirement already satisfied: lightgbm in /usr/local/lib/python3.7/dist-packages (2.2.3)\n",
            "Requirement already satisfied: scipy in /usr/local/lib/python3.7/dist-packages (from lightgbm) (1.4.1)\n",
            "Requirement already satisfied: scikit-learn in /usr/local/lib/python3.7/dist-packages (from lightgbm) (0.22.2.post1)\n",
            "Requirement already satisfied: numpy in /usr/local/lib/python3.7/dist-packages (from lightgbm) (1.19.5)\n",
            "Requirement already satisfied: joblib>=0.11 in /usr/local/lib/python3.7/dist-packages (from scikit-learn->lightgbm) (1.0.1)\n",
            "Collecting catboost\n",
            "  Downloading catboost-0.26.1-cp37-none-manylinux1_x86_64.whl (67.4 MB)\n",
            "\u001b[K     |████████████████████████████████| 67.4 MB 27 kB/s \n",
            "\u001b[?25hRequirement already satisfied: pandas>=0.24.0 in /usr/local/lib/python3.7/dist-packages (from catboost) (1.1.5)\n",
            "Requirement already satisfied: graphviz in /usr/local/lib/python3.7/dist-packages (from catboost) (0.10.1)\n",
            "Requirement already satisfied: plotly in /usr/local/lib/python3.7/dist-packages (from catboost) (4.4.1)\n",
            "Requirement already satisfied: numpy>=1.16.0 in /usr/local/lib/python3.7/dist-packages (from catboost) (1.19.5)\n",
            "Requirement already satisfied: matplotlib in /usr/local/lib/python3.7/dist-packages (from catboost) (3.2.2)\n",
            "Requirement already satisfied: six in /usr/local/lib/python3.7/dist-packages (from catboost) (1.15.0)\n",
            "Requirement already satisfied: scipy in /usr/local/lib/python3.7/dist-packages (from catboost) (1.4.1)\n",
            "Requirement already satisfied: pytz>=2017.2 in /usr/local/lib/python3.7/dist-packages (from pandas>=0.24.0->catboost) (2018.9)\n",
            "Requirement already satisfied: python-dateutil>=2.7.3 in /usr/local/lib/python3.7/dist-packages (from pandas>=0.24.0->catboost) (2.8.2)\n",
            "Requirement already satisfied: pyparsing!=2.0.4,!=2.1.2,!=2.1.6,>=2.0.1 in /usr/local/lib/python3.7/dist-packages (from matplotlib->catboost) (2.4.7)\n",
            "Requirement already satisfied: kiwisolver>=1.0.1 in /usr/local/lib/python3.7/dist-packages (from matplotlib->catboost) (1.3.1)\n",
            "Requirement already satisfied: cycler>=0.10 in /usr/local/lib/python3.7/dist-packages (from matplotlib->catboost) (0.10.0)\n",
            "Requirement already satisfied: retrying>=1.3.3 in /usr/local/lib/python3.7/dist-packages (from plotly->catboost) (1.3.3)\n",
            "Installing collected packages: catboost\n",
            "Successfully installed catboost-0.26.1\n"
          ],
          "name": "stdout"
        }
      ]
    },
    {
      "cell_type": "code",
      "metadata": {
        "colab": {
          "base_uri": "https://localhost:8080/"
        },
        "id": "E7ks0B7hLSJ6",
        "outputId": "47bd24f5-4925-47c0-f988-6ad66512d5d3"
      },
      "source": [
        "!pip install pipelinehelper "
      ],
      "execution_count": 3,
      "outputs": [
        {
          "output_type": "stream",
          "text": [
            "Collecting pipelinehelper\n",
            "  Downloading pipelinehelper-0.7.8-py3-none-any.whl (15 kB)\n",
            "Requirement already satisfied: sklearn in /usr/local/lib/python3.7/dist-packages (from pipelinehelper) (0.0)\n",
            "Requirement already satisfied: scikit-learn in /usr/local/lib/python3.7/dist-packages (from sklearn->pipelinehelper) (0.22.2.post1)\n",
            "Requirement already satisfied: scipy>=0.17.0 in /usr/local/lib/python3.7/dist-packages (from scikit-learn->sklearn->pipelinehelper) (1.4.1)\n",
            "Requirement already satisfied: numpy>=1.11.0 in /usr/local/lib/python3.7/dist-packages (from scikit-learn->sklearn->pipelinehelper) (1.19.5)\n",
            "Requirement already satisfied: joblib>=0.11 in /usr/local/lib/python3.7/dist-packages (from scikit-learn->sklearn->pipelinehelper) (1.0.1)\n",
            "Installing collected packages: pipelinehelper\n",
            "Successfully installed pipelinehelper-0.7.8\n"
          ],
          "name": "stdout"
        }
      ]
    },
    {
      "cell_type": "markdown",
      "metadata": {
        "id": "yRepySvSEyWt"
      },
      "source": [
        "### Imports de bibliotecas"
      ]
    },
    {
      "cell_type": "code",
      "metadata": {
        "id": "Zs0SD7MrEQ3E"
      },
      "source": [
        "import numpy as np\n",
        "import pandas as pd\n",
        "from scipy import stats\n",
        "from sklearn.model_selection import train_test_split\n",
        "from sklearn.model_selection import GridSearchCV\n",
        "from sklearn.ensemble import RandomForestClassifier\n",
        "from sklearn.ensemble import GradientBoostingClassifier\n",
        "from xgboost import XGBClassifier\n",
        "from lightgbm import LGBMClassifier\n",
        "from catboost import CatBoostClassifier\n",
        "from sklearn.linear_model import Perceptron\n",
        "from sklearn.neural_network import MLPClassifier\n",
        "from sklearn.metrics import f1_score\n",
        "from pipelinehelper import PipelineHelper\n",
        "from sklearn.pipeline import Pipeline\n",
        "from sklearn.preprocessing import StandardScaler, MaxAbsScaler"
      ],
      "execution_count": 4,
      "outputs": []
    },
    {
      "cell_type": "markdown",
      "metadata": {
        "id": "TFHVrhZlJSfb"
      },
      "source": [
        "### Dataset"
      ]
    },
    {
      "cell_type": "code",
      "metadata": {
        "colab": {
          "base_uri": "https://localhost:8080/"
        },
        "id": "Br8TxoQ7E2n1",
        "outputId": "1c99b6bf-d768-4a8c-bf29-54dee8307a12"
      },
      "source": [
        "# Pima Indians Diabetes Database\n",
        "data = pd.read_csv('/content/drive/My Drive/Colab Notebooks/diabetes.csv')\n",
        "print(\"Forma do dataset: \", data.shape[1], \" features e \", data.shape[0], \" amostras!\")"
      ],
      "execution_count": 5,
      "outputs": [
        {
          "output_type": "stream",
          "text": [
            "Forma do dataset:  9  features e  768  amostras!\n"
          ],
          "name": "stdout"
        }
      ]
    },
    {
      "cell_type": "code",
      "metadata": {
        "colab": {
          "base_uri": "https://localhost:8080/",
          "height": 419
        },
        "id": "7LxrwgXDJaaV",
        "outputId": "76676f9d-0858-4e87-9028-48d95cf21c0f"
      },
      "source": [
        "data"
      ],
      "execution_count": 6,
      "outputs": [
        {
          "output_type": "execute_result",
          "data": {
            "text/html": [
              "<div>\n",
              "<style scoped>\n",
              "    .dataframe tbody tr th:only-of-type {\n",
              "        vertical-align: middle;\n",
              "    }\n",
              "\n",
              "    .dataframe tbody tr th {\n",
              "        vertical-align: top;\n",
              "    }\n",
              "\n",
              "    .dataframe thead th {\n",
              "        text-align: right;\n",
              "    }\n",
              "</style>\n",
              "<table border=\"1\" class=\"dataframe\">\n",
              "  <thead>\n",
              "    <tr style=\"text-align: right;\">\n",
              "      <th></th>\n",
              "      <th>Pregnancies</th>\n",
              "      <th>Glucose</th>\n",
              "      <th>BloodPressure</th>\n",
              "      <th>SkinThickness</th>\n",
              "      <th>Insulin</th>\n",
              "      <th>BMI</th>\n",
              "      <th>DiabetesPedigreeFunction</th>\n",
              "      <th>Age</th>\n",
              "      <th>Outcome</th>\n",
              "    </tr>\n",
              "  </thead>\n",
              "  <tbody>\n",
              "    <tr>\n",
              "      <th>0</th>\n",
              "      <td>6</td>\n",
              "      <td>148</td>\n",
              "      <td>72</td>\n",
              "      <td>35</td>\n",
              "      <td>0</td>\n",
              "      <td>33.6</td>\n",
              "      <td>0.627</td>\n",
              "      <td>50</td>\n",
              "      <td>1</td>\n",
              "    </tr>\n",
              "    <tr>\n",
              "      <th>1</th>\n",
              "      <td>1</td>\n",
              "      <td>85</td>\n",
              "      <td>66</td>\n",
              "      <td>29</td>\n",
              "      <td>0</td>\n",
              "      <td>26.6</td>\n",
              "      <td>0.351</td>\n",
              "      <td>31</td>\n",
              "      <td>0</td>\n",
              "    </tr>\n",
              "    <tr>\n",
              "      <th>2</th>\n",
              "      <td>8</td>\n",
              "      <td>183</td>\n",
              "      <td>64</td>\n",
              "      <td>0</td>\n",
              "      <td>0</td>\n",
              "      <td>23.3</td>\n",
              "      <td>0.672</td>\n",
              "      <td>32</td>\n",
              "      <td>1</td>\n",
              "    </tr>\n",
              "    <tr>\n",
              "      <th>3</th>\n",
              "      <td>1</td>\n",
              "      <td>89</td>\n",
              "      <td>66</td>\n",
              "      <td>23</td>\n",
              "      <td>94</td>\n",
              "      <td>28.1</td>\n",
              "      <td>0.167</td>\n",
              "      <td>21</td>\n",
              "      <td>0</td>\n",
              "    </tr>\n",
              "    <tr>\n",
              "      <th>4</th>\n",
              "      <td>0</td>\n",
              "      <td>137</td>\n",
              "      <td>40</td>\n",
              "      <td>35</td>\n",
              "      <td>168</td>\n",
              "      <td>43.1</td>\n",
              "      <td>2.288</td>\n",
              "      <td>33</td>\n",
              "      <td>1</td>\n",
              "    </tr>\n",
              "    <tr>\n",
              "      <th>...</th>\n",
              "      <td>...</td>\n",
              "      <td>...</td>\n",
              "      <td>...</td>\n",
              "      <td>...</td>\n",
              "      <td>...</td>\n",
              "      <td>...</td>\n",
              "      <td>...</td>\n",
              "      <td>...</td>\n",
              "      <td>...</td>\n",
              "    </tr>\n",
              "    <tr>\n",
              "      <th>763</th>\n",
              "      <td>10</td>\n",
              "      <td>101</td>\n",
              "      <td>76</td>\n",
              "      <td>48</td>\n",
              "      <td>180</td>\n",
              "      <td>32.9</td>\n",
              "      <td>0.171</td>\n",
              "      <td>63</td>\n",
              "      <td>0</td>\n",
              "    </tr>\n",
              "    <tr>\n",
              "      <th>764</th>\n",
              "      <td>2</td>\n",
              "      <td>122</td>\n",
              "      <td>70</td>\n",
              "      <td>27</td>\n",
              "      <td>0</td>\n",
              "      <td>36.8</td>\n",
              "      <td>0.340</td>\n",
              "      <td>27</td>\n",
              "      <td>0</td>\n",
              "    </tr>\n",
              "    <tr>\n",
              "      <th>765</th>\n",
              "      <td>5</td>\n",
              "      <td>121</td>\n",
              "      <td>72</td>\n",
              "      <td>23</td>\n",
              "      <td>112</td>\n",
              "      <td>26.2</td>\n",
              "      <td>0.245</td>\n",
              "      <td>30</td>\n",
              "      <td>0</td>\n",
              "    </tr>\n",
              "    <tr>\n",
              "      <th>766</th>\n",
              "      <td>1</td>\n",
              "      <td>126</td>\n",
              "      <td>60</td>\n",
              "      <td>0</td>\n",
              "      <td>0</td>\n",
              "      <td>30.1</td>\n",
              "      <td>0.349</td>\n",
              "      <td>47</td>\n",
              "      <td>1</td>\n",
              "    </tr>\n",
              "    <tr>\n",
              "      <th>767</th>\n",
              "      <td>1</td>\n",
              "      <td>93</td>\n",
              "      <td>70</td>\n",
              "      <td>31</td>\n",
              "      <td>0</td>\n",
              "      <td>30.4</td>\n",
              "      <td>0.315</td>\n",
              "      <td>23</td>\n",
              "      <td>0</td>\n",
              "    </tr>\n",
              "  </tbody>\n",
              "</table>\n",
              "<p>768 rows × 9 columns</p>\n",
              "</div>"
            ],
            "text/plain": [
              "     Pregnancies  Glucose  ...  Age  Outcome\n",
              "0              6      148  ...   50        1\n",
              "1              1       85  ...   31        0\n",
              "2              8      183  ...   32        1\n",
              "3              1       89  ...   21        0\n",
              "4              0      137  ...   33        1\n",
              "..           ...      ...  ...  ...      ...\n",
              "763           10      101  ...   63        0\n",
              "764            2      122  ...   27        0\n",
              "765            5      121  ...   30        0\n",
              "766            1      126  ...   47        1\n",
              "767            1       93  ...   23        0\n",
              "\n",
              "[768 rows x 9 columns]"
            ]
          },
          "metadata": {
            "tags": []
          },
          "execution_count": 6
        }
      ]
    },
    {
      "cell_type": "markdown",
      "metadata": {
        "id": "HYOy_HzxJrL8"
      },
      "source": [
        "## 1. Separe os dados em treino (80%) e teste (20%).\n"
      ]
    },
    {
      "cell_type": "code",
      "metadata": {
        "id": "B1oc1edYJqlK"
      },
      "source": [
        "X = data.drop(['Outcome'], axis=1)\n",
        "y = data['Outcome']"
      ],
      "execution_count": 7,
      "outputs": []
    },
    {
      "cell_type": "code",
      "metadata": {
        "id": "vp1wSItDJp5W"
      },
      "source": [
        "X_train, X_test, y_train, y_test = train_test_split(X, y, test_size=0.2, random_state=0, stratify=y)"
      ],
      "execution_count": 8,
      "outputs": []
    },
    {
      "cell_type": "markdown",
      "metadata": {
        "id": "WnPhKn8OJVOl"
      },
      "source": [
        "## 2. Crie os modelos a seguir sobre o conjunto de treino e calcule F1-Score sobre os dados de treino e de teste usando:\n"
      ]
    },
    {
      "cell_type": "markdown",
      "metadata": {
        "id": "QUhFeynWLdQz"
      },
      "source": [
        "#### 1. Random Forest"
      ]
    },
    {
      "cell_type": "code",
      "metadata": {
        "id": "6TCsUff9LdvO"
      },
      "source": [
        "pipe = Pipeline([\n",
        "    ('scaler', PipelineHelper([\n",
        "        ('std', StandardScaler()),\n",
        "        ('max', MaxAbsScaler()),\n",
        "    ])),\n",
        "    ('classifier', PipelineHelper([\n",
        "        ('rf', RandomForestClassifier()),\n",
        "    ])),\n",
        "])\n",
        "\n",
        "params = {\n",
        "    'scaler__selected_model': pipe.named_steps['scaler'].generate({\n",
        "        'std__with_mean': [True, False],\n",
        "        'std__with_std': [True, False],\n",
        "        'max__copy': [True],  # just for displaying\n",
        "    }),\n",
        "    'classifier__selected_model': pipe.named_steps['classifier'].generate({\n",
        "        'rf__n_estimators': [100, 20],\n",
        "    })\n",
        "}\n"
      ],
      "execution_count": 9,
      "outputs": []
    },
    {
      "cell_type": "code",
      "metadata": {
        "id": "KBzHfX6iLrHw"
      },
      "source": [
        ""
      ],
      "execution_count": 9,
      "outputs": []
    },
    {
      "cell_type": "code",
      "metadata": {
        "id": "M8tBJqBwLqA_"
      },
      "source": [
        "grid = GridSearchCV(pipe, params, scoring='f1', verbose=1, n_jobs=-1)"
      ],
      "execution_count": 10,
      "outputs": []
    },
    {
      "cell_type": "code",
      "metadata": {
        "colab": {
          "base_uri": "https://localhost:8080/"
        },
        "id": "4YeCDdlbLr8P",
        "outputId": "91332645-80d8-4283-c6b9-8ecfef864e16"
      },
      "source": [
        "grid.fit(X_train, y_train)"
      ],
      "execution_count": 11,
      "outputs": [
        {
          "output_type": "stream",
          "text": [
            "Fitting 5 folds for each of 10 candidates, totalling 50 fits\n"
          ],
          "name": "stdout"
        },
        {
          "output_type": "stream",
          "text": [
            "[Parallel(n_jobs=-1)]: Using backend LokyBackend with 2 concurrent workers.\n",
            "[Parallel(n_jobs=-1)]: Done  50 out of  50 | elapsed:    6.5s finished\n"
          ],
          "name": "stderr"
        },
        {
          "output_type": "execute_result",
          "data": {
            "text/plain": [
              "GridSearchCV(cv=None, error_score=nan,\n",
              "             estimator=Pipeline(memory=None,\n",
              "                                steps=[('scaler',\n",
              "                                        PipelineHelper(available_models={'max': MaxAbsScaler(copy=True),\n",
              "                                                                         'std': StandardScaler(copy=True,\n",
              "                                                                                               with_mean=True,\n",
              "                                                                                               with_std=True)},\n",
              "                                                       optional=False,\n",
              "                                                       selected_model=None)),\n",
              "                                       ('classifier',\n",
              "                                        PipelineHelper(available_models={'rf': RandomForestClassifier(bootstrap=True,\n",
              "                                                                                                      ccp_alpha=0.0...\n",
              "                                                         {'n_estimators': 100}),\n",
              "                                                        ('rf',\n",
              "                                                         {'n_estimators': 20})],\n",
              "                         'scaler__selected_model': [('std',\n",
              "                                                     {'with_mean': True,\n",
              "                                                      'with_std': True}),\n",
              "                                                    ('std',\n",
              "                                                     {'with_mean': True,\n",
              "                                                      'with_std': False}),\n",
              "                                                    ('std',\n",
              "                                                     {'with_mean': False,\n",
              "                                                      'with_std': True}),\n",
              "                                                    ('std',\n",
              "                                                     {'with_mean': False,\n",
              "                                                      'with_std': False}),\n",
              "                                                    ('max', {'copy': True})]},\n",
              "             pre_dispatch='2*n_jobs', refit=True, return_train_score=False,\n",
              "             scoring='f1', verbose=1)"
            ]
          },
          "metadata": {
            "tags": []
          },
          "execution_count": 11
        }
      ]
    },
    {
      "cell_type": "code",
      "metadata": {
        "colab": {
          "base_uri": "https://localhost:8080/"
        },
        "id": "cv-OnCXuL1hO",
        "outputId": "5f6eab4f-d873-455a-882e-99417617548f"
      },
      "source": [
        "print(grid.best_params_)\n",
        "print(grid.best_score_)"
      ],
      "execution_count": 12,
      "outputs": [
        {
          "output_type": "stream",
          "text": [
            "{'classifier__selected_model': ('rf', {'n_estimators': 100}), 'scaler__selected_model': ('std', {'with_mean': False, 'with_std': True})}\n",
            "0.6194644861311527\n"
          ],
          "name": "stdout"
        }
      ]
    },
    {
      "cell_type": "code",
      "metadata": {
        "id": "7lbIIsbpL_Zw"
      },
      "source": [
        "model = grid\n",
        "rf_pred = model.predict(X_test)"
      ],
      "execution_count": 13,
      "outputs": []
    },
    {
      "cell_type": "code",
      "metadata": {
        "colab": {
          "base_uri": "https://localhost:8080/"
        },
        "id": "dyIaaETjMFXm",
        "outputId": "1af61c8d-4119-4452-cffd-0e6640a5235a"
      },
      "source": [
        "f1_score(y_test, rf_pred)"
      ],
      "execution_count": 14,
      "outputs": [
        {
          "output_type": "execute_result",
          "data": {
            "text/plain": [
              "0.6734693877551021"
            ]
          },
          "metadata": {
            "tags": []
          },
          "execution_count": 14
        }
      ]
    },
    {
      "cell_type": "markdown",
      "metadata": {
        "id": "iG7lZc4oMRrO"
      },
      "source": [
        "### 2. Gradient Boosting do Scikit Learn\n"
      ]
    },
    {
      "cell_type": "code",
      "metadata": {
        "id": "ZxtRPj3sMJHc"
      },
      "source": [
        "pipe = Pipeline([\n",
        "    ('scaler', PipelineHelper([\n",
        "        ('std', StandardScaler()),\n",
        "        ('max', MaxAbsScaler()),\n",
        "    ])),\n",
        "    ('classifier', PipelineHelper([\n",
        "        ('gb', GradientBoostingClassifier()),\n",
        "    ])),\n",
        "])\n",
        "\n",
        "params = {\n",
        "    'scaler__selected_model': pipe.named_steps['scaler'].generate({\n",
        "        'std__with_mean': [True, False],\n",
        "        'std__with_std': [True, False],\n",
        "        'max__copy': [True],  # just for displaying\n",
        "    }),\n",
        "    'classifier__selected_model': pipe.named_steps['classifier'].generate({\n",
        "        'gb__n_estimators': [100, 200, 300],\n",
        "        'gb__loss': ['deviance', 'exponential'],\n",
        "        'gb__max_depth': [2, 3, 4, 5],\n",
        "    })\n",
        "}\n"
      ],
      "execution_count": 15,
      "outputs": []
    },
    {
      "cell_type": "code",
      "metadata": {
        "id": "24lh5V7-NFBc"
      },
      "source": [
        "grid = GridSearchCV(pipe, params, scoring='f1', verbose=1, n_jobs=-1)"
      ],
      "execution_count": 16,
      "outputs": []
    },
    {
      "cell_type": "code",
      "metadata": {
        "colab": {
          "base_uri": "https://localhost:8080/"
        },
        "id": "uxxOWpe1NI03",
        "outputId": "b1cbb963-c834-42aa-8a5a-b9b1b4e41fa0"
      },
      "source": [
        "grid.fit(X_train, y_train)"
      ],
      "execution_count": 17,
      "outputs": [
        {
          "output_type": "stream",
          "text": [
            "Fitting 5 folds for each of 120 candidates, totalling 600 fits\n"
          ],
          "name": "stdout"
        },
        {
          "output_type": "stream",
          "text": [
            "[Parallel(n_jobs=-1)]: Using backend LokyBackend with 2 concurrent workers.\n",
            "[Parallel(n_jobs=-1)]: Done  88 tasks      | elapsed:   13.4s\n",
            "[Parallel(n_jobs=-1)]: Done 264 tasks      | elapsed:   59.2s\n",
            "[Parallel(n_jobs=-1)]: Done 514 tasks      | elapsed:  2.1min\n",
            "[Parallel(n_jobs=-1)]: Done 600 out of 600 | elapsed:  2.7min finished\n"
          ],
          "name": "stderr"
        },
        {
          "output_type": "execute_result",
          "data": {
            "text/plain": [
              "GridSearchCV(cv=None, error_score=nan,\n",
              "             estimator=Pipeline(memory=None,\n",
              "                                steps=[('scaler',\n",
              "                                        PipelineHelper(available_models={'max': MaxAbsScaler(copy=True),\n",
              "                                                                         'std': StandardScaler(copy=True,\n",
              "                                                                                               with_mean=True,\n",
              "                                                                                               with_std=True)},\n",
              "                                                       optional=False,\n",
              "                                                       selected_model=None)),\n",
              "                                       ('classifier',\n",
              "                                        PipelineHelper(available_models={'gb': GradientBoostingClassifier(ccp_alpha=0.0,\n",
              "                                                                                                          criterion=...\n",
              "                                                         {'loss': 'exponential',\n",
              "                                                          'max_depth': 5,\n",
              "                                                          'n_estimators': 300})],\n",
              "                         'scaler__selected_model': [('std',\n",
              "                                                     {'with_mean': True,\n",
              "                                                      'with_std': True}),\n",
              "                                                    ('std',\n",
              "                                                     {'with_mean': True,\n",
              "                                                      'with_std': False}),\n",
              "                                                    ('std',\n",
              "                                                     {'with_mean': False,\n",
              "                                                      'with_std': True}),\n",
              "                                                    ('std',\n",
              "                                                     {'with_mean': False,\n",
              "                                                      'with_std': False}),\n",
              "                                                    ('max', {'copy': True})]},\n",
              "             pre_dispatch='2*n_jobs', refit=True, return_train_score=False,\n",
              "             scoring='f1', verbose=1)"
            ]
          },
          "metadata": {
            "tags": []
          },
          "execution_count": 17
        }
      ]
    },
    {
      "cell_type": "code",
      "metadata": {
        "id": "kLYeBHk7NMFP",
        "colab": {
          "base_uri": "https://localhost:8080/"
        },
        "outputId": "7e679b6c-ae4a-4c52-cd45-4ca54443e376"
      },
      "source": [
        "print(grid.best_params_)\n",
        "print(grid.best_score_)"
      ],
      "execution_count": 18,
      "outputs": [
        {
          "output_type": "stream",
          "text": [
            "{'classifier__selected_model': ('gb', {'loss': 'deviance', 'max_depth': 3, 'n_estimators': 100}), 'scaler__selected_model': ('std', {'with_mean': True, 'with_std': False})}\n",
            "0.6281770778949163\n"
          ],
          "name": "stdout"
        }
      ]
    },
    {
      "cell_type": "code",
      "metadata": {
        "id": "-9cPMeaYNf0e"
      },
      "source": [
        "model = grid\n",
        "gb_pred = model.predict(X_test)"
      ],
      "execution_count": 19,
      "outputs": []
    },
    {
      "cell_type": "code",
      "metadata": {
        "id": "IJaCiRE5Nh0L",
        "colab": {
          "base_uri": "https://localhost:8080/"
        },
        "outputId": "9443ac7d-d7ed-46a8-b2c6-48da0b7dfbcc"
      },
      "source": [
        "f1_score(y_test, gb_pred)"
      ],
      "execution_count": 20,
      "outputs": [
        {
          "output_type": "execute_result",
          "data": {
            "text/plain": [
              "0.72"
            ]
          },
          "metadata": {
            "tags": []
          },
          "execution_count": 20
        }
      ]
    },
    {
      "cell_type": "markdown",
      "metadata": {
        "id": "bmQPc5qwNnPD"
      },
      "source": [
        "#### 3. XGBoost "
      ]
    },
    {
      "cell_type": "code",
      "metadata": {
        "id": "53wHdx3pRIF8"
      },
      "source": [
        "xgb = XGBClassifier(objective=\"binary:logistic\")\n",
        "param_grid = {\n",
        "    \"max_depth\": [3, 4, 5, 7],\n",
        "    \"n_estimators\": [100, 200, 300],\n",
        "    \"learning_rate\": [0.1, 0.01, 0.05],\n",
        "}"
      ],
      "execution_count": 21,
      "outputs": []
    },
    {
      "cell_type": "code",
      "metadata": {
        "id": "vu2kzGsCRRyk"
      },
      "source": [
        "grid_cv = GridSearchCV(xgb, param_grid, n_jobs=-1, cv=5, scoring=\"f1\")\n"
      ],
      "execution_count": 22,
      "outputs": []
    },
    {
      "cell_type": "code",
      "metadata": {
        "colab": {
          "base_uri": "https://localhost:8080/"
        },
        "id": "XOPgMNVbRp2P",
        "outputId": "ca182e7e-3557-41d8-897d-b6898158ddd8"
      },
      "source": [
        "grid_cv.fit(X_train, y_train)"
      ],
      "execution_count": 23,
      "outputs": [
        {
          "output_type": "execute_result",
          "data": {
            "text/plain": [
              "GridSearchCV(cv=5, error_score=nan,\n",
              "             estimator=XGBClassifier(base_score=0.5, booster='gbtree',\n",
              "                                     colsample_bylevel=1, colsample_bynode=1,\n",
              "                                     colsample_bytree=1, gamma=0,\n",
              "                                     learning_rate=0.1, max_delta_step=0,\n",
              "                                     max_depth=3, min_child_weight=1,\n",
              "                                     missing=None, n_estimators=100, n_jobs=1,\n",
              "                                     nthread=None, objective='binary:logistic',\n",
              "                                     random_state=0, reg_alpha=0, reg_lambda=1,\n",
              "                                     scale_pos_weight=1, seed=None, silent=None,\n",
              "                                     subsample=1, verbosity=1),\n",
              "             iid='deprecated', n_jobs=-1,\n",
              "             param_grid={'learning_rate': [0.1, 0.01, 0.05],\n",
              "                         'max_depth': [3, 4, 5, 7],\n",
              "                         'n_estimators': [100, 200, 300]},\n",
              "             pre_dispatch='2*n_jobs', refit=True, return_train_score=False,\n",
              "             scoring='f1', verbose=0)"
            ]
          },
          "metadata": {
            "tags": []
          },
          "execution_count": 23
        }
      ]
    },
    {
      "cell_type": "code",
      "metadata": {
        "colab": {
          "base_uri": "https://localhost:8080/"
        },
        "id": "btoC006qR6Dj",
        "outputId": "92840cac-f6b8-4ade-8260-aa9883e43f15"
      },
      "source": [
        "print(grid_cv.best_params_)\n",
        "print(grid_cv.best_score_)"
      ],
      "execution_count": 24,
      "outputs": [
        {
          "output_type": "stream",
          "text": [
            "{'learning_rate': 0.01, 'max_depth': 4, 'n_estimators': 200}\n",
            "0.6307482655157075\n"
          ],
          "name": "stdout"
        }
      ]
    },
    {
      "cell_type": "code",
      "metadata": {
        "id": "pnE1S9tvSFf0"
      },
      "source": [
        "xgb = grid_cv\n",
        "xgb_pred = xgb.predict(X_test)"
      ],
      "execution_count": 25,
      "outputs": []
    },
    {
      "cell_type": "code",
      "metadata": {
        "id": "QJplTg75SMkg",
        "colab": {
          "base_uri": "https://localhost:8080/"
        },
        "outputId": "6ea78de9-5bd3-4d59-ee2c-6b86b2d23838"
      },
      "source": [
        "f1_score(y_test, xgb_pred)"
      ],
      "execution_count": 26,
      "outputs": [
        {
          "output_type": "execute_result",
          "data": {
            "text/plain": [
              "0.6666666666666667"
            ]
          },
          "metadata": {
            "tags": []
          },
          "execution_count": 26
        }
      ]
    },
    {
      "cell_type": "markdown",
      "metadata": {
        "id": "csb5AAyQh2pD"
      },
      "source": [
        "#### 4. LightGBM"
      ]
    },
    {
      "cell_type": "code",
      "metadata": {
        "id": "6GDTQyd1h65W"
      },
      "source": [
        "lgb = LGBMClassifier()\n",
        "param_grid = {'num_leaves':[20,40,60], 'max_depth':[-1, 5, 10],\n",
        "             'learning_rate':[0.05, 0.1,0.2]}"
      ],
      "execution_count": 36,
      "outputs": []
    },
    {
      "cell_type": "code",
      "metadata": {
        "id": "QSpadM44iQbU"
      },
      "source": [
        "grid_cv = GridSearchCV(lgb, param_grid, n_jobs=-1, cv=5, scoring=\"f1\")\n"
      ],
      "execution_count": 37,
      "outputs": []
    },
    {
      "cell_type": "code",
      "metadata": {
        "colab": {
          "base_uri": "https://localhost:8080/"
        },
        "id": "vpNZ3mntiUgY",
        "outputId": "c2f8f706-c768-4cfc-e8b3-a9e49abbf2cc"
      },
      "source": [
        "grid_cv.fit(X_train, y_train)"
      ],
      "execution_count": 38,
      "outputs": [
        {
          "output_type": "execute_result",
          "data": {
            "text/plain": [
              "GridSearchCV(cv=5, error_score=nan,\n",
              "             estimator=LGBMClassifier(boosting_type='gbdt', class_weight=None,\n",
              "                                      colsample_bytree=1.0,\n",
              "                                      importance_type='split',\n",
              "                                      learning_rate=0.1, max_depth=-1,\n",
              "                                      min_child_samples=20,\n",
              "                                      min_child_weight=0.001,\n",
              "                                      min_split_gain=0.0, n_estimators=100,\n",
              "                                      n_jobs=-1, num_leaves=31, objective=None,\n",
              "                                      random_state=None, reg_alpha=0.0,\n",
              "                                      reg_lambda=0.0, silent=True,\n",
              "                                      subsample=1.0, subsample_for_bin=200000,\n",
              "                                      subsample_freq=0),\n",
              "             iid='deprecated', n_jobs=-1,\n",
              "             param_grid={'learning_rate': [0.05, 0.1, 0.2],\n",
              "                         'max_depth': [-1, 5, 10], 'num_leaves': [20, 40, 60]},\n",
              "             pre_dispatch='2*n_jobs', refit=True, return_train_score=False,\n",
              "             scoring='f1', verbose=0)"
            ]
          },
          "metadata": {
            "tags": []
          },
          "execution_count": 38
        }
      ]
    },
    {
      "cell_type": "code",
      "metadata": {
        "colab": {
          "base_uri": "https://localhost:8080/"
        },
        "id": "aCty0W5biXya",
        "outputId": "4d9a93af-b773-4208-ca41-a2705b258f9c"
      },
      "source": [
        "print(grid_cv.best_params_)\n",
        "print(grid_cv.best_score_)"
      ],
      "execution_count": 39,
      "outputs": [
        {
          "output_type": "stream",
          "text": [
            "{'learning_rate': 0.05, 'max_depth': 10, 'num_leaves': 20}\n",
            "0.6143723574076565\n"
          ],
          "name": "stdout"
        }
      ]
    },
    {
      "cell_type": "code",
      "metadata": {
        "id": "nTt0qAgHiff0"
      },
      "source": [
        "lgbm = grid_cv\n",
        "lgbm_pred = lgbm.predict(X_test)"
      ],
      "execution_count": 40,
      "outputs": []
    },
    {
      "cell_type": "code",
      "metadata": {
        "colab": {
          "base_uri": "https://localhost:8080/"
        },
        "id": "V3EqqqH8inhl",
        "outputId": "da44bff4-c76a-4d86-e404-aa91db07ce7e"
      },
      "source": [
        "f1_score(y_test, lgbm_pred)"
      ],
      "execution_count": 41,
      "outputs": [
        {
          "output_type": "execute_result",
          "data": {
            "text/plain": [
              "0.6666666666666666"
            ]
          },
          "metadata": {
            "tags": []
          },
          "execution_count": 41
        }
      ]
    },
    {
      "cell_type": "markdown",
      "metadata": {
        "id": "y49QJoYxp2e9"
      },
      "source": [
        "#### 5. CatBoost"
      ]
    },
    {
      "cell_type": "code",
      "metadata": {
        "id": "0QOnrNVHp34N"
      },
      "source": [
        "cbc = CatBoostClassifier()\n",
        "param_grid = {'depth'         : [4, 5, 7],\n",
        "              'learning_rate' : [0.01,0.02,0.03],\n",
        "}"
      ],
      "execution_count": 28,
      "outputs": []
    },
    {
      "cell_type": "code",
      "metadata": {
        "id": "GfvQYXI7qHJD"
      },
      "source": [
        "grid_cv = GridSearchCV(cbc, param_grid, n_jobs=-1, cv=5, scoring=\"f1\")\n"
      ],
      "execution_count": 29,
      "outputs": []
    },
    {
      "cell_type": "code",
      "metadata": {
        "colab": {
          "base_uri": "https://localhost:8080/"
        },
        "id": "LA6rAJ-MqMFR",
        "outputId": "77652c8b-acfd-46ff-b537-47e9dcf7a37f"
      },
      "source": [
        "grid_cv.fit(X_train, y_train)"
      ],
      "execution_count": 30,
      "outputs": [
        {
          "output_type": "stream",
          "text": [
            "0:\tlearn: 0.6815632\ttotal: 51.5ms\tremaining: 51.5s\n",
            "1:\tlearn: 0.6722663\ttotal: 53.8ms\tremaining: 26.8s\n",
            "2:\tlearn: 0.6621847\ttotal: 56ms\tremaining: 18.6s\n",
            "3:\tlearn: 0.6529564\ttotal: 58.1ms\tremaining: 14.5s\n",
            "4:\tlearn: 0.6423249\ttotal: 60.3ms\tremaining: 12s\n",
            "5:\tlearn: 0.6342900\ttotal: 62.4ms\tremaining: 10.3s\n",
            "6:\tlearn: 0.6248554\ttotal: 64.5ms\tremaining: 9.16s\n",
            "7:\tlearn: 0.6172942\ttotal: 66.7ms\tremaining: 8.27s\n",
            "8:\tlearn: 0.6092561\ttotal: 68.9ms\tremaining: 7.58s\n",
            "9:\tlearn: 0.6013613\ttotal: 71ms\tremaining: 7.03s\n",
            "10:\tlearn: 0.5948873\ttotal: 73.1ms\tremaining: 6.58s\n",
            "11:\tlearn: 0.5881826\ttotal: 75.3ms\tremaining: 6.2s\n",
            "12:\tlearn: 0.5823280\ttotal: 77.4ms\tremaining: 5.88s\n",
            "13:\tlearn: 0.5764408\ttotal: 79.6ms\tremaining: 5.6s\n",
            "14:\tlearn: 0.5694969\ttotal: 81.7ms\tremaining: 5.37s\n",
            "15:\tlearn: 0.5628785\ttotal: 83.9ms\tremaining: 5.16s\n",
            "16:\tlearn: 0.5562844\ttotal: 86ms\tremaining: 4.97s\n",
            "17:\tlearn: 0.5502864\ttotal: 88.3ms\tremaining: 4.82s\n",
            "18:\tlearn: 0.5449979\ttotal: 90.4ms\tremaining: 4.67s\n",
            "19:\tlearn: 0.5400884\ttotal: 92.6ms\tremaining: 4.54s\n",
            "20:\tlearn: 0.5350273\ttotal: 94.8ms\tremaining: 4.42s\n",
            "21:\tlearn: 0.5304509\ttotal: 102ms\tremaining: 4.54s\n",
            "22:\tlearn: 0.5253557\ttotal: 105ms\tremaining: 4.45s\n",
            "23:\tlearn: 0.5208698\ttotal: 107ms\tremaining: 4.36s\n",
            "24:\tlearn: 0.5162089\ttotal: 110ms\tremaining: 4.28s\n",
            "25:\tlearn: 0.5114926\ttotal: 112ms\tremaining: 4.2s\n",
            "26:\tlearn: 0.5074374\ttotal: 114ms\tremaining: 4.13s\n",
            "27:\tlearn: 0.5036915\ttotal: 117ms\tremaining: 4.06s\n",
            "28:\tlearn: 0.4980203\ttotal: 119ms\tremaining: 3.99s\n",
            "29:\tlearn: 0.4950534\ttotal: 122ms\tremaining: 3.94s\n",
            "30:\tlearn: 0.4912549\ttotal: 124ms\tremaining: 3.88s\n",
            "31:\tlearn: 0.4877957\ttotal: 126ms\tremaining: 3.83s\n",
            "32:\tlearn: 0.4844664\ttotal: 129ms\tremaining: 3.78s\n",
            "33:\tlearn: 0.4807819\ttotal: 131ms\tremaining: 3.73s\n",
            "34:\tlearn: 0.4767921\ttotal: 134ms\tremaining: 3.69s\n",
            "35:\tlearn: 0.4727927\ttotal: 136ms\tremaining: 3.65s\n",
            "36:\tlearn: 0.4694039\ttotal: 139ms\tremaining: 3.61s\n",
            "37:\tlearn: 0.4656022\ttotal: 141ms\tremaining: 3.57s\n",
            "38:\tlearn: 0.4630475\ttotal: 143ms\tremaining: 3.53s\n",
            "39:\tlearn: 0.4598001\ttotal: 146ms\tremaining: 3.5s\n",
            "40:\tlearn: 0.4566973\ttotal: 148ms\tremaining: 3.46s\n",
            "41:\tlearn: 0.4533683\ttotal: 151ms\tremaining: 3.43s\n",
            "42:\tlearn: 0.4503883\ttotal: 153ms\tremaining: 3.41s\n",
            "43:\tlearn: 0.4482881\ttotal: 156ms\tremaining: 3.38s\n",
            "44:\tlearn: 0.4450136\ttotal: 158ms\tremaining: 3.35s\n",
            "45:\tlearn: 0.4428058\ttotal: 161ms\tremaining: 3.33s\n",
            "46:\tlearn: 0.4406771\ttotal: 163ms\tremaining: 3.31s\n",
            "47:\tlearn: 0.4378519\ttotal: 165ms\tremaining: 3.28s\n",
            "48:\tlearn: 0.4358175\ttotal: 168ms\tremaining: 3.26s\n",
            "49:\tlearn: 0.4333923\ttotal: 170ms\tremaining: 3.23s\n",
            "50:\tlearn: 0.4308768\ttotal: 173ms\tremaining: 3.21s\n",
            "51:\tlearn: 0.4285366\ttotal: 175ms\tremaining: 3.19s\n",
            "52:\tlearn: 0.4263739\ttotal: 177ms\tremaining: 3.17s\n",
            "53:\tlearn: 0.4244837\ttotal: 180ms\tremaining: 3.15s\n",
            "54:\tlearn: 0.4223125\ttotal: 182ms\tremaining: 3.13s\n",
            "55:\tlearn: 0.4202731\ttotal: 185ms\tremaining: 3.12s\n",
            "56:\tlearn: 0.4185238\ttotal: 187ms\tremaining: 3.1s\n",
            "57:\tlearn: 0.4170917\ttotal: 190ms\tremaining: 3.08s\n",
            "58:\tlearn: 0.4150300\ttotal: 192ms\tremaining: 3.07s\n",
            "59:\tlearn: 0.4130829\ttotal: 195ms\tremaining: 3.05s\n",
            "60:\tlearn: 0.4113314\ttotal: 197ms\tremaining: 3.03s\n",
            "61:\tlearn: 0.4094518\ttotal: 199ms\tremaining: 3.02s\n",
            "62:\tlearn: 0.4080695\ttotal: 202ms\tremaining: 3s\n",
            "63:\tlearn: 0.4067410\ttotal: 205ms\tremaining: 2.99s\n",
            "64:\tlearn: 0.4051604\ttotal: 207ms\tremaining: 2.98s\n",
            "65:\tlearn: 0.4034606\ttotal: 209ms\tremaining: 2.96s\n",
            "66:\tlearn: 0.4008974\ttotal: 212ms\tremaining: 2.95s\n",
            "67:\tlearn: 0.3990079\ttotal: 214ms\tremaining: 2.94s\n",
            "68:\tlearn: 0.3979553\ttotal: 217ms\tremaining: 2.92s\n",
            "69:\tlearn: 0.3962135\ttotal: 219ms\tremaining: 2.91s\n",
            "70:\tlearn: 0.3951048\ttotal: 221ms\tremaining: 2.9s\n",
            "71:\tlearn: 0.3941815\ttotal: 224ms\tremaining: 2.88s\n",
            "72:\tlearn: 0.3928279\ttotal: 226ms\tremaining: 2.87s\n",
            "73:\tlearn: 0.3907901\ttotal: 229ms\tremaining: 2.86s\n",
            "74:\tlearn: 0.3895151\ttotal: 231ms\tremaining: 2.85s\n",
            "75:\tlearn: 0.3882138\ttotal: 233ms\tremaining: 2.84s\n",
            "76:\tlearn: 0.3863426\ttotal: 236ms\tremaining: 2.83s\n",
            "77:\tlearn: 0.3846217\ttotal: 240ms\tremaining: 2.84s\n",
            "78:\tlearn: 0.3825469\ttotal: 247ms\tremaining: 2.88s\n",
            "79:\tlearn: 0.3813345\ttotal: 250ms\tremaining: 2.87s\n",
            "80:\tlearn: 0.3802176\ttotal: 252ms\tremaining: 2.86s\n",
            "81:\tlearn: 0.3792071\ttotal: 254ms\tremaining: 2.84s\n",
            "82:\tlearn: 0.3780254\ttotal: 256ms\tremaining: 2.83s\n",
            "83:\tlearn: 0.3765650\ttotal: 258ms\tremaining: 2.81s\n",
            "84:\tlearn: 0.3757389\ttotal: 260ms\tremaining: 2.8s\n",
            "85:\tlearn: 0.3744204\ttotal: 262ms\tremaining: 2.79s\n",
            "86:\tlearn: 0.3727012\ttotal: 265ms\tremaining: 2.78s\n",
            "87:\tlearn: 0.3712841\ttotal: 267ms\tremaining: 2.76s\n",
            "88:\tlearn: 0.3702502\ttotal: 269ms\tremaining: 2.75s\n",
            "89:\tlearn: 0.3683715\ttotal: 271ms\tremaining: 2.74s\n",
            "90:\tlearn: 0.3672886\ttotal: 273ms\tremaining: 2.73s\n",
            "91:\tlearn: 0.3660053\ttotal: 275ms\tremaining: 2.72s\n",
            "92:\tlearn: 0.3646653\ttotal: 277ms\tremaining: 2.71s\n",
            "93:\tlearn: 0.3638464\ttotal: 280ms\tremaining: 2.69s\n",
            "94:\tlearn: 0.3623481\ttotal: 282ms\tremaining: 2.69s\n",
            "95:\tlearn: 0.3612230\ttotal: 285ms\tremaining: 2.68s\n",
            "96:\tlearn: 0.3602813\ttotal: 287ms\tremaining: 2.67s\n",
            "97:\tlearn: 0.3591627\ttotal: 290ms\tremaining: 2.67s\n",
            "98:\tlearn: 0.3581900\ttotal: 292ms\tremaining: 2.66s\n",
            "99:\tlearn: 0.3571830\ttotal: 295ms\tremaining: 2.65s\n",
            "100:\tlearn: 0.3556993\ttotal: 297ms\tremaining: 2.65s\n",
            "101:\tlearn: 0.3547467\ttotal: 300ms\tremaining: 2.64s\n",
            "102:\tlearn: 0.3533969\ttotal: 302ms\tremaining: 2.63s\n",
            "103:\tlearn: 0.3526142\ttotal: 305ms\tremaining: 2.63s\n",
            "104:\tlearn: 0.3516126\ttotal: 307ms\tremaining: 2.62s\n",
            "105:\tlearn: 0.3504426\ttotal: 310ms\tremaining: 2.61s\n",
            "106:\tlearn: 0.3492293\ttotal: 312ms\tremaining: 2.61s\n",
            "107:\tlearn: 0.3484831\ttotal: 315ms\tremaining: 2.6s\n",
            "108:\tlearn: 0.3475274\ttotal: 317ms\tremaining: 2.59s\n",
            "109:\tlearn: 0.3460145\ttotal: 320ms\tremaining: 2.59s\n",
            "110:\tlearn: 0.3447574\ttotal: 322ms\tremaining: 2.58s\n",
            "111:\tlearn: 0.3436755\ttotal: 325ms\tremaining: 2.58s\n",
            "112:\tlearn: 0.3429924\ttotal: 327ms\tremaining: 2.57s\n",
            "113:\tlearn: 0.3421340\ttotal: 330ms\tremaining: 2.56s\n",
            "114:\tlearn: 0.3411517\ttotal: 332ms\tremaining: 2.56s\n",
            "115:\tlearn: 0.3403485\ttotal: 335ms\tremaining: 2.55s\n",
            "116:\tlearn: 0.3398067\ttotal: 337ms\tremaining: 2.54s\n",
            "117:\tlearn: 0.3384857\ttotal: 339ms\tremaining: 2.54s\n",
            "118:\tlearn: 0.3375290\ttotal: 342ms\tremaining: 2.53s\n",
            "119:\tlearn: 0.3366257\ttotal: 344ms\tremaining: 2.52s\n",
            "120:\tlearn: 0.3358446\ttotal: 346ms\tremaining: 2.52s\n",
            "121:\tlearn: 0.3351378\ttotal: 349ms\tremaining: 2.51s\n",
            "122:\tlearn: 0.3344114\ttotal: 351ms\tremaining: 2.5s\n",
            "123:\tlearn: 0.3334725\ttotal: 354ms\tremaining: 2.5s\n",
            "124:\tlearn: 0.3324606\ttotal: 356ms\tremaining: 2.49s\n",
            "125:\tlearn: 0.3314007\ttotal: 359ms\tremaining: 2.49s\n",
            "126:\tlearn: 0.3304460\ttotal: 361ms\tremaining: 2.48s\n",
            "127:\tlearn: 0.3294519\ttotal: 364ms\tremaining: 2.48s\n",
            "128:\tlearn: 0.3286100\ttotal: 366ms\tremaining: 2.47s\n",
            "129:\tlearn: 0.3276110\ttotal: 368ms\tremaining: 2.46s\n",
            "130:\tlearn: 0.3270891\ttotal: 371ms\tremaining: 2.46s\n",
            "131:\tlearn: 0.3259662\ttotal: 373ms\tremaining: 2.45s\n",
            "132:\tlearn: 0.3245476\ttotal: 376ms\tremaining: 2.45s\n",
            "133:\tlearn: 0.3232995\ttotal: 378ms\tremaining: 2.44s\n",
            "134:\tlearn: 0.3222816\ttotal: 381ms\tremaining: 2.44s\n",
            "135:\tlearn: 0.3214524\ttotal: 383ms\tremaining: 2.43s\n",
            "136:\tlearn: 0.3207476\ttotal: 386ms\tremaining: 2.43s\n",
            "137:\tlearn: 0.3199541\ttotal: 388ms\tremaining: 2.42s\n",
            "138:\tlearn: 0.3190066\ttotal: 391ms\tremaining: 2.42s\n",
            "139:\tlearn: 0.3180042\ttotal: 393ms\tremaining: 2.42s\n",
            "140:\tlearn: 0.3168646\ttotal: 396ms\tremaining: 2.41s\n",
            "141:\tlearn: 0.3161240\ttotal: 398ms\tremaining: 2.4s\n",
            "142:\tlearn: 0.3153371\ttotal: 400ms\tremaining: 2.4s\n",
            "143:\tlearn: 0.3143133\ttotal: 403ms\tremaining: 2.39s\n",
            "144:\tlearn: 0.3131443\ttotal: 405ms\tremaining: 2.39s\n",
            "145:\tlearn: 0.3121022\ttotal: 408ms\tremaining: 2.38s\n",
            "146:\tlearn: 0.3113560\ttotal: 410ms\tremaining: 2.38s\n",
            "147:\tlearn: 0.3108361\ttotal: 413ms\tremaining: 2.38s\n",
            "148:\tlearn: 0.3102887\ttotal: 415ms\tremaining: 2.37s\n",
            "149:\tlearn: 0.3094177\ttotal: 417ms\tremaining: 2.37s\n",
            "150:\tlearn: 0.3089377\ttotal: 420ms\tremaining: 2.36s\n",
            "151:\tlearn: 0.3077792\ttotal: 422ms\tremaining: 2.35s\n",
            "152:\tlearn: 0.3069389\ttotal: 427ms\tremaining: 2.36s\n",
            "153:\tlearn: 0.3065199\ttotal: 431ms\tremaining: 2.37s\n",
            "154:\tlearn: 0.3055677\ttotal: 433ms\tremaining: 2.36s\n",
            "155:\tlearn: 0.3051129\ttotal: 436ms\tremaining: 2.36s\n",
            "156:\tlearn: 0.3045942\ttotal: 438ms\tremaining: 2.35s\n",
            "157:\tlearn: 0.3042857\ttotal: 440ms\tremaining: 2.34s\n",
            "158:\tlearn: 0.3037567\ttotal: 442ms\tremaining: 2.34s\n",
            "159:\tlearn: 0.3026416\ttotal: 445ms\tremaining: 2.33s\n",
            "160:\tlearn: 0.3015944\ttotal: 447ms\tremaining: 2.33s\n",
            "161:\tlearn: 0.3009714\ttotal: 449ms\tremaining: 2.32s\n",
            "162:\tlearn: 0.3004042\ttotal: 454ms\tremaining: 2.33s\n",
            "163:\tlearn: 0.2991295\ttotal: 456ms\tremaining: 2.33s\n",
            "164:\tlearn: 0.2984594\ttotal: 459ms\tremaining: 2.32s\n",
            "165:\tlearn: 0.2970407\ttotal: 461ms\tremaining: 2.32s\n",
            "166:\tlearn: 0.2965333\ttotal: 464ms\tremaining: 2.31s\n",
            "167:\tlearn: 0.2956690\ttotal: 466ms\tremaining: 2.31s\n",
            "168:\tlearn: 0.2954501\ttotal: 469ms\tremaining: 2.3s\n",
            "169:\tlearn: 0.2946713\ttotal: 471ms\tremaining: 2.3s\n",
            "170:\tlearn: 0.2939981\ttotal: 473ms\tremaining: 2.29s\n",
            "171:\tlearn: 0.2937263\ttotal: 476ms\tremaining: 2.29s\n",
            "172:\tlearn: 0.2928919\ttotal: 479ms\tremaining: 2.29s\n",
            "173:\tlearn: 0.2920325\ttotal: 481ms\tremaining: 2.29s\n",
            "174:\tlearn: 0.2914389\ttotal: 484ms\tremaining: 2.28s\n",
            "175:\tlearn: 0.2907922\ttotal: 487ms\tremaining: 2.28s\n",
            "176:\tlearn: 0.2898854\ttotal: 489ms\tremaining: 2.27s\n",
            "177:\tlearn: 0.2894060\ttotal: 492ms\tremaining: 2.27s\n",
            "178:\tlearn: 0.2889612\ttotal: 494ms\tremaining: 2.27s\n",
            "179:\tlearn: 0.2887208\ttotal: 497ms\tremaining: 2.26s\n",
            "180:\tlearn: 0.2874941\ttotal: 499ms\tremaining: 2.26s\n",
            "181:\tlearn: 0.2872439\ttotal: 501ms\tremaining: 2.25s\n",
            "182:\tlearn: 0.2863985\ttotal: 504ms\tremaining: 2.25s\n",
            "183:\tlearn: 0.2858750\ttotal: 506ms\tremaining: 2.24s\n",
            "184:\tlearn: 0.2847511\ttotal: 509ms\tremaining: 2.24s\n",
            "185:\tlearn: 0.2838635\ttotal: 511ms\tremaining: 2.24s\n",
            "186:\tlearn: 0.2829320\ttotal: 514ms\tremaining: 2.23s\n",
            "187:\tlearn: 0.2821971\ttotal: 516ms\tremaining: 2.23s\n",
            "188:\tlearn: 0.2818189\ttotal: 518ms\tremaining: 2.22s\n",
            "189:\tlearn: 0.2811101\ttotal: 521ms\tremaining: 2.22s\n",
            "190:\tlearn: 0.2801703\ttotal: 523ms\tremaining: 2.21s\n",
            "191:\tlearn: 0.2797181\ttotal: 526ms\tremaining: 2.21s\n",
            "192:\tlearn: 0.2792383\ttotal: 528ms\tremaining: 2.21s\n",
            "193:\tlearn: 0.2784049\ttotal: 530ms\tremaining: 2.2s\n",
            "194:\tlearn: 0.2772475\ttotal: 533ms\tremaining: 2.2s\n",
            "195:\tlearn: 0.2768154\ttotal: 535ms\tremaining: 2.19s\n",
            "196:\tlearn: 0.2763686\ttotal: 538ms\tremaining: 2.19s\n",
            "197:\tlearn: 0.2760187\ttotal: 540ms\tremaining: 2.19s\n",
            "198:\tlearn: 0.2752417\ttotal: 543ms\tremaining: 2.19s\n",
            "199:\tlearn: 0.2749232\ttotal: 545ms\tremaining: 2.18s\n",
            "200:\tlearn: 0.2743652\ttotal: 548ms\tremaining: 2.18s\n",
            "201:\tlearn: 0.2736248\ttotal: 550ms\tremaining: 2.17s\n",
            "202:\tlearn: 0.2726781\ttotal: 553ms\tremaining: 2.17s\n",
            "203:\tlearn: 0.2719823\ttotal: 555ms\tremaining: 2.17s\n",
            "204:\tlearn: 0.2712509\ttotal: 558ms\tremaining: 2.16s\n",
            "205:\tlearn: 0.2701313\ttotal: 560ms\tremaining: 2.16s\n",
            "206:\tlearn: 0.2695530\ttotal: 563ms\tremaining: 2.15s\n",
            "207:\tlearn: 0.2688117\ttotal: 565ms\tremaining: 2.15s\n",
            "208:\tlearn: 0.2684267\ttotal: 569ms\tremaining: 2.15s\n",
            "209:\tlearn: 0.2677477\ttotal: 572ms\tremaining: 2.15s\n",
            "210:\tlearn: 0.2672087\ttotal: 578ms\tremaining: 2.16s\n",
            "211:\tlearn: 0.2661925\ttotal: 580ms\tremaining: 2.15s\n",
            "212:\tlearn: 0.2654229\ttotal: 582ms\tremaining: 2.15s\n",
            "213:\tlearn: 0.2644955\ttotal: 584ms\tremaining: 2.15s\n",
            "214:\tlearn: 0.2636742\ttotal: 587ms\tremaining: 2.14s\n",
            "215:\tlearn: 0.2631980\ttotal: 589ms\tremaining: 2.14s\n",
            "216:\tlearn: 0.2626904\ttotal: 591ms\tremaining: 2.13s\n",
            "217:\tlearn: 0.2623366\ttotal: 593ms\tremaining: 2.13s\n",
            "218:\tlearn: 0.2618394\ttotal: 595ms\tremaining: 2.12s\n",
            "219:\tlearn: 0.2613713\ttotal: 598ms\tremaining: 2.12s\n",
            "220:\tlearn: 0.2607673\ttotal: 600ms\tremaining: 2.11s\n",
            "221:\tlearn: 0.2603963\ttotal: 602ms\tremaining: 2.11s\n",
            "222:\tlearn: 0.2599596\ttotal: 604ms\tremaining: 2.1s\n",
            "223:\tlearn: 0.2592047\ttotal: 608ms\tremaining: 2.11s\n",
            "224:\tlearn: 0.2587655\ttotal: 610ms\tremaining: 2.1s\n",
            "225:\tlearn: 0.2580805\ttotal: 613ms\tremaining: 2.1s\n",
            "226:\tlearn: 0.2576927\ttotal: 615ms\tremaining: 2.09s\n",
            "227:\tlearn: 0.2572099\ttotal: 617ms\tremaining: 2.09s\n",
            "228:\tlearn: 0.2565144\ttotal: 620ms\tremaining: 2.09s\n",
            "229:\tlearn: 0.2559449\ttotal: 622ms\tremaining: 2.08s\n",
            "230:\tlearn: 0.2552146\ttotal: 625ms\tremaining: 2.08s\n",
            "231:\tlearn: 0.2548584\ttotal: 627ms\tremaining: 2.08s\n",
            "232:\tlearn: 0.2543268\ttotal: 630ms\tremaining: 2.07s\n",
            "233:\tlearn: 0.2537547\ttotal: 632ms\tremaining: 2.07s\n",
            "234:\tlearn: 0.2531475\ttotal: 635ms\tremaining: 2.07s\n",
            "235:\tlearn: 0.2523445\ttotal: 637ms\tremaining: 2.06s\n",
            "236:\tlearn: 0.2517564\ttotal: 640ms\tremaining: 2.06s\n",
            "237:\tlearn: 0.2509760\ttotal: 642ms\tremaining: 2.06s\n",
            "238:\tlearn: 0.2503075\ttotal: 644ms\tremaining: 2.05s\n",
            "239:\tlearn: 0.2498932\ttotal: 647ms\tremaining: 2.05s\n",
            "240:\tlearn: 0.2495033\ttotal: 649ms\tremaining: 2.04s\n",
            "241:\tlearn: 0.2482865\ttotal: 652ms\tremaining: 2.04s\n",
            "242:\tlearn: 0.2478456\ttotal: 654ms\tremaining: 2.04s\n",
            "243:\tlearn: 0.2473194\ttotal: 657ms\tremaining: 2.03s\n",
            "244:\tlearn: 0.2466409\ttotal: 659ms\tremaining: 2.03s\n",
            "245:\tlearn: 0.2462875\ttotal: 662ms\tremaining: 2.03s\n",
            "246:\tlearn: 0.2460138\ttotal: 664ms\tremaining: 2.02s\n",
            "247:\tlearn: 0.2456086\ttotal: 666ms\tremaining: 2.02s\n",
            "248:\tlearn: 0.2450463\ttotal: 669ms\tremaining: 2.02s\n",
            "249:\tlearn: 0.2446860\ttotal: 671ms\tremaining: 2.01s\n",
            "250:\tlearn: 0.2443009\ttotal: 673ms\tremaining: 2.01s\n",
            "251:\tlearn: 0.2437219\ttotal: 677ms\tremaining: 2.01s\n",
            "252:\tlearn: 0.2430020\ttotal: 679ms\tremaining: 2.01s\n",
            "253:\tlearn: 0.2426332\ttotal: 682ms\tremaining: 2s\n",
            "254:\tlearn: 0.2421963\ttotal: 684ms\tremaining: 2s\n",
            "255:\tlearn: 0.2415320\ttotal: 686ms\tremaining: 2s\n",
            "256:\tlearn: 0.2404024\ttotal: 689ms\tremaining: 1.99s\n",
            "257:\tlearn: 0.2398015\ttotal: 691ms\tremaining: 1.99s\n",
            "258:\tlearn: 0.2393311\ttotal: 694ms\tremaining: 1.98s\n",
            "259:\tlearn: 0.2386616\ttotal: 696ms\tremaining: 1.98s\n",
            "260:\tlearn: 0.2384888\ttotal: 698ms\tremaining: 1.98s\n",
            "261:\tlearn: 0.2381081\ttotal: 701ms\tremaining: 1.97s\n",
            "262:\tlearn: 0.2377628\ttotal: 703ms\tremaining: 1.97s\n",
            "263:\tlearn: 0.2373063\ttotal: 705ms\tremaining: 1.97s\n",
            "264:\tlearn: 0.2368425\ttotal: 708ms\tremaining: 1.96s\n",
            "265:\tlearn: 0.2362403\ttotal: 710ms\tremaining: 1.96s\n",
            "266:\tlearn: 0.2359265\ttotal: 713ms\tremaining: 1.96s\n",
            "267:\tlearn: 0.2355076\ttotal: 715ms\tremaining: 1.95s\n",
            "268:\tlearn: 0.2347950\ttotal: 717ms\tremaining: 1.95s\n",
            "269:\tlearn: 0.2344651\ttotal: 720ms\tremaining: 1.95s\n",
            "270:\tlearn: 0.2339978\ttotal: 722ms\tremaining: 1.94s\n",
            "271:\tlearn: 0.2331711\ttotal: 725ms\tremaining: 1.94s\n",
            "272:\tlearn: 0.2325736\ttotal: 727ms\tremaining: 1.94s\n",
            "273:\tlearn: 0.2322657\ttotal: 729ms\tremaining: 1.93s\n",
            "274:\tlearn: 0.2317424\ttotal: 732ms\tremaining: 1.93s\n",
            "275:\tlearn: 0.2313010\ttotal: 734ms\tremaining: 1.93s\n",
            "276:\tlearn: 0.2306697\ttotal: 737ms\tremaining: 1.92s\n",
            "277:\tlearn: 0.2300980\ttotal: 739ms\tremaining: 1.92s\n",
            "278:\tlearn: 0.2295516\ttotal: 741ms\tremaining: 1.92s\n",
            "279:\tlearn: 0.2290673\ttotal: 744ms\tremaining: 1.91s\n",
            "280:\tlearn: 0.2288979\ttotal: 746ms\tremaining: 1.91s\n",
            "281:\tlearn: 0.2281145\ttotal: 749ms\tremaining: 1.91s\n",
            "282:\tlearn: 0.2275130\ttotal: 751ms\tremaining: 1.9s\n",
            "283:\tlearn: 0.2271756\ttotal: 753ms\tremaining: 1.9s\n",
            "284:\tlearn: 0.2268597\ttotal: 756ms\tremaining: 1.9s\n",
            "285:\tlearn: 0.2266073\ttotal: 758ms\tremaining: 1.89s\n",
            "286:\tlearn: 0.2259407\ttotal: 761ms\tremaining: 1.89s\n",
            "287:\tlearn: 0.2257460\ttotal: 763ms\tremaining: 1.89s\n",
            "288:\tlearn: 0.2250339\ttotal: 765ms\tremaining: 1.88s\n",
            "289:\tlearn: 0.2246417\ttotal: 768ms\tremaining: 1.88s\n",
            "290:\tlearn: 0.2237710\ttotal: 770ms\tremaining: 1.88s\n",
            "291:\tlearn: 0.2230833\ttotal: 773ms\tremaining: 1.87s\n",
            "292:\tlearn: 0.2226184\ttotal: 775ms\tremaining: 1.87s\n",
            "293:\tlearn: 0.2218486\ttotal: 778ms\tremaining: 1.87s\n",
            "294:\tlearn: 0.2214861\ttotal: 780ms\tremaining: 1.86s\n",
            "295:\tlearn: 0.2209834\ttotal: 782ms\tremaining: 1.86s\n",
            "296:\tlearn: 0.2204112\ttotal: 785ms\tremaining: 1.86s\n",
            "297:\tlearn: 0.2199655\ttotal: 787ms\tremaining: 1.85s\n",
            "298:\tlearn: 0.2197348\ttotal: 790ms\tremaining: 1.85s\n",
            "299:\tlearn: 0.2189887\ttotal: 795ms\tremaining: 1.85s\n",
            "300:\tlearn: 0.2186173\ttotal: 798ms\tremaining: 1.85s\n",
            "301:\tlearn: 0.2181381\ttotal: 801ms\tremaining: 1.85s\n",
            "302:\tlearn: 0.2174538\ttotal: 803ms\tremaining: 1.85s\n",
            "303:\tlearn: 0.2170038\ttotal: 805ms\tremaining: 1.84s\n",
            "304:\tlearn: 0.2163752\ttotal: 807ms\tremaining: 1.84s\n",
            "305:\tlearn: 0.2157835\ttotal: 809ms\tremaining: 1.83s\n",
            "306:\tlearn: 0.2151036\ttotal: 811ms\tremaining: 1.83s\n",
            "307:\tlearn: 0.2148628\ttotal: 813ms\tremaining: 1.83s\n",
            "308:\tlearn: 0.2144175\ttotal: 815ms\tremaining: 1.82s\n",
            "309:\tlearn: 0.2140309\ttotal: 818ms\tremaining: 1.82s\n",
            "310:\tlearn: 0.2130973\ttotal: 820ms\tremaining: 1.82s\n",
            "311:\tlearn: 0.2126028\ttotal: 822ms\tremaining: 1.81s\n",
            "312:\tlearn: 0.2120801\ttotal: 824ms\tremaining: 1.81s\n",
            "313:\tlearn: 0.2115587\ttotal: 826ms\tremaining: 1.8s\n",
            "314:\tlearn: 0.2112223\ttotal: 828ms\tremaining: 1.8s\n",
            "315:\tlearn: 0.2108829\ttotal: 830ms\tremaining: 1.8s\n",
            "316:\tlearn: 0.2104088\ttotal: 833ms\tremaining: 1.79s\n",
            "317:\tlearn: 0.2098153\ttotal: 835ms\tremaining: 1.79s\n",
            "318:\tlearn: 0.2094063\ttotal: 837ms\tremaining: 1.79s\n",
            "319:\tlearn: 0.2092106\ttotal: 840ms\tremaining: 1.78s\n",
            "320:\tlearn: 0.2087973\ttotal: 842ms\tremaining: 1.78s\n",
            "321:\tlearn: 0.2082466\ttotal: 845ms\tremaining: 1.78s\n",
            "322:\tlearn: 0.2078033\ttotal: 847ms\tremaining: 1.77s\n",
            "323:\tlearn: 0.2074916\ttotal: 849ms\tremaining: 1.77s\n",
            "324:\tlearn: 0.2071218\ttotal: 852ms\tremaining: 1.77s\n",
            "325:\tlearn: 0.2064571\ttotal: 854ms\tremaining: 1.77s\n",
            "326:\tlearn: 0.2061039\ttotal: 857ms\tremaining: 1.76s\n",
            "327:\tlearn: 0.2057644\ttotal: 859ms\tremaining: 1.76s\n",
            "328:\tlearn: 0.2056441\ttotal: 861ms\tremaining: 1.76s\n",
            "329:\tlearn: 0.2051139\ttotal: 864ms\tremaining: 1.75s\n",
            "330:\tlearn: 0.2044269\ttotal: 866ms\tremaining: 1.75s\n",
            "331:\tlearn: 0.2037620\ttotal: 868ms\tremaining: 1.75s\n",
            "332:\tlearn: 0.2031183\ttotal: 871ms\tremaining: 1.74s\n",
            "333:\tlearn: 0.2028014\ttotal: 873ms\tremaining: 1.74s\n",
            "334:\tlearn: 0.2025559\ttotal: 876ms\tremaining: 1.74s\n",
            "335:\tlearn: 0.2020657\ttotal: 882ms\tremaining: 1.74s\n",
            "336:\tlearn: 0.2015002\ttotal: 886ms\tremaining: 1.74s\n",
            "337:\tlearn: 0.2010738\ttotal: 893ms\tremaining: 1.75s\n",
            "338:\tlearn: 0.2004907\ttotal: 896ms\tremaining: 1.75s\n",
            "339:\tlearn: 0.2001285\ttotal: 898ms\tremaining: 1.74s\n",
            "340:\tlearn: 0.1996596\ttotal: 900ms\tremaining: 1.74s\n",
            "341:\tlearn: 0.1988948\ttotal: 903ms\tremaining: 1.74s\n",
            "342:\tlearn: 0.1985856\ttotal: 905ms\tremaining: 1.73s\n",
            "343:\tlearn: 0.1979942\ttotal: 907ms\tremaining: 1.73s\n",
            "344:\tlearn: 0.1977861\ttotal: 910ms\tremaining: 1.73s\n",
            "345:\tlearn: 0.1976816\ttotal: 914ms\tremaining: 1.73s\n",
            "346:\tlearn: 0.1973516\ttotal: 917ms\tremaining: 1.73s\n",
            "347:\tlearn: 0.1970345\ttotal: 921ms\tremaining: 1.73s\n",
            "348:\tlearn: 0.1962615\ttotal: 923ms\tremaining: 1.72s\n",
            "349:\tlearn: 0.1955574\ttotal: 926ms\tremaining: 1.72s\n",
            "350:\tlearn: 0.1948106\ttotal: 930ms\tremaining: 1.72s\n",
            "351:\tlearn: 0.1940903\ttotal: 933ms\tremaining: 1.72s\n",
            "352:\tlearn: 0.1936339\ttotal: 936ms\tremaining: 1.72s\n",
            "353:\tlearn: 0.1931992\ttotal: 939ms\tremaining: 1.71s\n",
            "354:\tlearn: 0.1929805\ttotal: 941ms\tremaining: 1.71s\n",
            "355:\tlearn: 0.1926475\ttotal: 943ms\tremaining: 1.71s\n",
            "356:\tlearn: 0.1923143\ttotal: 945ms\tremaining: 1.7s\n",
            "357:\tlearn: 0.1921025\ttotal: 947ms\tremaining: 1.7s\n",
            "358:\tlearn: 0.1918608\ttotal: 949ms\tremaining: 1.69s\n",
            "359:\tlearn: 0.1915387\ttotal: 951ms\tremaining: 1.69s\n",
            "360:\tlearn: 0.1911296\ttotal: 954ms\tremaining: 1.69s\n",
            "361:\tlearn: 0.1906544\ttotal: 956ms\tremaining: 1.68s\n",
            "362:\tlearn: 0.1901439\ttotal: 958ms\tremaining: 1.68s\n",
            "363:\tlearn: 0.1898291\ttotal: 960ms\tremaining: 1.68s\n",
            "364:\tlearn: 0.1890446\ttotal: 962ms\tremaining: 1.67s\n",
            "365:\tlearn: 0.1886714\ttotal: 964ms\tremaining: 1.67s\n",
            "366:\tlearn: 0.1884294\ttotal: 966ms\tremaining: 1.67s\n",
            "367:\tlearn: 0.1877933\ttotal: 969ms\tremaining: 1.66s\n",
            "368:\tlearn: 0.1875382\ttotal: 971ms\tremaining: 1.66s\n",
            "369:\tlearn: 0.1870911\ttotal: 973ms\tremaining: 1.66s\n",
            "370:\tlearn: 0.1865916\ttotal: 975ms\tremaining: 1.65s\n",
            "371:\tlearn: 0.1862550\ttotal: 977ms\tremaining: 1.65s\n",
            "372:\tlearn: 0.1860611\ttotal: 985ms\tremaining: 1.66s\n",
            "373:\tlearn: 0.1857329\ttotal: 987ms\tremaining: 1.65s\n",
            "374:\tlearn: 0.1854425\ttotal: 990ms\tremaining: 1.65s\n",
            "375:\tlearn: 0.1850125\ttotal: 992ms\tremaining: 1.65s\n",
            "376:\tlearn: 0.1845835\ttotal: 994ms\tremaining: 1.64s\n",
            "377:\tlearn: 0.1839847\ttotal: 996ms\tremaining: 1.64s\n",
            "378:\tlearn: 0.1836058\ttotal: 998ms\tremaining: 1.64s\n",
            "379:\tlearn: 0.1833483\ttotal: 1s\tremaining: 1.63s\n",
            "380:\tlearn: 0.1830539\ttotal: 1s\tremaining: 1.63s\n",
            "381:\tlearn: 0.1828830\ttotal: 1s\tremaining: 1.63s\n",
            "382:\tlearn: 0.1826201\ttotal: 1.01s\tremaining: 1.62s\n",
            "383:\tlearn: 0.1822629\ttotal: 1.01s\tremaining: 1.62s\n",
            "384:\tlearn: 0.1819492\ttotal: 1.01s\tremaining: 1.61s\n",
            "385:\tlearn: 0.1815545\ttotal: 1.01s\tremaining: 1.61s\n",
            "386:\tlearn: 0.1810029\ttotal: 1.01s\tremaining: 1.61s\n",
            "387:\tlearn: 0.1807621\ttotal: 1.02s\tremaining: 1.6s\n",
            "388:\tlearn: 0.1801269\ttotal: 1.02s\tremaining: 1.6s\n",
            "389:\tlearn: 0.1798237\ttotal: 1.02s\tremaining: 1.6s\n",
            "390:\tlearn: 0.1795841\ttotal: 1.02s\tremaining: 1.59s\n",
            "391:\tlearn: 0.1793523\ttotal: 1.03s\tremaining: 1.59s\n",
            "392:\tlearn: 0.1790390\ttotal: 1.03s\tremaining: 1.59s\n",
            "393:\tlearn: 0.1786690\ttotal: 1.03s\tremaining: 1.58s\n",
            "394:\tlearn: 0.1783415\ttotal: 1.03s\tremaining: 1.58s\n",
            "395:\tlearn: 0.1782169\ttotal: 1.03s\tremaining: 1.58s\n",
            "396:\tlearn: 0.1779805\ttotal: 1.04s\tremaining: 1.57s\n",
            "397:\tlearn: 0.1777041\ttotal: 1.04s\tremaining: 1.57s\n",
            "398:\tlearn: 0.1774125\ttotal: 1.04s\tremaining: 1.57s\n",
            "399:\tlearn: 0.1769378\ttotal: 1.04s\tremaining: 1.56s\n",
            "400:\tlearn: 0.1766699\ttotal: 1.04s\tremaining: 1.56s\n",
            "401:\tlearn: 0.1762327\ttotal: 1.05s\tremaining: 1.56s\n",
            "402:\tlearn: 0.1759399\ttotal: 1.05s\tremaining: 1.55s\n",
            "403:\tlearn: 0.1758254\ttotal: 1.05s\tremaining: 1.55s\n",
            "404:\tlearn: 0.1755292\ttotal: 1.05s\tremaining: 1.55s\n",
            "405:\tlearn: 0.1752917\ttotal: 1.05s\tremaining: 1.54s\n",
            "406:\tlearn: 0.1746566\ttotal: 1.06s\tremaining: 1.54s\n",
            "407:\tlearn: 0.1744624\ttotal: 1.06s\tremaining: 1.54s\n",
            "408:\tlearn: 0.1742628\ttotal: 1.06s\tremaining: 1.53s\n",
            "409:\tlearn: 0.1738570\ttotal: 1.06s\tremaining: 1.53s\n",
            "410:\tlearn: 0.1733203\ttotal: 1.07s\tremaining: 1.53s\n",
            "411:\tlearn: 0.1728999\ttotal: 1.07s\tremaining: 1.52s\n",
            "412:\tlearn: 0.1727287\ttotal: 1.07s\tremaining: 1.52s\n",
            "413:\tlearn: 0.1723613\ttotal: 1.07s\tremaining: 1.52s\n",
            "414:\tlearn: 0.1721372\ttotal: 1.07s\tremaining: 1.51s\n",
            "415:\tlearn: 0.1719611\ttotal: 1.08s\tremaining: 1.51s\n",
            "416:\tlearn: 0.1716002\ttotal: 1.08s\tremaining: 1.51s\n",
            "417:\tlearn: 0.1713516\ttotal: 1.08s\tremaining: 1.51s\n",
            "418:\tlearn: 0.1710775\ttotal: 1.08s\tremaining: 1.5s\n",
            "419:\tlearn: 0.1706236\ttotal: 1.09s\tremaining: 1.5s\n",
            "420:\tlearn: 0.1703140\ttotal: 1.09s\tremaining: 1.5s\n",
            "421:\tlearn: 0.1702473\ttotal: 1.09s\tremaining: 1.49s\n",
            "422:\tlearn: 0.1697273\ttotal: 1.09s\tremaining: 1.49s\n",
            "423:\tlearn: 0.1692478\ttotal: 1.09s\tremaining: 1.49s\n",
            "424:\tlearn: 0.1689407\ttotal: 1.1s\tremaining: 1.48s\n",
            "425:\tlearn: 0.1684003\ttotal: 1.1s\tremaining: 1.48s\n",
            "426:\tlearn: 0.1682897\ttotal: 1.1s\tremaining: 1.48s\n",
            "427:\tlearn: 0.1677935\ttotal: 1.1s\tremaining: 1.48s\n",
            "428:\tlearn: 0.1673012\ttotal: 1.11s\tremaining: 1.47s\n",
            "429:\tlearn: 0.1670006\ttotal: 1.11s\tremaining: 1.47s\n",
            "430:\tlearn: 0.1666336\ttotal: 1.11s\tremaining: 1.47s\n",
            "431:\tlearn: 0.1662398\ttotal: 1.11s\tremaining: 1.46s\n",
            "432:\tlearn: 0.1661176\ttotal: 1.12s\tremaining: 1.46s\n",
            "433:\tlearn: 0.1657499\ttotal: 1.12s\tremaining: 1.46s\n",
            "434:\tlearn: 0.1654534\ttotal: 1.12s\tremaining: 1.46s\n",
            "435:\tlearn: 0.1650477\ttotal: 1.12s\tremaining: 1.45s\n",
            "436:\tlearn: 0.1649068\ttotal: 1.13s\tremaining: 1.45s\n",
            "437:\tlearn: 0.1644354\ttotal: 1.13s\tremaining: 1.45s\n",
            "438:\tlearn: 0.1643287\ttotal: 1.13s\tremaining: 1.45s\n",
            "439:\tlearn: 0.1641244\ttotal: 1.13s\tremaining: 1.44s\n",
            "440:\tlearn: 0.1636033\ttotal: 1.14s\tremaining: 1.44s\n",
            "441:\tlearn: 0.1633205\ttotal: 1.14s\tremaining: 1.44s\n",
            "442:\tlearn: 0.1630425\ttotal: 1.14s\tremaining: 1.43s\n",
            "443:\tlearn: 0.1627555\ttotal: 1.14s\tremaining: 1.43s\n",
            "444:\tlearn: 0.1625686\ttotal: 1.15s\tremaining: 1.43s\n",
            "445:\tlearn: 0.1623764\ttotal: 1.15s\tremaining: 1.43s\n",
            "446:\tlearn: 0.1619671\ttotal: 1.15s\tremaining: 1.42s\n",
            "447:\tlearn: 0.1617193\ttotal: 1.15s\tremaining: 1.42s\n",
            "448:\tlearn: 0.1616175\ttotal: 1.16s\tremaining: 1.42s\n",
            "449:\tlearn: 0.1613694\ttotal: 1.16s\tremaining: 1.41s\n",
            "450:\tlearn: 0.1608239\ttotal: 1.16s\tremaining: 1.41s\n",
            "451:\tlearn: 0.1604527\ttotal: 1.16s\tremaining: 1.41s\n",
            "452:\tlearn: 0.1601251\ttotal: 1.17s\tremaining: 1.41s\n",
            "453:\tlearn: 0.1598826\ttotal: 1.17s\tremaining: 1.41s\n",
            "454:\tlearn: 0.1596063\ttotal: 1.17s\tremaining: 1.41s\n",
            "455:\tlearn: 0.1593708\ttotal: 1.18s\tremaining: 1.4s\n",
            "456:\tlearn: 0.1592500\ttotal: 1.18s\tremaining: 1.4s\n",
            "457:\tlearn: 0.1589325\ttotal: 1.18s\tremaining: 1.4s\n",
            "458:\tlearn: 0.1583662\ttotal: 1.18s\tremaining: 1.39s\n",
            "459:\tlearn: 0.1578966\ttotal: 1.19s\tremaining: 1.39s\n",
            "460:\tlearn: 0.1577486\ttotal: 1.19s\tremaining: 1.39s\n",
            "461:\tlearn: 0.1574174\ttotal: 1.19s\tremaining: 1.39s\n",
            "462:\tlearn: 0.1571701\ttotal: 1.19s\tremaining: 1.38s\n",
            "463:\tlearn: 0.1570091\ttotal: 1.2s\tremaining: 1.38s\n",
            "464:\tlearn: 0.1567546\ttotal: 1.2s\tremaining: 1.38s\n",
            "465:\tlearn: 0.1564107\ttotal: 1.2s\tremaining: 1.38s\n",
            "466:\tlearn: 0.1562352\ttotal: 1.2s\tremaining: 1.37s\n",
            "467:\tlearn: 0.1558383\ttotal: 1.2s\tremaining: 1.37s\n",
            "468:\tlearn: 0.1555741\ttotal: 1.21s\tremaining: 1.37s\n",
            "469:\tlearn: 0.1552271\ttotal: 1.21s\tremaining: 1.36s\n",
            "470:\tlearn: 0.1550696\ttotal: 1.21s\tremaining: 1.36s\n",
            "471:\tlearn: 0.1544520\ttotal: 1.21s\tremaining: 1.36s\n",
            "472:\tlearn: 0.1541319\ttotal: 1.22s\tremaining: 1.35s\n",
            "473:\tlearn: 0.1540375\ttotal: 1.22s\tremaining: 1.35s\n",
            "474:\tlearn: 0.1539763\ttotal: 1.22s\tremaining: 1.35s\n",
            "475:\tlearn: 0.1537893\ttotal: 1.22s\tremaining: 1.35s\n",
            "476:\tlearn: 0.1531427\ttotal: 1.23s\tremaining: 1.34s\n",
            "477:\tlearn: 0.1528991\ttotal: 1.23s\tremaining: 1.34s\n",
            "478:\tlearn: 0.1527643\ttotal: 1.23s\tremaining: 1.34s\n",
            "479:\tlearn: 0.1522279\ttotal: 1.23s\tremaining: 1.34s\n",
            "480:\tlearn: 0.1520425\ttotal: 1.24s\tremaining: 1.33s\n",
            "481:\tlearn: 0.1513991\ttotal: 1.24s\tremaining: 1.33s\n",
            "482:\tlearn: 0.1511688\ttotal: 1.24s\tremaining: 1.33s\n",
            "483:\tlearn: 0.1509021\ttotal: 1.24s\tremaining: 1.32s\n",
            "484:\tlearn: 0.1502655\ttotal: 1.25s\tremaining: 1.32s\n",
            "485:\tlearn: 0.1498769\ttotal: 1.25s\tremaining: 1.32s\n",
            "486:\tlearn: 0.1495785\ttotal: 1.25s\tremaining: 1.32s\n",
            "487:\tlearn: 0.1493126\ttotal: 1.25s\tremaining: 1.32s\n",
            "488:\tlearn: 0.1488877\ttotal: 1.26s\tremaining: 1.31s\n",
            "489:\tlearn: 0.1483589\ttotal: 1.26s\tremaining: 1.31s\n",
            "490:\tlearn: 0.1479843\ttotal: 1.26s\tremaining: 1.31s\n",
            "491:\tlearn: 0.1474762\ttotal: 1.26s\tremaining: 1.31s\n",
            "492:\tlearn: 0.1472597\ttotal: 1.27s\tremaining: 1.3s\n",
            "493:\tlearn: 0.1469860\ttotal: 1.27s\tremaining: 1.3s\n",
            "494:\tlearn: 0.1467159\ttotal: 1.27s\tremaining: 1.3s\n",
            "495:\tlearn: 0.1466108\ttotal: 1.27s\tremaining: 1.29s\n",
            "496:\tlearn: 0.1463764\ttotal: 1.27s\tremaining: 1.29s\n",
            "497:\tlearn: 0.1461541\ttotal: 1.28s\tremaining: 1.29s\n",
            "498:\tlearn: 0.1457990\ttotal: 1.28s\tremaining: 1.29s\n",
            "499:\tlearn: 0.1454720\ttotal: 1.28s\tremaining: 1.28s\n",
            "500:\tlearn: 0.1451730\ttotal: 1.29s\tremaining: 1.28s\n",
            "501:\tlearn: 0.1449330\ttotal: 1.29s\tremaining: 1.28s\n",
            "502:\tlearn: 0.1447838\ttotal: 1.29s\tremaining: 1.27s\n",
            "503:\tlearn: 0.1444134\ttotal: 1.29s\tremaining: 1.27s\n",
            "504:\tlearn: 0.1439688\ttotal: 1.3s\tremaining: 1.27s\n",
            "505:\tlearn: 0.1437533\ttotal: 1.3s\tremaining: 1.27s\n",
            "506:\tlearn: 0.1437088\ttotal: 1.3s\tremaining: 1.26s\n",
            "507:\tlearn: 0.1432197\ttotal: 1.3s\tremaining: 1.26s\n",
            "508:\tlearn: 0.1427384\ttotal: 1.31s\tremaining: 1.26s\n",
            "509:\tlearn: 0.1423646\ttotal: 1.31s\tremaining: 1.26s\n",
            "510:\tlearn: 0.1422950\ttotal: 1.31s\tremaining: 1.26s\n",
            "511:\tlearn: 0.1420404\ttotal: 1.31s\tremaining: 1.25s\n",
            "512:\tlearn: 0.1415384\ttotal: 1.32s\tremaining: 1.25s\n",
            "513:\tlearn: 0.1409287\ttotal: 1.32s\tremaining: 1.25s\n",
            "514:\tlearn: 0.1405182\ttotal: 1.32s\tremaining: 1.25s\n",
            "515:\tlearn: 0.1402454\ttotal: 1.32s\tremaining: 1.24s\n",
            "516:\tlearn: 0.1401456\ttotal: 1.33s\tremaining: 1.24s\n",
            "517:\tlearn: 0.1400601\ttotal: 1.33s\tremaining: 1.24s\n",
            "518:\tlearn: 0.1395369\ttotal: 1.33s\tremaining: 1.24s\n",
            "519:\tlearn: 0.1393186\ttotal: 1.33s\tremaining: 1.23s\n",
            "520:\tlearn: 0.1389271\ttotal: 1.34s\tremaining: 1.23s\n",
            "521:\tlearn: 0.1386771\ttotal: 1.34s\tremaining: 1.23s\n",
            "522:\tlearn: 0.1380760\ttotal: 1.34s\tremaining: 1.22s\n",
            "523:\tlearn: 0.1376669\ttotal: 1.34s\tremaining: 1.22s\n",
            "524:\tlearn: 0.1374313\ttotal: 1.35s\tremaining: 1.22s\n",
            "525:\tlearn: 0.1371995\ttotal: 1.35s\tremaining: 1.22s\n",
            "526:\tlearn: 0.1369642\ttotal: 1.36s\tremaining: 1.22s\n",
            "527:\tlearn: 0.1365879\ttotal: 1.36s\tremaining: 1.22s\n",
            "528:\tlearn: 0.1363901\ttotal: 1.36s\tremaining: 1.22s\n",
            "529:\tlearn: 0.1360865\ttotal: 1.37s\tremaining: 1.21s\n",
            "530:\tlearn: 0.1360221\ttotal: 1.37s\tremaining: 1.21s\n",
            "531:\tlearn: 0.1357340\ttotal: 1.37s\tremaining: 1.21s\n",
            "532:\tlearn: 0.1354122\ttotal: 1.38s\tremaining: 1.21s\n",
            "533:\tlearn: 0.1351063\ttotal: 1.38s\tremaining: 1.2s\n",
            "534:\tlearn: 0.1348427\ttotal: 1.38s\tremaining: 1.2s\n",
            "535:\tlearn: 0.1346125\ttotal: 1.38s\tremaining: 1.2s\n",
            "536:\tlearn: 0.1343197\ttotal: 1.39s\tremaining: 1.2s\n",
            "537:\tlearn: 0.1342814\ttotal: 1.39s\tremaining: 1.19s\n",
            "538:\tlearn: 0.1341198\ttotal: 1.39s\tremaining: 1.19s\n",
            "539:\tlearn: 0.1337657\ttotal: 1.4s\tremaining: 1.19s\n",
            "540:\tlearn: 0.1333087\ttotal: 1.4s\tremaining: 1.19s\n",
            "541:\tlearn: 0.1328988\ttotal: 1.41s\tremaining: 1.19s\n",
            "542:\tlearn: 0.1323759\ttotal: 1.41s\tremaining: 1.19s\n",
            "543:\tlearn: 0.1323235\ttotal: 1.41s\tremaining: 1.18s\n",
            "544:\tlearn: 0.1321222\ttotal: 1.42s\tremaining: 1.18s\n",
            "545:\tlearn: 0.1318820\ttotal: 1.42s\tremaining: 1.18s\n",
            "546:\tlearn: 0.1316160\ttotal: 1.42s\tremaining: 1.18s\n",
            "547:\tlearn: 0.1312568\ttotal: 1.42s\tremaining: 1.17s\n",
            "548:\tlearn: 0.1310643\ttotal: 1.43s\tremaining: 1.17s\n",
            "549:\tlearn: 0.1308656\ttotal: 1.43s\tremaining: 1.17s\n",
            "550:\tlearn: 0.1306318\ttotal: 1.43s\tremaining: 1.17s\n",
            "551:\tlearn: 0.1302406\ttotal: 1.43s\tremaining: 1.16s\n",
            "552:\tlearn: 0.1300891\ttotal: 1.43s\tremaining: 1.16s\n",
            "553:\tlearn: 0.1296891\ttotal: 1.44s\tremaining: 1.16s\n",
            "554:\tlearn: 0.1296119\ttotal: 1.44s\tremaining: 1.15s\n",
            "555:\tlearn: 0.1294374\ttotal: 1.44s\tremaining: 1.15s\n",
            "556:\tlearn: 0.1293130\ttotal: 1.44s\tremaining: 1.15s\n",
            "557:\tlearn: 0.1290724\ttotal: 1.45s\tremaining: 1.15s\n",
            "558:\tlearn: 0.1287831\ttotal: 1.45s\tremaining: 1.14s\n",
            "559:\tlearn: 0.1285771\ttotal: 1.45s\tremaining: 1.14s\n",
            "560:\tlearn: 0.1282497\ttotal: 1.45s\tremaining: 1.14s\n",
            "561:\tlearn: 0.1279877\ttotal: 1.46s\tremaining: 1.14s\n",
            "562:\tlearn: 0.1277331\ttotal: 1.46s\tremaining: 1.13s\n",
            "563:\tlearn: 0.1274738\ttotal: 1.46s\tremaining: 1.13s\n",
            "564:\tlearn: 0.1272384\ttotal: 1.47s\tremaining: 1.13s\n",
            "565:\tlearn: 0.1269358\ttotal: 1.47s\tremaining: 1.13s\n",
            "566:\tlearn: 0.1266761\ttotal: 1.47s\tremaining: 1.12s\n",
            "567:\tlearn: 0.1264597\ttotal: 1.47s\tremaining: 1.12s\n",
            "568:\tlearn: 0.1262897\ttotal: 1.48s\tremaining: 1.12s\n",
            "569:\tlearn: 0.1260702\ttotal: 1.48s\tremaining: 1.11s\n",
            "570:\tlearn: 0.1259599\ttotal: 1.48s\tremaining: 1.11s\n",
            "571:\tlearn: 0.1256952\ttotal: 1.48s\tremaining: 1.11s\n",
            "572:\tlearn: 0.1255559\ttotal: 1.49s\tremaining: 1.11s\n",
            "573:\tlearn: 0.1250864\ttotal: 1.49s\tremaining: 1.1s\n",
            "574:\tlearn: 0.1248399\ttotal: 1.49s\tremaining: 1.1s\n",
            "575:\tlearn: 0.1244793\ttotal: 1.49s\tremaining: 1.1s\n",
            "576:\tlearn: 0.1240577\ttotal: 1.5s\tremaining: 1.1s\n",
            "577:\tlearn: 0.1237930\ttotal: 1.5s\tremaining: 1.09s\n",
            "578:\tlearn: 0.1232952\ttotal: 1.5s\tremaining: 1.09s\n",
            "579:\tlearn: 0.1231743\ttotal: 1.5s\tremaining: 1.09s\n",
            "580:\tlearn: 0.1229596\ttotal: 1.51s\tremaining: 1.09s\n",
            "581:\tlearn: 0.1226136\ttotal: 1.51s\tremaining: 1.08s\n",
            "582:\tlearn: 0.1223962\ttotal: 1.51s\tremaining: 1.08s\n",
            "583:\tlearn: 0.1222547\ttotal: 1.51s\tremaining: 1.08s\n",
            "584:\tlearn: 0.1220771\ttotal: 1.52s\tremaining: 1.07s\n",
            "585:\tlearn: 0.1218059\ttotal: 1.52s\tremaining: 1.07s\n",
            "586:\tlearn: 0.1215463\ttotal: 1.52s\tremaining: 1.07s\n",
            "587:\tlearn: 0.1212146\ttotal: 1.52s\tremaining: 1.07s\n",
            "588:\tlearn: 0.1209057\ttotal: 1.53s\tremaining: 1.06s\n",
            "589:\tlearn: 0.1207553\ttotal: 1.53s\tremaining: 1.06s\n",
            "590:\tlearn: 0.1203859\ttotal: 1.53s\tremaining: 1.06s\n",
            "591:\tlearn: 0.1200564\ttotal: 1.53s\tremaining: 1.06s\n",
            "592:\tlearn: 0.1199297\ttotal: 1.54s\tremaining: 1.05s\n",
            "593:\tlearn: 0.1196803\ttotal: 1.54s\tremaining: 1.05s\n",
            "594:\tlearn: 0.1195470\ttotal: 1.54s\tremaining: 1.05s\n",
            "595:\tlearn: 0.1193729\ttotal: 1.54s\tremaining: 1.05s\n",
            "596:\tlearn: 0.1190797\ttotal: 1.55s\tremaining: 1.04s\n",
            "597:\tlearn: 0.1189812\ttotal: 1.55s\tremaining: 1.04s\n",
            "598:\tlearn: 0.1188541\ttotal: 1.55s\tremaining: 1.04s\n",
            "599:\tlearn: 0.1185176\ttotal: 1.56s\tremaining: 1.04s\n",
            "600:\tlearn: 0.1183312\ttotal: 1.56s\tremaining: 1.04s\n",
            "601:\tlearn: 0.1179314\ttotal: 1.56s\tremaining: 1.03s\n",
            "602:\tlearn: 0.1178124\ttotal: 1.57s\tremaining: 1.03s\n",
            "603:\tlearn: 0.1176763\ttotal: 1.57s\tremaining: 1.03s\n",
            "604:\tlearn: 0.1175519\ttotal: 1.57s\tremaining: 1.02s\n",
            "605:\tlearn: 0.1172996\ttotal: 1.57s\tremaining: 1.02s\n",
            "606:\tlearn: 0.1169523\ttotal: 1.58s\tremaining: 1.02s\n",
            "607:\tlearn: 0.1168101\ttotal: 1.58s\tremaining: 1.02s\n",
            "608:\tlearn: 0.1166838\ttotal: 1.58s\tremaining: 1.01s\n",
            "609:\tlearn: 0.1165682\ttotal: 1.58s\tremaining: 1.01s\n",
            "610:\tlearn: 0.1164770\ttotal: 1.59s\tremaining: 1.01s\n",
            "611:\tlearn: 0.1162587\ttotal: 1.59s\tremaining: 1.01s\n",
            "612:\tlearn: 0.1161116\ttotal: 1.59s\tremaining: 1.01s\n",
            "613:\tlearn: 0.1157269\ttotal: 1.6s\tremaining: 1s\n",
            "614:\tlearn: 0.1154443\ttotal: 1.6s\tremaining: 1s\n",
            "615:\tlearn: 0.1151409\ttotal: 1.6s\tremaining: 999ms\n",
            "616:\tlearn: 0.1148964\ttotal: 1.6s\tremaining: 997ms\n",
            "617:\tlearn: 0.1146183\ttotal: 1.61s\tremaining: 994ms\n",
            "618:\tlearn: 0.1145012\ttotal: 1.61s\tremaining: 991ms\n",
            "619:\tlearn: 0.1142575\ttotal: 1.61s\tremaining: 988ms\n",
            "620:\tlearn: 0.1140589\ttotal: 1.61s\tremaining: 985ms\n",
            "621:\tlearn: 0.1137923\ttotal: 1.62s\tremaining: 982ms\n",
            "622:\tlearn: 0.1135343\ttotal: 1.62s\tremaining: 979ms\n",
            "623:\tlearn: 0.1133096\ttotal: 1.62s\tremaining: 977ms\n",
            "624:\tlearn: 0.1131829\ttotal: 1.62s\tremaining: 974ms\n",
            "625:\tlearn: 0.1128387\ttotal: 1.63s\tremaining: 971ms\n",
            "626:\tlearn: 0.1124599\ttotal: 1.63s\tremaining: 968ms\n",
            "627:\tlearn: 0.1121990\ttotal: 1.63s\tremaining: 966ms\n",
            "628:\tlearn: 0.1118803\ttotal: 1.63s\tremaining: 963ms\n",
            "629:\tlearn: 0.1115609\ttotal: 1.64s\tremaining: 960ms\n",
            "630:\tlearn: 0.1111707\ttotal: 1.64s\tremaining: 958ms\n",
            "631:\tlearn: 0.1110920\ttotal: 1.64s\tremaining: 955ms\n",
            "632:\tlearn: 0.1107309\ttotal: 1.64s\tremaining: 952ms\n",
            "633:\tlearn: 0.1104631\ttotal: 1.65s\tremaining: 950ms\n",
            "634:\tlearn: 0.1101856\ttotal: 1.65s\tremaining: 947ms\n",
            "635:\tlearn: 0.1098419\ttotal: 1.65s\tremaining: 944ms\n",
            "636:\tlearn: 0.1095293\ttotal: 1.65s\tremaining: 942ms\n",
            "637:\tlearn: 0.1094465\ttotal: 1.66s\tremaining: 939ms\n",
            "638:\tlearn: 0.1091442\ttotal: 1.66s\tremaining: 936ms\n",
            "639:\tlearn: 0.1088035\ttotal: 1.66s\tremaining: 934ms\n",
            "640:\tlearn: 0.1086086\ttotal: 1.66s\tremaining: 931ms\n",
            "641:\tlearn: 0.1083229\ttotal: 1.67s\tremaining: 929ms\n",
            "642:\tlearn: 0.1079953\ttotal: 1.67s\tremaining: 926ms\n",
            "643:\tlearn: 0.1077903\ttotal: 1.67s\tremaining: 923ms\n",
            "644:\tlearn: 0.1075535\ttotal: 1.67s\tremaining: 921ms\n",
            "645:\tlearn: 0.1072292\ttotal: 1.67s\tremaining: 918ms\n",
            "646:\tlearn: 0.1071198\ttotal: 1.68s\tremaining: 915ms\n",
            "647:\tlearn: 0.1068115\ttotal: 1.68s\tremaining: 912ms\n",
            "648:\tlearn: 0.1065873\ttotal: 1.68s\tremaining: 910ms\n",
            "649:\tlearn: 0.1062571\ttotal: 1.68s\tremaining: 907ms\n",
            "650:\tlearn: 0.1059911\ttotal: 1.69s\tremaining: 904ms\n",
            "651:\tlearn: 0.1057358\ttotal: 1.69s\tremaining: 902ms\n",
            "652:\tlearn: 0.1053919\ttotal: 1.69s\tremaining: 899ms\n",
            "653:\tlearn: 0.1050583\ttotal: 1.69s\tremaining: 896ms\n",
            "654:\tlearn: 0.1048823\ttotal: 1.7s\tremaining: 894ms\n",
            "655:\tlearn: 0.1048001\ttotal: 1.7s\tremaining: 891ms\n",
            "656:\tlearn: 0.1046119\ttotal: 1.7s\tremaining: 888ms\n",
            "657:\tlearn: 0.1045219\ttotal: 1.7s\tremaining: 886ms\n",
            "658:\tlearn: 0.1044109\ttotal: 1.71s\tremaining: 883ms\n",
            "659:\tlearn: 0.1040895\ttotal: 1.71s\tremaining: 881ms\n",
            "660:\tlearn: 0.1038205\ttotal: 1.71s\tremaining: 878ms\n",
            "661:\tlearn: 0.1036513\ttotal: 1.71s\tremaining: 875ms\n",
            "662:\tlearn: 0.1033676\ttotal: 1.72s\tremaining: 873ms\n",
            "663:\tlearn: 0.1031533\ttotal: 1.72s\tremaining: 870ms\n",
            "664:\tlearn: 0.1030430\ttotal: 1.72s\tremaining: 868ms\n",
            "665:\tlearn: 0.1027533\ttotal: 1.72s\tremaining: 865ms\n",
            "666:\tlearn: 0.1026105\ttotal: 1.73s\tremaining: 862ms\n",
            "667:\tlearn: 0.1023775\ttotal: 1.73s\tremaining: 860ms\n",
            "668:\tlearn: 0.1022585\ttotal: 1.73s\tremaining: 857ms\n",
            "669:\tlearn: 0.1019332\ttotal: 1.73s\tremaining: 854ms\n",
            "670:\tlearn: 0.1017446\ttotal: 1.74s\tremaining: 854ms\n",
            "671:\tlearn: 0.1015325\ttotal: 1.75s\tremaining: 852ms\n",
            "672:\tlearn: 0.1013060\ttotal: 1.75s\tremaining: 849ms\n",
            "673:\tlearn: 0.1009864\ttotal: 1.75s\tremaining: 847ms\n",
            "674:\tlearn: 0.1008345\ttotal: 1.75s\tremaining: 844ms\n",
            "675:\tlearn: 0.1005080\ttotal: 1.75s\tremaining: 841ms\n",
            "676:\tlearn: 0.1003455\ttotal: 1.76s\tremaining: 839ms\n",
            "677:\tlearn: 0.1000821\ttotal: 1.76s\tremaining: 836ms\n",
            "678:\tlearn: 0.0999994\ttotal: 1.76s\tremaining: 834ms\n",
            "679:\tlearn: 0.0997307\ttotal: 1.76s\tremaining: 831ms\n",
            "680:\tlearn: 0.0995404\ttotal: 1.77s\tremaining: 828ms\n",
            "681:\tlearn: 0.0993376\ttotal: 1.77s\tremaining: 826ms\n",
            "682:\tlearn: 0.0990585\ttotal: 1.77s\tremaining: 823ms\n",
            "683:\tlearn: 0.0988522\ttotal: 1.77s\tremaining: 820ms\n",
            "684:\tlearn: 0.0986090\ttotal: 1.78s\tremaining: 818ms\n",
            "685:\tlearn: 0.0983279\ttotal: 1.78s\tremaining: 815ms\n",
            "686:\tlearn: 0.0980567\ttotal: 1.78s\tremaining: 812ms\n",
            "687:\tlearn: 0.0979053\ttotal: 1.78s\tremaining: 810ms\n",
            "688:\tlearn: 0.0976781\ttotal: 1.79s\tremaining: 807ms\n",
            "689:\tlearn: 0.0974144\ttotal: 1.79s\tremaining: 804ms\n",
            "690:\tlearn: 0.0972829\ttotal: 1.79s\tremaining: 802ms\n",
            "691:\tlearn: 0.0969664\ttotal: 1.79s\tremaining: 799ms\n",
            "692:\tlearn: 0.0967595\ttotal: 1.8s\tremaining: 796ms\n",
            "693:\tlearn: 0.0964187\ttotal: 1.8s\tremaining: 794ms\n",
            "694:\tlearn: 0.0962785\ttotal: 1.8s\tremaining: 791ms\n",
            "695:\tlearn: 0.0961054\ttotal: 1.8s\tremaining: 788ms\n",
            "696:\tlearn: 0.0958660\ttotal: 1.81s\tremaining: 787ms\n",
            "697:\tlearn: 0.0957984\ttotal: 1.81s\tremaining: 785ms\n",
            "698:\tlearn: 0.0956665\ttotal: 1.82s\tremaining: 783ms\n",
            "699:\tlearn: 0.0955944\ttotal: 1.82s\tremaining: 780ms\n",
            "700:\tlearn: 0.0954531\ttotal: 1.82s\tremaining: 778ms\n",
            "701:\tlearn: 0.0953489\ttotal: 1.82s\tremaining: 775ms\n",
            "702:\tlearn: 0.0951845\ttotal: 1.83s\tremaining: 772ms\n",
            "703:\tlearn: 0.0949021\ttotal: 1.83s\tremaining: 770ms\n",
            "704:\tlearn: 0.0947110\ttotal: 1.83s\tremaining: 767ms\n",
            "705:\tlearn: 0.0945453\ttotal: 1.83s\tremaining: 764ms\n",
            "706:\tlearn: 0.0943339\ttotal: 1.84s\tremaining: 762ms\n",
            "707:\tlearn: 0.0942651\ttotal: 1.84s\tremaining: 759ms\n",
            "708:\tlearn: 0.0940274\ttotal: 1.84s\tremaining: 756ms\n",
            "709:\tlearn: 0.0938042\ttotal: 1.84s\tremaining: 754ms\n",
            "710:\tlearn: 0.0936522\ttotal: 1.85s\tremaining: 751ms\n",
            "711:\tlearn: 0.0935188\ttotal: 1.85s\tremaining: 748ms\n",
            "712:\tlearn: 0.0934207\ttotal: 1.85s\tremaining: 746ms\n",
            "713:\tlearn: 0.0932938\ttotal: 1.85s\tremaining: 743ms\n",
            "714:\tlearn: 0.0930602\ttotal: 1.86s\tremaining: 740ms\n",
            "715:\tlearn: 0.0928899\ttotal: 1.86s\tremaining: 738ms\n",
            "716:\tlearn: 0.0927481\ttotal: 1.86s\tremaining: 735ms\n",
            "717:\tlearn: 0.0925447\ttotal: 1.86s\tremaining: 732ms\n",
            "718:\tlearn: 0.0924059\ttotal: 1.87s\tremaining: 730ms\n",
            "719:\tlearn: 0.0921276\ttotal: 1.87s\tremaining: 727ms\n",
            "720:\tlearn: 0.0919555\ttotal: 1.87s\tremaining: 724ms\n",
            "721:\tlearn: 0.0918532\ttotal: 1.87s\tremaining: 722ms\n",
            "722:\tlearn: 0.0917734\ttotal: 1.88s\tremaining: 719ms\n",
            "723:\tlearn: 0.0917066\ttotal: 1.88s\tremaining: 716ms\n",
            "724:\tlearn: 0.0915376\ttotal: 1.88s\tremaining: 713ms\n",
            "725:\tlearn: 0.0914312\ttotal: 1.88s\tremaining: 711ms\n",
            "726:\tlearn: 0.0912020\ttotal: 1.89s\tremaining: 708ms\n",
            "727:\tlearn: 0.0909911\ttotal: 1.89s\tremaining: 706ms\n",
            "728:\tlearn: 0.0908822\ttotal: 1.89s\tremaining: 703ms\n",
            "729:\tlearn: 0.0906687\ttotal: 1.89s\tremaining: 700ms\n",
            "730:\tlearn: 0.0903724\ttotal: 1.9s\tremaining: 698ms\n",
            "731:\tlearn: 0.0903382\ttotal: 1.9s\tremaining: 695ms\n",
            "732:\tlearn: 0.0902349\ttotal: 1.9s\tremaining: 692ms\n",
            "733:\tlearn: 0.0901481\ttotal: 1.9s\tremaining: 689ms\n",
            "734:\tlearn: 0.0899343\ttotal: 1.9s\tremaining: 687ms\n",
            "735:\tlearn: 0.0898277\ttotal: 1.91s\tremaining: 684ms\n",
            "736:\tlearn: 0.0896119\ttotal: 1.91s\tremaining: 681ms\n",
            "737:\tlearn: 0.0894730\ttotal: 1.91s\tremaining: 679ms\n",
            "738:\tlearn: 0.0892966\ttotal: 1.91s\tremaining: 676ms\n",
            "739:\tlearn: 0.0890114\ttotal: 1.92s\tremaining: 674ms\n",
            "740:\tlearn: 0.0887803\ttotal: 1.92s\tremaining: 671ms\n",
            "741:\tlearn: 0.0886549\ttotal: 1.92s\tremaining: 668ms\n",
            "742:\tlearn: 0.0884267\ttotal: 1.92s\tremaining: 666ms\n",
            "743:\tlearn: 0.0883470\ttotal: 1.93s\tremaining: 663ms\n",
            "744:\tlearn: 0.0881995\ttotal: 1.93s\tremaining: 660ms\n",
            "745:\tlearn: 0.0881279\ttotal: 1.93s\tremaining: 658ms\n",
            "746:\tlearn: 0.0879446\ttotal: 1.94s\tremaining: 658ms\n",
            "747:\tlearn: 0.0877769\ttotal: 1.95s\tremaining: 656ms\n",
            "748:\tlearn: 0.0876461\ttotal: 1.95s\tremaining: 653ms\n",
            "749:\tlearn: 0.0874839\ttotal: 1.95s\tremaining: 650ms\n",
            "750:\tlearn: 0.0874132\ttotal: 1.95s\tremaining: 648ms\n",
            "751:\tlearn: 0.0872422\ttotal: 1.96s\tremaining: 645ms\n",
            "752:\tlearn: 0.0870734\ttotal: 1.96s\tremaining: 643ms\n",
            "753:\tlearn: 0.0868349\ttotal: 1.96s\tremaining: 640ms\n",
            "754:\tlearn: 0.0865898\ttotal: 1.96s\tremaining: 637ms\n",
            "755:\tlearn: 0.0864828\ttotal: 1.97s\tremaining: 635ms\n",
            "756:\tlearn: 0.0862521\ttotal: 1.97s\tremaining: 632ms\n",
            "757:\tlearn: 0.0860505\ttotal: 1.97s\tremaining: 630ms\n",
            "758:\tlearn: 0.0859568\ttotal: 1.97s\tremaining: 627ms\n",
            "759:\tlearn: 0.0857808\ttotal: 1.98s\tremaining: 624ms\n",
            "760:\tlearn: 0.0856072\ttotal: 1.98s\tremaining: 622ms\n",
            "761:\tlearn: 0.0853720\ttotal: 1.98s\tremaining: 619ms\n",
            "762:\tlearn: 0.0850793\ttotal: 1.98s\tremaining: 616ms\n",
            "763:\tlearn: 0.0848470\ttotal: 1.99s\tremaining: 614ms\n",
            "764:\tlearn: 0.0848140\ttotal: 1.99s\tremaining: 611ms\n",
            "765:\tlearn: 0.0846204\ttotal: 1.99s\tremaining: 608ms\n",
            "766:\tlearn: 0.0845607\ttotal: 1.99s\tremaining: 606ms\n",
            "767:\tlearn: 0.0843778\ttotal: 2s\tremaining: 603ms\n",
            "768:\tlearn: 0.0842208\ttotal: 2s\tremaining: 600ms\n",
            "769:\tlearn: 0.0841904\ttotal: 2s\tremaining: 598ms\n",
            "770:\tlearn: 0.0841332\ttotal: 2s\tremaining: 595ms\n",
            "771:\tlearn: 0.0839720\ttotal: 2.01s\tremaining: 593ms\n",
            "772:\tlearn: 0.0838232\ttotal: 2.01s\tremaining: 590ms\n",
            "773:\tlearn: 0.0837385\ttotal: 2.01s\tremaining: 587ms\n",
            "774:\tlearn: 0.0835739\ttotal: 2.01s\tremaining: 585ms\n",
            "775:\tlearn: 0.0834411\ttotal: 2.02s\tremaining: 582ms\n",
            "776:\tlearn: 0.0831544\ttotal: 2.02s\tremaining: 580ms\n",
            "777:\tlearn: 0.0828913\ttotal: 2.02s\tremaining: 577ms\n",
            "778:\tlearn: 0.0827036\ttotal: 2.02s\tremaining: 574ms\n",
            "779:\tlearn: 0.0826124\ttotal: 2.03s\tremaining: 572ms\n",
            "780:\tlearn: 0.0824471\ttotal: 2.03s\tremaining: 569ms\n",
            "781:\tlearn: 0.0823186\ttotal: 2.03s\tremaining: 567ms\n",
            "782:\tlearn: 0.0821485\ttotal: 2.04s\tremaining: 564ms\n",
            "783:\tlearn: 0.0819325\ttotal: 2.04s\tremaining: 561ms\n",
            "784:\tlearn: 0.0818736\ttotal: 2.04s\tremaining: 559ms\n",
            "785:\tlearn: 0.0817361\ttotal: 2.04s\tremaining: 556ms\n",
            "786:\tlearn: 0.0815854\ttotal: 2.04s\tremaining: 554ms\n",
            "787:\tlearn: 0.0815046\ttotal: 2.05s\tremaining: 551ms\n",
            "788:\tlearn: 0.0814075\ttotal: 2.05s\tremaining: 548ms\n",
            "789:\tlearn: 0.0812592\ttotal: 2.05s\tremaining: 546ms\n",
            "790:\tlearn: 0.0810456\ttotal: 2.06s\tremaining: 543ms\n",
            "791:\tlearn: 0.0809472\ttotal: 2.06s\tremaining: 540ms\n",
            "792:\tlearn: 0.0808526\ttotal: 2.06s\tremaining: 538ms\n",
            "793:\tlearn: 0.0807293\ttotal: 2.06s\tremaining: 535ms\n",
            "794:\tlearn: 0.0806300\ttotal: 2.06s\tremaining: 533ms\n",
            "795:\tlearn: 0.0804103\ttotal: 2.07s\tremaining: 530ms\n",
            "796:\tlearn: 0.0802009\ttotal: 2.07s\tremaining: 528ms\n",
            "797:\tlearn: 0.0799988\ttotal: 2.07s\tremaining: 525ms\n",
            "798:\tlearn: 0.0799391\ttotal: 2.08s\tremaining: 522ms\n",
            "799:\tlearn: 0.0797473\ttotal: 2.08s\tremaining: 520ms\n",
            "800:\tlearn: 0.0795442\ttotal: 2.08s\tremaining: 517ms\n",
            "801:\tlearn: 0.0793303\ttotal: 2.08s\tremaining: 514ms\n",
            "802:\tlearn: 0.0791183\ttotal: 2.08s\tremaining: 512ms\n",
            "803:\tlearn: 0.0789736\ttotal: 2.09s\tremaining: 509ms\n",
            "804:\tlearn: 0.0788876\ttotal: 2.09s\tremaining: 506ms\n",
            "805:\tlearn: 0.0787062\ttotal: 2.09s\tremaining: 504ms\n",
            "806:\tlearn: 0.0786424\ttotal: 2.09s\tremaining: 501ms\n",
            "807:\tlearn: 0.0784907\ttotal: 2.1s\tremaining: 498ms\n",
            "808:\tlearn: 0.0783400\ttotal: 2.1s\tremaining: 495ms\n",
            "809:\tlearn: 0.0781800\ttotal: 2.1s\tremaining: 493ms\n",
            "810:\tlearn: 0.0780230\ttotal: 2.1s\tremaining: 490ms\n",
            "811:\tlearn: 0.0778986\ttotal: 2.1s\tremaining: 487ms\n",
            "812:\tlearn: 0.0777707\ttotal: 2.11s\tremaining: 485ms\n",
            "813:\tlearn: 0.0776563\ttotal: 2.11s\tremaining: 482ms\n",
            "814:\tlearn: 0.0775182\ttotal: 2.11s\tremaining: 479ms\n",
            "815:\tlearn: 0.0773988\ttotal: 2.11s\tremaining: 477ms\n",
            "816:\tlearn: 0.0772903\ttotal: 2.12s\tremaining: 474ms\n",
            "817:\tlearn: 0.0770970\ttotal: 2.12s\tremaining: 472ms\n",
            "818:\tlearn: 0.0769990\ttotal: 2.13s\tremaining: 470ms\n",
            "819:\tlearn: 0.0768253\ttotal: 2.13s\tremaining: 468ms\n",
            "820:\tlearn: 0.0765663\ttotal: 2.13s\tremaining: 465ms\n",
            "821:\tlearn: 0.0764297\ttotal: 2.13s\tremaining: 462ms\n",
            "822:\tlearn: 0.0762584\ttotal: 2.14s\tremaining: 460ms\n",
            "823:\tlearn: 0.0761193\ttotal: 2.14s\tremaining: 457ms\n",
            "824:\tlearn: 0.0759429\ttotal: 2.14s\tremaining: 455ms\n",
            "825:\tlearn: 0.0758835\ttotal: 2.15s\tremaining: 452ms\n",
            "826:\tlearn: 0.0757609\ttotal: 2.15s\tremaining: 449ms\n",
            "827:\tlearn: 0.0755720\ttotal: 2.15s\tremaining: 447ms\n",
            "828:\tlearn: 0.0753975\ttotal: 2.15s\tremaining: 444ms\n",
            "829:\tlearn: 0.0752041\ttotal: 2.15s\tremaining: 442ms\n",
            "830:\tlearn: 0.0751033\ttotal: 2.16s\tremaining: 439ms\n",
            "831:\tlearn: 0.0749900\ttotal: 2.16s\tremaining: 436ms\n",
            "832:\tlearn: 0.0748326\ttotal: 2.16s\tremaining: 434ms\n",
            "833:\tlearn: 0.0747547\ttotal: 2.17s\tremaining: 431ms\n",
            "834:\tlearn: 0.0747002\ttotal: 2.17s\tremaining: 429ms\n",
            "835:\tlearn: 0.0746325\ttotal: 2.17s\tremaining: 426ms\n",
            "836:\tlearn: 0.0745515\ttotal: 2.17s\tremaining: 423ms\n",
            "837:\tlearn: 0.0744161\ttotal: 2.18s\tremaining: 421ms\n",
            "838:\tlearn: 0.0743274\ttotal: 2.18s\tremaining: 418ms\n",
            "839:\tlearn: 0.0742870\ttotal: 2.18s\tremaining: 416ms\n",
            "840:\tlearn: 0.0741605\ttotal: 2.18s\tremaining: 413ms\n",
            "841:\tlearn: 0.0740786\ttotal: 2.19s\tremaining: 410ms\n",
            "842:\tlearn: 0.0738798\ttotal: 2.19s\tremaining: 408ms\n",
            "843:\tlearn: 0.0738276\ttotal: 2.19s\tremaining: 405ms\n",
            "844:\tlearn: 0.0735912\ttotal: 2.19s\tremaining: 403ms\n",
            "845:\tlearn: 0.0735733\ttotal: 2.2s\tremaining: 400ms\n",
            "846:\tlearn: 0.0735532\ttotal: 2.2s\tremaining: 397ms\n",
            "847:\tlearn: 0.0734299\ttotal: 2.2s\tremaining: 395ms\n",
            "848:\tlearn: 0.0733020\ttotal: 2.2s\tremaining: 392ms\n",
            "849:\tlearn: 0.0731394\ttotal: 2.21s\tremaining: 389ms\n",
            "850:\tlearn: 0.0729568\ttotal: 2.21s\tremaining: 387ms\n",
            "851:\tlearn: 0.0728310\ttotal: 2.21s\tremaining: 384ms\n",
            "852:\tlearn: 0.0727056\ttotal: 2.21s\tremaining: 382ms\n",
            "853:\tlearn: 0.0726195\ttotal: 2.22s\tremaining: 379ms\n",
            "854:\tlearn: 0.0724718\ttotal: 2.22s\tremaining: 376ms\n",
            "855:\tlearn: 0.0723317\ttotal: 2.22s\tremaining: 374ms\n",
            "856:\tlearn: 0.0721531\ttotal: 2.22s\tremaining: 371ms\n",
            "857:\tlearn: 0.0720589\ttotal: 2.23s\tremaining: 369ms\n",
            "858:\tlearn: 0.0718680\ttotal: 2.23s\tremaining: 366ms\n",
            "859:\tlearn: 0.0717223\ttotal: 2.23s\tremaining: 363ms\n",
            "860:\tlearn: 0.0715787\ttotal: 2.23s\tremaining: 361ms\n",
            "861:\tlearn: 0.0714721\ttotal: 2.24s\tremaining: 358ms\n",
            "862:\tlearn: 0.0713710\ttotal: 2.24s\tremaining: 356ms\n",
            "863:\tlearn: 0.0712450\ttotal: 2.24s\tremaining: 353ms\n",
            "864:\tlearn: 0.0711484\ttotal: 2.24s\tremaining: 350ms\n",
            "865:\tlearn: 0.0710638\ttotal: 2.25s\tremaining: 348ms\n",
            "866:\tlearn: 0.0709252\ttotal: 2.25s\tremaining: 345ms\n",
            "867:\tlearn: 0.0708715\ttotal: 2.25s\tremaining: 342ms\n",
            "868:\tlearn: 0.0708226\ttotal: 2.25s\tremaining: 340ms\n",
            "869:\tlearn: 0.0707334\ttotal: 2.26s\tremaining: 337ms\n",
            "870:\tlearn: 0.0705637\ttotal: 2.26s\tremaining: 335ms\n",
            "871:\tlearn: 0.0704482\ttotal: 2.26s\tremaining: 332ms\n",
            "872:\tlearn: 0.0703563\ttotal: 2.26s\tremaining: 329ms\n",
            "873:\tlearn: 0.0702414\ttotal: 2.27s\tremaining: 327ms\n",
            "874:\tlearn: 0.0701280\ttotal: 2.27s\tremaining: 324ms\n",
            "875:\tlearn: 0.0699740\ttotal: 2.27s\tremaining: 322ms\n",
            "876:\tlearn: 0.0698417\ttotal: 2.27s\tremaining: 319ms\n",
            "877:\tlearn: 0.0697684\ttotal: 2.28s\tremaining: 317ms\n",
            "878:\tlearn: 0.0697547\ttotal: 2.28s\tremaining: 314ms\n",
            "879:\tlearn: 0.0696547\ttotal: 2.29s\tremaining: 312ms\n",
            "880:\tlearn: 0.0695399\ttotal: 2.29s\tremaining: 309ms\n",
            "881:\tlearn: 0.0694380\ttotal: 2.29s\tremaining: 307ms\n",
            "882:\tlearn: 0.0693192\ttotal: 2.29s\tremaining: 304ms\n",
            "883:\tlearn: 0.0691844\ttotal: 2.3s\tremaining: 301ms\n",
            "884:\tlearn: 0.0689743\ttotal: 2.3s\tremaining: 299ms\n",
            "885:\tlearn: 0.0688513\ttotal: 2.3s\tremaining: 296ms\n",
            "886:\tlearn: 0.0687256\ttotal: 2.31s\tremaining: 294ms\n",
            "887:\tlearn: 0.0686140\ttotal: 2.31s\tremaining: 292ms\n",
            "888:\tlearn: 0.0685298\ttotal: 2.31s\tremaining: 289ms\n",
            "889:\tlearn: 0.0682825\ttotal: 2.32s\tremaining: 286ms\n",
            "890:\tlearn: 0.0681698\ttotal: 2.32s\tremaining: 284ms\n",
            "891:\tlearn: 0.0681115\ttotal: 2.32s\tremaining: 281ms\n",
            "892:\tlearn: 0.0679424\ttotal: 2.32s\tremaining: 279ms\n",
            "893:\tlearn: 0.0678634\ttotal: 2.33s\tremaining: 276ms\n",
            "894:\tlearn: 0.0678073\ttotal: 2.33s\tremaining: 273ms\n",
            "895:\tlearn: 0.0676222\ttotal: 2.33s\tremaining: 271ms\n",
            "896:\tlearn: 0.0675067\ttotal: 2.33s\tremaining: 268ms\n",
            "897:\tlearn: 0.0673256\ttotal: 2.34s\tremaining: 265ms\n",
            "898:\tlearn: 0.0672655\ttotal: 2.34s\tremaining: 263ms\n",
            "899:\tlearn: 0.0671573\ttotal: 2.34s\tremaining: 260ms\n",
            "900:\tlearn: 0.0670805\ttotal: 2.34s\tremaining: 258ms\n",
            "901:\tlearn: 0.0669936\ttotal: 2.35s\tremaining: 255ms\n",
            "902:\tlearn: 0.0668259\ttotal: 2.35s\tremaining: 252ms\n",
            "903:\tlearn: 0.0666618\ttotal: 2.35s\tremaining: 250ms\n",
            "904:\tlearn: 0.0666419\ttotal: 2.35s\tremaining: 247ms\n",
            "905:\tlearn: 0.0665151\ttotal: 2.36s\tremaining: 245ms\n",
            "906:\tlearn: 0.0664805\ttotal: 2.36s\tremaining: 242ms\n",
            "907:\tlearn: 0.0663770\ttotal: 2.36s\tremaining: 239ms\n",
            "908:\tlearn: 0.0662422\ttotal: 2.36s\tremaining: 237ms\n",
            "909:\tlearn: 0.0662009\ttotal: 2.37s\tremaining: 234ms\n",
            "910:\tlearn: 0.0660630\ttotal: 2.37s\tremaining: 231ms\n",
            "911:\tlearn: 0.0659736\ttotal: 2.37s\tremaining: 229ms\n",
            "912:\tlearn: 0.0659067\ttotal: 2.37s\tremaining: 226ms\n",
            "913:\tlearn: 0.0657313\ttotal: 2.38s\tremaining: 224ms\n",
            "914:\tlearn: 0.0655810\ttotal: 2.38s\tremaining: 221ms\n",
            "915:\tlearn: 0.0654752\ttotal: 2.38s\tremaining: 218ms\n",
            "916:\tlearn: 0.0653249\ttotal: 2.38s\tremaining: 216ms\n",
            "917:\tlearn: 0.0652264\ttotal: 2.39s\tremaining: 213ms\n",
            "918:\tlearn: 0.0651101\ttotal: 2.39s\tremaining: 211ms\n",
            "919:\tlearn: 0.0649800\ttotal: 2.39s\tremaining: 208ms\n",
            "920:\tlearn: 0.0648613\ttotal: 2.4s\tremaining: 205ms\n",
            "921:\tlearn: 0.0647865\ttotal: 2.4s\tremaining: 203ms\n",
            "922:\tlearn: 0.0646800\ttotal: 2.4s\tremaining: 200ms\n",
            "923:\tlearn: 0.0645604\ttotal: 2.4s\tremaining: 198ms\n",
            "924:\tlearn: 0.0644973\ttotal: 2.4s\tremaining: 195ms\n",
            "925:\tlearn: 0.0643932\ttotal: 2.41s\tremaining: 192ms\n",
            "926:\tlearn: 0.0643317\ttotal: 2.41s\tremaining: 190ms\n",
            "927:\tlearn: 0.0641994\ttotal: 2.41s\tremaining: 187ms\n",
            "928:\tlearn: 0.0640254\ttotal: 2.42s\tremaining: 185ms\n",
            "929:\tlearn: 0.0639448\ttotal: 2.42s\tremaining: 182ms\n",
            "930:\tlearn: 0.0638844\ttotal: 2.42s\tremaining: 179ms\n",
            "931:\tlearn: 0.0638164\ttotal: 2.42s\tremaining: 177ms\n",
            "932:\tlearn: 0.0637140\ttotal: 2.42s\tremaining: 174ms\n",
            "933:\tlearn: 0.0636828\ttotal: 2.43s\tremaining: 172ms\n",
            "934:\tlearn: 0.0635524\ttotal: 2.43s\tremaining: 169ms\n",
            "935:\tlearn: 0.0634848\ttotal: 2.43s\tremaining: 166ms\n",
            "936:\tlearn: 0.0634664\ttotal: 2.44s\tremaining: 164ms\n",
            "937:\tlearn: 0.0633555\ttotal: 2.44s\tremaining: 161ms\n",
            "938:\tlearn: 0.0631601\ttotal: 2.44s\tremaining: 159ms\n",
            "939:\tlearn: 0.0631286\ttotal: 2.44s\tremaining: 156ms\n",
            "940:\tlearn: 0.0630043\ttotal: 2.44s\tremaining: 153ms\n",
            "941:\tlearn: 0.0628355\ttotal: 2.45s\tremaining: 151ms\n",
            "942:\tlearn: 0.0628132\ttotal: 2.45s\tremaining: 148ms\n",
            "943:\tlearn: 0.0627792\ttotal: 2.45s\tremaining: 145ms\n",
            "944:\tlearn: 0.0627496\ttotal: 2.46s\tremaining: 143ms\n",
            "945:\tlearn: 0.0626542\ttotal: 2.46s\tremaining: 140ms\n",
            "946:\tlearn: 0.0625028\ttotal: 2.46s\tremaining: 138ms\n",
            "947:\tlearn: 0.0624902\ttotal: 2.46s\tremaining: 135ms\n",
            "948:\tlearn: 0.0623975\ttotal: 2.46s\tremaining: 132ms\n",
            "949:\tlearn: 0.0623056\ttotal: 2.47s\tremaining: 130ms\n",
            "950:\tlearn: 0.0622358\ttotal: 2.47s\tremaining: 127ms\n",
            "951:\tlearn: 0.0622041\ttotal: 2.47s\tremaining: 125ms\n",
            "952:\tlearn: 0.0620692\ttotal: 2.48s\tremaining: 122ms\n",
            "953:\tlearn: 0.0619302\ttotal: 2.48s\tremaining: 119ms\n",
            "954:\tlearn: 0.0618342\ttotal: 2.48s\tremaining: 117ms\n",
            "955:\tlearn: 0.0616888\ttotal: 2.48s\tremaining: 114ms\n",
            "956:\tlearn: 0.0615568\ttotal: 2.48s\tremaining: 112ms\n",
            "957:\tlearn: 0.0615156\ttotal: 2.49s\tremaining: 109ms\n",
            "958:\tlearn: 0.0613988\ttotal: 2.49s\tremaining: 106ms\n",
            "959:\tlearn: 0.0613683\ttotal: 2.49s\tremaining: 104ms\n",
            "960:\tlearn: 0.0612604\ttotal: 2.49s\tremaining: 101ms\n",
            "961:\tlearn: 0.0611996\ttotal: 2.5s\tremaining: 98.8ms\n",
            "962:\tlearn: 0.0611199\ttotal: 2.5s\tremaining: 96.2ms\n",
            "963:\tlearn: 0.0610129\ttotal: 2.5s\tremaining: 93.6ms\n",
            "964:\tlearn: 0.0608722\ttotal: 2.51s\tremaining: 91ms\n",
            "965:\tlearn: 0.0608389\ttotal: 2.51s\tremaining: 88.3ms\n",
            "966:\tlearn: 0.0607400\ttotal: 2.51s\tremaining: 85.7ms\n",
            "967:\tlearn: 0.0607208\ttotal: 2.52s\tremaining: 83.1ms\n",
            "968:\tlearn: 0.0606051\ttotal: 2.52s\tremaining: 80.5ms\n",
            "969:\tlearn: 0.0604788\ttotal: 2.52s\tremaining: 77.9ms\n",
            "970:\tlearn: 0.0604719\ttotal: 2.52s\tremaining: 75.3ms\n",
            "971:\tlearn: 0.0604234\ttotal: 2.52s\tremaining: 72.7ms\n",
            "972:\tlearn: 0.0603293\ttotal: 2.53s\tremaining: 70.1ms\n",
            "973:\tlearn: 0.0602171\ttotal: 2.53s\tremaining: 67.5ms\n",
            "974:\tlearn: 0.0601599\ttotal: 2.53s\tremaining: 64.9ms\n",
            "975:\tlearn: 0.0600999\ttotal: 2.53s\tremaining: 62.3ms\n",
            "976:\tlearn: 0.0600309\ttotal: 2.54s\tremaining: 59.7ms\n",
            "977:\tlearn: 0.0600009\ttotal: 2.54s\tremaining: 57.1ms\n",
            "978:\tlearn: 0.0598725\ttotal: 2.54s\tremaining: 54.5ms\n",
            "979:\tlearn: 0.0598107\ttotal: 2.54s\tremaining: 51.9ms\n",
            "980:\tlearn: 0.0596872\ttotal: 2.55s\tremaining: 49.3ms\n",
            "981:\tlearn: 0.0596315\ttotal: 2.55s\tremaining: 46.7ms\n",
            "982:\tlearn: 0.0596075\ttotal: 2.55s\tremaining: 44.1ms\n",
            "983:\tlearn: 0.0595851\ttotal: 2.55s\tremaining: 41.5ms\n",
            "984:\tlearn: 0.0595142\ttotal: 2.56s\tremaining: 38.9ms\n",
            "985:\tlearn: 0.0593502\ttotal: 2.56s\tremaining: 36.3ms\n",
            "986:\tlearn: 0.0592680\ttotal: 2.56s\tremaining: 33.7ms\n",
            "987:\tlearn: 0.0591491\ttotal: 2.56s\tremaining: 31.1ms\n",
            "988:\tlearn: 0.0590180\ttotal: 2.57s\tremaining: 28.5ms\n",
            "989:\tlearn: 0.0589660\ttotal: 2.57s\tremaining: 25.9ms\n",
            "990:\tlearn: 0.0588008\ttotal: 2.57s\tremaining: 23.4ms\n",
            "991:\tlearn: 0.0586664\ttotal: 2.57s\tremaining: 20.8ms\n",
            "992:\tlearn: 0.0586069\ttotal: 2.58s\tremaining: 18.2ms\n",
            "993:\tlearn: 0.0584867\ttotal: 2.58s\tremaining: 15.6ms\n",
            "994:\tlearn: 0.0584772\ttotal: 2.58s\tremaining: 13ms\n",
            "995:\tlearn: 0.0584596\ttotal: 2.58s\tremaining: 10.4ms\n",
            "996:\tlearn: 0.0583643\ttotal: 2.59s\tremaining: 7.78ms\n",
            "997:\tlearn: 0.0582811\ttotal: 2.59s\tremaining: 5.19ms\n",
            "998:\tlearn: 0.0582300\ttotal: 2.59s\tremaining: 2.59ms\n",
            "999:\tlearn: 0.0581197\ttotal: 2.59s\tremaining: 0us\n"
          ],
          "name": "stdout"
        },
        {
          "output_type": "execute_result",
          "data": {
            "text/plain": [
              "GridSearchCV(cv=5, error_score=nan,\n",
              "             estimator=<catboost.core.CatBoostClassifier object at 0x7fe3d257d690>,\n",
              "             iid='deprecated', n_jobs=-1,\n",
              "             param_grid={'depth': [4, 5, 7],\n",
              "                         'learning_rate': [0.01, 0.02, 0.03]},\n",
              "             pre_dispatch='2*n_jobs', refit=True, return_train_score=False,\n",
              "             scoring='f1', verbose=0)"
            ]
          },
          "metadata": {
            "tags": []
          },
          "execution_count": 30
        }
      ]
    },
    {
      "cell_type": "code",
      "metadata": {
        "colab": {
          "base_uri": "https://localhost:8080/"
        },
        "id": "sXSPOGok4chy",
        "outputId": "cbb4f801-74f9-4abe-ccdf-590f755c912d"
      },
      "source": [
        "print(grid_cv.best_params_)\n",
        "print(grid_cv.best_score_)"
      ],
      "execution_count": 31,
      "outputs": [
        {
          "output_type": "stream",
          "text": [
            "{'depth': 7, 'learning_rate': 0.02}\n",
            "0.6129122731606044\n"
          ],
          "name": "stdout"
        }
      ]
    },
    {
      "cell_type": "code",
      "metadata": {
        "id": "gKR3z3x64nZT"
      },
      "source": [
        "cbc = grid_cv\n",
        "cbc_pred = cbc.predict(X_test)"
      ],
      "execution_count": 32,
      "outputs": []
    },
    {
      "cell_type": "code",
      "metadata": {
        "colab": {
          "base_uri": "https://localhost:8080/"
        },
        "id": "SbxbIMUE4tdQ",
        "outputId": "28c99e71-97d9-4e1d-f975-91a8a572f4cb"
      },
      "source": [
        "f1_score(y_test, cbc_pred)"
      ],
      "execution_count": 33,
      "outputs": [
        {
          "output_type": "execute_result",
          "data": {
            "text/plain": [
              "0.7524752475247524"
            ]
          },
          "metadata": {
            "tags": []
          },
          "execution_count": 33
        }
      ]
    },
    {
      "cell_type": "code",
      "metadata": {
        "id": "L5muTPxe4zaP"
      },
      "source": [
        ""
      ],
      "execution_count": 33,
      "outputs": []
    },
    {
      "cell_type": "markdown",
      "metadata": {
        "id": "wpvjVQaImpwP"
      },
      "source": [
        "#### 6. Perceptron"
      ]
    },
    {
      "cell_type": "code",
      "metadata": {
        "id": "wq25x0lims4D"
      },
      "source": [
        "per = Perceptron()\n",
        "param_grid = {\n",
        "    'penalty': ['l2', 'l1', 'elasticnet'],\n",
        "    'alpha': [0.0001, 0.0003, 0.001, 0.003, 0.01, 0.03, 0.1, 0.3],\n",
        "}"
      ],
      "execution_count": 56,
      "outputs": []
    },
    {
      "cell_type": "code",
      "metadata": {
        "id": "ZRhooR8fnb0m"
      },
      "source": [
        "grid_cv = GridSearchCV(per, param_grid, n_jobs=-1, cv=5, scoring=\"f1\")"
      ],
      "execution_count": 57,
      "outputs": []
    },
    {
      "cell_type": "code",
      "metadata": {
        "colab": {
          "base_uri": "https://localhost:8080/"
        },
        "id": "M54tAkZQnsfu",
        "outputId": "b716eada-933b-42a3-e0f5-52747e036cd2"
      },
      "source": [
        "grid_cv.fit(X_train, y_train)"
      ],
      "execution_count": 58,
      "outputs": [
        {
          "output_type": "execute_result",
          "data": {
            "text/plain": [
              "GridSearchCV(cv=5, error_score=nan,\n",
              "             estimator=Perceptron(alpha=0.0001, class_weight=None,\n",
              "                                  early_stopping=False, eta0=1.0,\n",
              "                                  fit_intercept=True, max_iter=1000,\n",
              "                                  n_iter_no_change=5, n_jobs=None, penalty=None,\n",
              "                                  random_state=0, shuffle=True, tol=0.001,\n",
              "                                  validation_fraction=0.1, verbose=0,\n",
              "                                  warm_start=False),\n",
              "             iid='deprecated', n_jobs=-1,\n",
              "             param_grid={'alpha': [0.0001, 0.0003, 0.001, 0.003, 0.01, 0.03,\n",
              "                                   0.1, 0.3],\n",
              "                         'penalty': ['l2', 'l1', 'elasticnet']},\n",
              "             pre_dispatch='2*n_jobs', refit=True, return_train_score=False,\n",
              "             scoring='f1', verbose=0)"
            ]
          },
          "metadata": {
            "tags": []
          },
          "execution_count": 58
        }
      ]
    },
    {
      "cell_type": "code",
      "metadata": {
        "id": "iD85_guDnxCb"
      },
      "source": [
        "per = grid_cv\n",
        "per_pred = per.predict(X_test)"
      ],
      "execution_count": 59,
      "outputs": []
    },
    {
      "cell_type": "code",
      "metadata": {
        "colab": {
          "base_uri": "https://localhost:8080/"
        },
        "id": "yNg_mPIBn3Jp",
        "outputId": "8cc555ae-2089-475c-f38d-068e114df8ed"
      },
      "source": [
        "f1_score(y_test, per_pred)"
      ],
      "execution_count": 60,
      "outputs": [
        {
          "output_type": "execute_result",
          "data": {
            "text/plain": [
              "0.5396825396825397"
            ]
          },
          "metadata": {
            "tags": []
          },
          "execution_count": 60
        }
      ]
    },
    {
      "cell_type": "markdown",
      "metadata": {
        "id": "bEVu1jugj3D8"
      },
      "source": [
        "#### 7. Multi-Layer Perceptron "
      ]
    },
    {
      "cell_type": "code",
      "metadata": {
        "id": "jMdZX2GAiq6O"
      },
      "source": [
        "mlp = MLPClassifier()\n",
        "param_grid = {\n",
        "    'hidden_layer_sizes': [(10,30,10),(20,)],\n",
        "    'activation': ['tanh', 'relu'],\n",
        "    'solver': ['sgd', 'adam'],\n",
        "    'alpha': [0.0001, 0.05],\n",
        "}"
      ],
      "execution_count": 47,
      "outputs": []
    },
    {
      "cell_type": "code",
      "metadata": {
        "id": "gwP4lE1klPLP"
      },
      "source": [
        "grid_cv = GridSearchCV(mlp, param_grid, n_jobs=-1, cv=5, scoring=\"f1\")\n"
      ],
      "execution_count": 48,
      "outputs": []
    },
    {
      "cell_type": "code",
      "metadata": {
        "colab": {
          "base_uri": "https://localhost:8080/"
        },
        "id": "5v7LiHH4lSbK",
        "outputId": "64962b17-ad43-42d7-e07b-1d14a8c7a10a"
      },
      "source": [
        "grid_cv.get_params().keys()"
      ],
      "execution_count": 49,
      "outputs": [
        {
          "output_type": "execute_result",
          "data": {
            "text/plain": [
              "dict_keys(['cv', 'error_score', 'estimator__activation', 'estimator__alpha', 'estimator__batch_size', 'estimator__beta_1', 'estimator__beta_2', 'estimator__early_stopping', 'estimator__epsilon', 'estimator__hidden_layer_sizes', 'estimator__learning_rate', 'estimator__learning_rate_init', 'estimator__max_fun', 'estimator__max_iter', 'estimator__momentum', 'estimator__n_iter_no_change', 'estimator__nesterovs_momentum', 'estimator__power_t', 'estimator__random_state', 'estimator__shuffle', 'estimator__solver', 'estimator__tol', 'estimator__validation_fraction', 'estimator__verbose', 'estimator__warm_start', 'estimator', 'iid', 'n_jobs', 'param_grid', 'pre_dispatch', 'refit', 'return_train_score', 'scoring', 'verbose'])"
            ]
          },
          "metadata": {
            "tags": []
          },
          "execution_count": 49
        }
      ]
    },
    {
      "cell_type": "code",
      "metadata": {
        "colab": {
          "base_uri": "https://localhost:8080/"
        },
        "id": "rS6wdIf0l7AD",
        "outputId": "f3d900b9-c097-4b36-aa19-e90e78c310bb"
      },
      "source": [
        "grid_cv.fit(X_train, y_train)"
      ],
      "execution_count": 50,
      "outputs": [
        {
          "output_type": "stream",
          "text": [
            "/usr/local/lib/python3.7/dist-packages/sklearn/neural_network/_multilayer_perceptron.py:571: ConvergenceWarning: Stochastic Optimizer: Maximum iterations (200) reached and the optimization hasn't converged yet.\n",
            "  % self.max_iter, ConvergenceWarning)\n"
          ],
          "name": "stderr"
        },
        {
          "output_type": "execute_result",
          "data": {
            "text/plain": [
              "GridSearchCV(cv=5, error_score=nan,\n",
              "             estimator=MLPClassifier(activation='relu', alpha=0.0001,\n",
              "                                     batch_size='auto', beta_1=0.9,\n",
              "                                     beta_2=0.999, early_stopping=False,\n",
              "                                     epsilon=1e-08, hidden_layer_sizes=(100,),\n",
              "                                     learning_rate='constant',\n",
              "                                     learning_rate_init=0.001, max_fun=15000,\n",
              "                                     max_iter=200, momentum=0.9,\n",
              "                                     n_iter_no_change=10,\n",
              "                                     nesterovs_momentum=True, power_t=0.5,\n",
              "                                     random_state=None, shuffle=True,\n",
              "                                     solver='adam', tol=0.0001,\n",
              "                                     validation_fraction=0.1, verbose=False,\n",
              "                                     warm_start=False),\n",
              "             iid='deprecated', n_jobs=-1,\n",
              "             param_grid={'activation': ['tanh', 'relu'],\n",
              "                         'alpha': [0.0001, 0.05],\n",
              "                         'hidden_layer_sizes': [(10, 30, 10), (20,)],\n",
              "                         'solver': ['sgd', 'adam']},\n",
              "             pre_dispatch='2*n_jobs', refit=True, return_train_score=False,\n",
              "             scoring='f1', verbose=0)"
            ]
          },
          "metadata": {
            "tags": []
          },
          "execution_count": 50
        }
      ]
    },
    {
      "cell_type": "code",
      "metadata": {
        "id": "qtAcOjzkl84s"
      },
      "source": [
        "mlp = grid_cv\n",
        "mlp_pred = mlp.predict(X_test)"
      ],
      "execution_count": 54,
      "outputs": []
    },
    {
      "cell_type": "code",
      "metadata": {
        "colab": {
          "base_uri": "https://localhost:8080/"
        },
        "id": "hIesCfiamiky",
        "outputId": "b655210d-33d2-48db-f88b-0575967e3d66"
      },
      "source": [
        "f1_score(y_test, mlp_pred)"
      ],
      "execution_count": 55,
      "outputs": [
        {
          "output_type": "execute_result",
          "data": {
            "text/plain": [
              "0.5168539325842697"
            ]
          },
          "metadata": {
            "tags": []
          },
          "execution_count": 55
        }
      ]
    }
  ]
}