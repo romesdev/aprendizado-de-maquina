{
 "cells": [
  {
   "cell_type": "markdown",
   "metadata": {},
   "source": [
    "## Lista de exercícios - 008\n",
    "\n",
    "### Francisco Romes da Silva Filho, 409976"
   ]
  },
  {
   "cell_type": "markdown",
   "metadata": {},
   "source": [
    "### Imports de bibliotecas"
   ]
  },
  {
   "cell_type": "code",
   "execution_count": 1,
   "metadata": {},
   "outputs": [],
   "source": [
    "import numpy as np\n",
    "import pandas as pd\n",
    "from sklearn.datasets import load_boston\n",
    "from sklearn.linear_model import Lasso\n",
    "from sklearn.linear_model import Ridge\n",
    "from sklearn.linear_model import LogisticRegression\n",
    "import matplotlib.pyplot as plt\n",
    "import seaborn as sns\n",
    "from sklearn.model_selection import train_test_split\n",
    "from sklearn.neighbors import KNeighborsClassifier\n",
    "from sklearn.preprocessing import StandardScaler\n",
    "from sklearn.preprocessing import MinMaxScaler\n",
    "from sklearn.metrics import f1_score\n",
    "from sklearn.pipeline import make_pipeline\n",
    "from sklearn.metrics import classification_report \n",
    "from sklearn.pipeline import Pipeline\n",
    "from sklearn.model_selection import cross_val_score\n",
    "from sklearn.model_selection import GridSearchCV"
   ]
  },
  {
   "cell_type": "code",
   "execution_count": 2,
   "metadata": {},
   "outputs": [],
   "source": [
    "import warnings\n",
    "warnings.filterwarnings(\"ignore\")"
   ]
  },
  {
   "cell_type": "markdown",
   "metadata": {},
   "source": [
    "### Carregando dataset"
   ]
  },
  {
   "cell_type": "code",
   "execution_count": 6,
   "metadata": {},
   "outputs": [],
   "source": [
    "X, y = load_boston(return_X_y=True)"
   ]
  },
  {
   "cell_type": "markdown",
   "metadata": {},
   "source": [
    "## 1. Dado o código a seguir (Fonte: Datacamp - Curso Supervised Learning with scikit-learn), use a regressão Lasso, que usa regularização L1, sobre o dataset Boston House Prices (sklearn.datasets.load_boston) para:"
   ]
  },
  {
   "cell_type": "code",
   "execution_count": 10,
   "metadata": {},
   "outputs": [
    {
     "data": {
      "text/plain": [
       "0.5950229535328551"
      ]
     },
     "execution_count": 10,
     "metadata": {},
     "output_type": "execute_result"
    }
   ],
   "source": [
    "X_train, X_test, y_train, y_test = train_test_split(X, y, test_size = 0.3, random_state=42)\n",
    "lasso = Lasso(alpha=0.1, normalize=True)\n",
    "lasso.fit(X_train, y_train)\n",
    "lasso_pred = lasso.predict(X_test)\n",
    "lasso.score(X_test, y_test)"
   ]
  },
  {
   "cell_type": "markdown",
   "metadata": {},
   "source": [
    "### a) Mostre os coeficientes para alpha=0.1 e normalize=True. Mostre também para normalize=False.\n"
   ]
  },
  {
   "cell_type": "code",
   "execution_count": 11,
   "metadata": {},
   "outputs": [
    {
     "data": {
      "text/plain": [
       "0.5950229535328551"
      ]
     },
     "execution_count": 11,
     "metadata": {},
     "output_type": "execute_result"
    }
   ],
   "source": [
    "lasso = Lasso(alpha=0.1, normalize=True)\n",
    "lasso.fit(X_train, y_train)\n",
    "lasso_pred = lasso.predict(X_test)\n",
    "lasso.score(X_test, y_test)"
   ]
  },
  {
   "cell_type": "code",
   "execution_count": 12,
   "metadata": {},
   "outputs": [
    {
     "name": "stdout",
     "output_type": "stream",
     "text": [
      "Coeficientes para alpha=0.1 e normalize=True.\n",
      "[-0.          0.         -0.          0.         -0.          3.18852894\n",
      " -0.         -0.         -0.         -0.         -0.3066901   0.\n",
      " -0.48666476]\n"
     ]
    }
   ],
   "source": [
    "## coef_\n",
    "print(\"Coeficientes para alpha=0.1 e normalize=True.\")\n",
    "print(lasso.coef_)"
   ]
  },
  {
   "cell_type": "code",
   "execution_count": 13,
   "metadata": {},
   "outputs": [
    {
     "data": {
      "text/plain": [
       "0.6918147952283058"
      ]
     },
     "execution_count": 13,
     "metadata": {},
     "output_type": "execute_result"
    }
   ],
   "source": [
    "lasso = Lasso(alpha=0.1, normalize=False)\n",
    "lasso.fit(X_train, y_train)\n",
    "lasso_pred = lasso.predict(X_test)\n",
    "lasso.score(X_test, y_test)"
   ]
  },
  {
   "cell_type": "code",
   "execution_count": 14,
   "metadata": {},
   "outputs": [
    {
     "name": "stdout",
     "output_type": "stream",
     "text": [
      "Coeficientes para alpha=0.1 e normalize=False.\n",
      "[-1.22854422e-01  3.86385849e-02 -4.97188385e-04  1.48353759e+00\n",
      " -0.00000000e+00  3.89367421e+00 -1.96048179e-02 -1.10561397e+00\n",
      "  2.16673479e-01 -1.05844004e-02 -7.44014516e-01  1.23959059e-02\n",
      " -6.02281637e-01]\n"
     ]
    }
   ],
   "source": [
    "## coef_\n",
    "print(\"Coeficientes para alpha=0.1 e normalize=False.\")\n",
    "print(lasso.coef_)"
   ]
  },
  {
   "cell_type": "markdown",
   "metadata": {},
   "source": [
    "### b) Mostre os coeficientes para alpha=0.4 e normalize=True. Mostre também para normalize=False.\n"
   ]
  },
  {
   "cell_type": "code",
   "execution_count": 15,
   "metadata": {},
   "outputs": [
    {
     "data": {
      "text/plain": [
       "-0.03469753992352409"
      ]
     },
     "execution_count": 15,
     "metadata": {},
     "output_type": "execute_result"
    }
   ],
   "source": [
    "lasso = Lasso(alpha=0.4, normalize=True)\n",
    "lasso.fit(X_train, y_train)\n",
    "lasso_pred = lasso.predict(X_test)\n",
    "lasso.score(X_test, y_test)"
   ]
  },
  {
   "cell_type": "code",
   "execution_count": 16,
   "metadata": {},
   "outputs": [
    {
     "name": "stdout",
     "output_type": "stream",
     "text": [
      "Coeficientes para alpha=0.4 e normalize=True.\n",
      "[-0.  0. -0.  0. -0.  0. -0.  0. -0. -0. -0.  0. -0.]\n"
     ]
    }
   ],
   "source": [
    "## coef_\n",
    "print(\"Coeficientes para alpha=0.4 e normalize=True.\")\n",
    "print(lasso.coef_)"
   ]
  },
  {
   "cell_type": "code",
   "execution_count": 17,
   "metadata": {},
   "outputs": [
    {
     "data": {
      "text/plain": [
       "0.6868261870937583"
      ]
     },
     "execution_count": 17,
     "metadata": {},
     "output_type": "execute_result"
    }
   ],
   "source": [
    "lasso = Lasso(alpha=0.4, normalize=False)\n",
    "lasso.fit(X_train, y_train)\n",
    "lasso_pred = lasso.predict(X_test)\n",
    "lasso.score(X_test, y_test)"
   ]
  },
  {
   "cell_type": "code",
   "execution_count": 18,
   "metadata": {},
   "outputs": [
    {
     "name": "stdout",
     "output_type": "stream",
     "text": [
      "Coeficientes para alpha=0.4 e normalize=False.\n",
      "[-0.11576163  0.0382639  -0.          0.         -0.          3.02904787\n",
      " -0.00594293 -0.94591883  0.21832368 -0.0105426  -0.73995647  0.01213879\n",
      " -0.66980952]\n"
     ]
    }
   ],
   "source": [
    "## coef_\n",
    "print(\"Coeficientes para alpha=0.4 e normalize=False.\")\n",
    "print(lasso.coef_)"
   ]
  },
  {
   "cell_type": "markdown",
   "metadata": {},
   "source": [
    "### c) Houve feature(s) removida(s) em alguma configuração acima? Qual(is)?\n",
    "\n"
   ]
  },
  {
   "cell_type": "markdown",
   "metadata": {},
   "source": [
    "## 2. Dado o código a seguir (Fonte: Datacamp - Curso Supervised Learning with scikit-learn), use a regressão Ridge, que usa regularização L2, sobre o dataset Boston House Prices (sklearn.datasets.load_boston) para:"
   ]
  },
  {
   "cell_type": "code",
   "execution_count": 19,
   "metadata": {},
   "outputs": [
    {
     "data": {
      "text/plain": [
       "'\\n\\n(...)\\nfrom sklearn.linear_model import Ridge\\n(...)\\nX_train, X_test, y_train, y_test = train_test_split(X, y, test_size = 0.3, random_state=42)\\nridge = Ridge(alpha=0.1, normalize=True)\\nridge.fit(X_train, y_train)\\nridge_pred = ridge.predict(X_test)\\nridge.score(X_test, y_test)\\n\\n'"
      ]
     },
     "execution_count": 19,
     "metadata": {},
     "output_type": "execute_result"
    }
   ],
   "source": [
    "\"\"\"\n",
    "\n",
    "(...)\n",
    "from sklearn.linear_model import Ridge\n",
    "(...)\n",
    "X_train, X_test, y_train, y_test = train_test_split(X, y, test_size = 0.3, random_state=42)\n",
    "ridge = Ridge(alpha=0.1, normalize=True)\n",
    "ridge.fit(X_train, y_train)\n",
    "ridge_pred = ridge.predict(X_test)\n",
    "ridge.score(X_test, y_test)\n",
    "\n",
    "\"\"\""
   ]
  },
  {
   "cell_type": "markdown",
   "metadata": {},
   "source": [
    "### a) Adapte o código acima para mostrar em um gráfico os scores (R^2) sobre o conjunto de teste para os seguintes valores de alpha: [1.e-04, 1.e-03, 1.e-02, 1.e-01, 1.e+00]. Use normalize=True. Esses valores de alpha podem ser facilmente obtidos no numpy usando: valores_alpha = np.logspace(-4, 0, 5)."
   ]
  },
  {
   "cell_type": "code",
   "execution_count": 20,
   "metadata": {},
   "outputs": [
    {
     "data": {
      "text/plain": [
       "array([1.e-04, 1.e-03, 1.e-02, 1.e-01, 1.e+00])"
      ]
     },
     "execution_count": 20,
     "metadata": {},
     "output_type": "execute_result"
    }
   ],
   "source": [
    "valores_alpha = np.logspace(-4, 0, 5)\n",
    "valores_alpha"
   ]
  },
  {
   "cell_type": "code",
   "execution_count": 21,
   "metadata": {},
   "outputs": [],
   "source": [
    "r2_scores = []\n",
    "for alpha in valores_alpha:\n",
    "    ridge = Ridge(alpha=alpha, normalize=True)\n",
    "    ridge.fit(X_train, y_train)\n",
    "    ridge_pred = ridge.predict(X_test)\n",
    "    r2 = ridge.score(X_test, y_test)\n",
    "    r2_scores.append(r2)\n"
   ]
  },
  {
   "cell_type": "code",
   "execution_count": 22,
   "metadata": {},
   "outputs": [
    {
     "data": {
      "image/png": "[encoded data removed]",
      "text/plain": [
       "<Figure size 432x288 with 1 Axes>"
      ]
     },
     "metadata": {
      "needs_background": "light"
     },
     "output_type": "display_data"
    }
   ],
   "source": [
    "ax = sns.barplot(valores_alpha, r2_scores)\n",
    "for p in ax.patches:\n",
    "    ax.annotate(\n",
    "        f'{p.get_height():2f}', \n",
    "        (p.get_x() + p.get_width() / 2., p.get_height()), \n",
    "        ha = 'center', va = 'center', \n",
    "        xytext = (0, -20), textcoords = 'offset points'\n",
    "    )\n",
    "plt.xlabel('Alpha')\n",
    "plt.ylabel('R2 Score')\n",
    "plt.title('Resultados para cada valor de Alpha')\n",
    "plt.show()"
   ]
  },
  {
   "cell_type": "markdown",
   "metadata": {},
   "source": [
    "### b) Mostre o mesmo para normalize=False.\n"
   ]
  },
  {
   "cell_type": "code",
   "execution_count": 23,
   "metadata": {},
   "outputs": [],
   "source": [
    "r2_scores = []\n",
    "for alpha in valores_alpha:\n",
    "    ridge = Ridge(alpha=alpha, normalize=False)\n",
    "    ridge.fit(X_train, y_train)\n",
    "    ridge_pred = ridge.predict(X_test)\n",
    "    r2 = ridge.score(X_test, y_test)\n",
    "    r2_scores.append(r2)"
   ]
  },
  {
   "cell_type": "code",
   "execution_count": 24,
   "metadata": {},
   "outputs": [
    {
     "data": {
      "image/png": "[encoded data removed]",
      "text/plain": [
       "<Figure size 432x288 with 1 Axes>"
      ]
     },
     "metadata": {
      "needs_background": "light"
     },
     "output_type": "display_data"
    }
   ],
   "source": [
    "ax = sns.barplot(valores_alpha, r2_scores)\n",
    "for p in ax.patches:\n",
    "    ax.annotate(\n",
    "        f'{p.get_height():2f}', \n",
    "        (p.get_x() + p.get_width() / 2., p.get_height()), \n",
    "        ha = 'center', va = 'center', \n",
    "        xytext = (0, -20), textcoords = 'offset points'\n",
    "    )\n",
    "plt.xlabel('Alpha')\n",
    "plt.ylabel('R2 Score')\n",
    "plt.title('Resultados para cada valor de Alpha')\n",
    "plt.show()"
   ]
  },
  {
   "cell_type": "markdown",
   "metadata": {},
   "source": [
    "### c) Agora pegue os hiperparâmetros do melhor resultado que você obteve. Treine um novo modelo usando-os, mas mudando agora a quantidade de épocas (hiperparâmetro max_iter) para apenas 10 (o valor default é 1000). Qual o score R^2 sobre o conjunto de teste para o novo modelo?"
   ]
  },
  {
   "cell_type": "code",
   "execution_count": 25,
   "metadata": {},
   "outputs": [],
   "source": [
    "parameters = {'alpha': valores_alpha, 'normalize': [True, False] }\n",
    "ridge = Ridge()"
   ]
  },
  {
   "cell_type": "code",
   "execution_count": 26,
   "metadata": {},
   "outputs": [],
   "source": [
    "gv = GridSearchCV(ridge, parameters)"
   ]
  },
  {
   "cell_type": "code",
   "execution_count": 27,
   "metadata": {},
   "outputs": [
    {
     "data": {
      "text/plain": [
       "GridSearchCV(estimator=Ridge(),\n",
       "             param_grid={'alpha': array([1.e-04, 1.e-03, 1.e-02, 1.e-01, 1.e+00]),\n",
       "                         'normalize': [True, False]})"
      ]
     },
     "execution_count": 27,
     "metadata": {},
     "output_type": "execute_result"
    }
   ],
   "source": [
    "gv.fit(X_train, y_train)"
   ]
  },
  {
   "cell_type": "code",
   "execution_count": 28,
   "metadata": {},
   "outputs": [
    {
     "data": {
      "text/plain": [
       "Ridge(alpha=0.1, normalize=True)"
      ]
     },
     "execution_count": 28,
     "metadata": {},
     "output_type": "execute_result"
    }
   ],
   "source": [
    "gv.best_estimator_"
   ]
  },
  {
   "cell_type": "code",
   "execution_count": 29,
   "metadata": {},
   "outputs": [
    {
     "name": "stdout",
     "output_type": "stream",
     "text": [
      "R2 score:  0.6996938275127313\n"
     ]
    }
   ],
   "source": [
    "### Melhor modelo\n",
    "ridge = Ridge(alpha=0.1, normalize=True, max_iter=10)\n",
    "ridge.fit(X_train, y_train)\n",
    "ridge_pred = ridge.predict(X_test)\n",
    "print(\"R2 score: \", ridge.score(X_test, y_test))\n"
   ]
  },
  {
   "cell_type": "markdown",
   "metadata": {},
   "source": [
    "## 3. Resolva o problema de classificação binária sobre o dataset \"Pima Indians Diabetes Database (link alternativo no Kaggle)\". \n",
    "\n"
   ]
  },
  {
   "cell_type": "code",
   "execution_count": 30,
   "metadata": {},
   "outputs": [
    {
     "name": "stdout",
     "output_type": "stream",
     "text": [
      "Forma do dataset:  9  features e  768  amostras!\n"
     ]
    }
   ],
   "source": [
    "data = pd.read_csv('diabetes.csv')\n",
    "print(\"Forma do dataset: \", data.shape[1], \" features e \", data.shape[0], \" amostras!\")"
   ]
  },
  {
   "cell_type": "markdown",
   "metadata": {},
   "source": [
    "### 1. Separe os dados em treino (80%) e teste (20%)."
   ]
  },
  {
   "cell_type": "code",
   "execution_count": 31,
   "metadata": {},
   "outputs": [],
   "source": [
    "X = data.drop(['Outcome'], axis=1)\n",
    "y = data['Outcome']"
   ]
  },
  {
   "cell_type": "code",
   "execution_count": 32,
   "metadata": {},
   "outputs": [],
   "source": [
    "X_train, X_test, y_train, y_test = train_test_split(X, y, test_size=0.2, random_state=0, stratify=y)"
   ]
  },
  {
   "cell_type": "markdown",
   "metadata": {},
   "source": [
    "### 2. Use o algoritmo LogisticRegression.\n"
   ]
  },
  {
   "cell_type": "markdown",
   "metadata": {},
   "source": [
    "### Crie modelos usando diferentes regularizações: Nenhuma, L1, L2, ElasticNet (penalty : None, ‘l2’ or ‘l1’ or ‘elasticnet’).\n"
   ]
  },
  {
   "cell_type": "code",
   "execution_count": 33,
   "metadata": {},
   "outputs": [],
   "source": [
    "#l1\n",
    "lr_scores = []\n",
    "l1_coef = []\n",
    "l1_classes = []\n",
    "\n",
    "for alpha in valores_alpha:\n",
    "        lr = LogisticRegression(penalty='l1', C=1/alpha, solver='liblinear')\n",
    "        lr.fit(X_train, y_train)\n",
    "        lr_pred = lr.predict(X_test)\n",
    "        acc = lr.score(X_test, y_test)\n",
    "        lr_scores.append(acc)\n",
    "        l1_classes.append(lr.classes_)\n",
    "        l1_coef.append(lr.coef_)"
   ]
  },
  {
   "cell_type": "markdown",
   "metadata": {},
   "source": [
    "#### Acurácia "
   ]
  },
  {
   "cell_type": "code",
   "execution_count": 34,
   "metadata": {},
   "outputs": [
    {
     "data": {
      "text/plain": [
       "[0.7792207792207793,\n",
       " 0.7792207792207793,\n",
       " 0.7792207792207793,\n",
       " 0.7792207792207793,\n",
       " 0.7857142857142857]"
      ]
     },
     "execution_count": 34,
     "metadata": {},
     "output_type": "execute_result"
    }
   ],
   "source": [
    "lr_scores"
   ]
  },
  {
   "cell_type": "markdown",
   "metadata": {},
   "source": [
    "#### Coeficientes"
   ]
  },
  {
   "cell_type": "code",
   "execution_count": 35,
   "metadata": {},
   "outputs": [
    {
     "data": {
      "text/plain": [
       "[array([[ 1.16143980e-01,  3.13932020e-02, -1.21099700e-02,\n",
       "         -2.18447716e-03, -4.57608618e-04,  8.24545992e-02,\n",
       "          9.10773839e-01,  2.04131248e-02]]),\n",
       " array([[ 1.16138612e-01,  3.14208438e-02, -1.21034307e-02,\n",
       "         -2.18750760e-03, -4.59872025e-04,  8.26040149e-02,\n",
       "          9.11528871e-01,  2.04485101e-02]]),\n",
       " array([[ 1.16107655e-01,  3.14054642e-02, -1.21095057e-02,\n",
       "         -2.18446824e-03, -4.58452771e-04,  8.25301264e-02,\n",
       "          9.10045539e-01,  2.04324463e-02]]),\n",
       " array([[ 1.15723653e-01,  3.12387079e-02, -1.21877012e-02,\n",
       "         -2.13828738e-03, -4.44500634e-04,  8.17496452e-02,\n",
       "          8.95580675e-01,  2.02725373e-02]]),\n",
       " array([[ 1.12521688e-01,  2.98005215e-02, -1.29111569e-02,\n",
       "         -1.73291919e-03, -3.19963344e-04,  7.50257652e-02,\n",
       "          7.60252087e-01,  1.88082893e-02]])]"
      ]
     },
     "execution_count": 35,
     "metadata": {},
     "output_type": "execute_result"
    }
   ],
   "source": [
    "l1_coef"
   ]
  },
  {
   "cell_type": "code",
   "execution_count": 36,
   "metadata": {},
   "outputs": [],
   "source": [
    "#l2\n",
    "lr_scores = []\n",
    "l2_coef = []\n",
    "for alpha in valores_alpha:\n",
    "        lr = LogisticRegression(penalty='l2', C=1/alpha, solver='liblinear')\n",
    "        lr.fit(X_train, y_train)\n",
    "        lr_pred = lr.predict(X_test)\n",
    "        acc = lr.score(X_test, y_test)\n",
    "        lr_scores.append(acc)\n",
    "        l2_coef.append(lr.coef_)"
   ]
  },
  {
   "cell_type": "markdown",
   "metadata": {},
   "source": [
    "#### Acurácia"
   ]
  },
  {
   "cell_type": "code",
   "execution_count": 37,
   "metadata": {},
   "outputs": [
    {
     "data": {
      "text/plain": [
       "[0.7792207792207793,\n",
       " 0.7792207792207793,\n",
       " 0.7792207792207793,\n",
       " 0.7857142857142857,\n",
       " 0.7922077922077922]"
      ]
     },
     "execution_count": 37,
     "metadata": {},
     "output_type": "execute_result"
    }
   ],
   "source": [
    "lr_scores"
   ]
  },
  {
   "cell_type": "markdown",
   "metadata": {},
   "source": [
    "#### Coeficientes"
   ]
  },
  {
   "cell_type": "code",
   "execution_count": 38,
   "metadata": {},
   "outputs": [
    {
     "data": {
      "text/plain": [
       "[array([[ 1.16146678e-01,  3.14293964e-02, -1.21009523e-02,\n",
       "         -2.19112553e-03, -4.60460661e-04,  8.26451874e-02,\n",
       "          9.11731118e-01,  2.04561875e-02]]),\n",
       " array([[ 1.16022172e-01,  3.13832403e-02, -1.21255159e-02,\n",
       "         -2.17382167e-03, -4.56964168e-04,  8.24192650e-02,\n",
       "          9.07923392e-01,  2.04122298e-02]]),\n",
       " array([[ 1.15772207e-01,  3.12493781e-02, -1.21964228e-02,\n",
       "         -2.15037654e-03, -4.45908658e-04,  8.17520302e-02,\n",
       "          8.99375477e-01,  2.02674746e-02]]),\n",
       " array([[ 1.14719440e-01,  3.02491967e-02, -1.27355343e-02,\n",
       "         -2.03399501e-03, -3.72316145e-04,  7.71980661e-02,\n",
       "          8.64512573e-01,  1.91069191e-02]]),\n",
       " array([[ 1.08712188e-01,  2.43990118e-02, -1.61901284e-02,\n",
       "         -1.33802870e-03,  8.29212690e-05,  5.08044307e-02,\n",
       "          6.34894264e-01,  1.21820566e-02]])]"
      ]
     },
     "execution_count": 38,
     "metadata": {},
     "output_type": "execute_result"
    }
   ],
   "source": [
    "l2_coef"
   ]
  },
  {
   "cell_type": "code",
   "execution_count": 39,
   "metadata": {},
   "outputs": [],
   "source": [
    "#elasticnet\n",
    "lr_scores = []\n",
    "el_coef = []\n",
    "for alpha in valores_alpha:\n",
    "        lr = LogisticRegression(penalty='elasticnet', C=1/alpha, solver='saga', l1_ratio=1)\n",
    "        lr.fit(X_train, y_train)\n",
    "        lr_pred = lr.predict(X_test)\n",
    "        acc = lr.score(X_test, y_test)\n",
    "        lr_scores.append(acc)\n",
    "        el_coef.append(lr.coef_)"
   ]
  },
  {
   "cell_type": "markdown",
   "metadata": {},
   "source": [
    "#### Acurácia"
   ]
  },
  {
   "cell_type": "code",
   "execution_count": 40,
   "metadata": {},
   "outputs": [
    {
     "data": {
      "text/plain": [
       "[0.6883116883116883,\n",
       " 0.6883116883116883,\n",
       " 0.6883116883116883,\n",
       " 0.6883116883116883,\n",
       " 0.6883116883116883]"
      ]
     },
     "execution_count": 40,
     "metadata": {},
     "output_type": "execute_result"
    }
   ],
   "source": [
    "lr_scores"
   ]
  },
  {
   "cell_type": "markdown",
   "metadata": {},
   "source": [
    "#### Coeficientes"
   ]
  },
  {
   "cell_type": "code",
   "execution_count": 41,
   "metadata": {},
   "outputs": [
    {
     "data": {
      "text/plain": [
       "[array([[ 0.02907755,  0.01073679, -0.02835187, -0.0004381 ,  0.00126065,\n",
       "         -0.00682352,  0.00113671,  0.00608514]]),\n",
       " array([[ 0.02923222,  0.01075199, -0.02832755, -0.00039987,  0.00125966,\n",
       "         -0.00696214,  0.00107959,  0.00607392]]),\n",
       " array([[ 0.02901487,  0.01074035, -0.02834609, -0.00042629,  0.00126141,\n",
       "         -0.00686535,  0.00109774,  0.00609986]]),\n",
       " array([[ 0.02902456,  0.01073781, -0.02834438, -0.0004358 ,  0.00126115,\n",
       "         -0.0068331 ,  0.00107799,  0.00608125]]),\n",
       " array([[ 0.02909045,  0.01073242, -0.02831858, -0.00040951,  0.00125863,\n",
       "         -0.00681212,  0.00085433,  0.0060148 ]])]"
      ]
     },
     "execution_count": 41,
     "metadata": {},
     "output_type": "execute_result"
    }
   ],
   "source": [
    "el_coef"
   ]
  },
  {
   "cell_type": "code",
   "execution_count": 42,
   "metadata": {},
   "outputs": [],
   "source": [
    "#none\n",
    "lr_scores = []\n",
    "none_coef = []\n",
    "for alpha in valores_alpha:\n",
    "        lr = LogisticRegression(penalty='none', C=1/alpha)\n",
    "        lr.fit(X_train, y_train)\n",
    "        lr_pred = lr.predict(X_test)\n",
    "        acc = lr.score(X_test, y_test)\n",
    "        lr_scores.append(acc)\n",
    "        none_coef.append(none_coef)"
   ]
  },
  {
   "cell_type": "markdown",
   "metadata": {},
   "source": [
    "#### Acurácia "
   ]
  },
  {
   "cell_type": "code",
   "execution_count": 43,
   "metadata": {},
   "outputs": [
    {
     "data": {
      "text/plain": [
       "[0.7987012987012987,\n",
       " 0.7987012987012987,\n",
       " 0.7987012987012987,\n",
       " 0.7987012987012987,\n",
       " 0.7987012987012987]"
      ]
     },
     "execution_count": 43,
     "metadata": {},
     "output_type": "execute_result"
    }
   ],
   "source": [
    "lr_scores"
   ]
  },
  {
   "cell_type": "markdown",
   "metadata": {},
   "source": [
    "#### Coeficientes"
   ]
  },
  {
   "cell_type": "code",
   "execution_count": 44,
   "metadata": {},
   "outputs": [
    {
     "data": {
      "text/plain": [
       "[[...], [...], [...], [...], [...]]"
      ]
     },
     "execution_count": 44,
     "metadata": {},
     "output_type": "execute_result"
    }
   ],
   "source": [
    "none_coef"
   ]
  },
  {
   "cell_type": "code",
   "execution_count": null,
   "metadata": {},
   "outputs": [],
   "source": []
  }
 ],
 "metadata": {
  "kernelspec": {
   "display_name": "Python 3",
   "language": "python",
   "name": "python3"
  },
  "language_info": {
   "codemirror_mode": {
    "name": "ipython",
    "version": 3
   },
   "file_extension": ".py",
   "mimetype": "text/x-python",
   "name": "python",
   "nbconvert_exporter": "python",
   "pygments_lexer": "ipython3",
   "version": "3.8.5"
  }
 },
 "nbformat": 4,
 "nbformat_minor": 4
}
